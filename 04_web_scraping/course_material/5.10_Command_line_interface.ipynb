{
 "cells": [
  {
   "cell_type": "markdown",
   "metadata": {},
   "source": [
    "## CLI"
   ]
  },
  {
   "cell_type": "markdown",
   "metadata": {},
   "source": [
    "### CLI vs GUI\n",
    "Command Line Interface vs. Graphical User Interface\n",
    "\n",
    "Examples for CLIs\n",
    "- Terminal \n",
    "- Shell (opening a window in my computer)\n",
    "- git Bash\n"
   ]
  },
  {
   "cell_type": "code",
   "execution_count": 1,
   "metadata": {},
   "outputs": [
    {
     "ename": "SyntaxError",
     "evalue": "invalid syntax (<ipython-input-1-08b2b530411a>, line 3)",
     "output_type": "error",
     "traceback": [
      "\u001b[0;36m  File \u001b[0;32m\"<ipython-input-1-08b2b530411a>\"\u001b[0;36m, line \u001b[0;32m3\u001b[0m\n\u001b[0;31m    bash - born again shell\u001b[0m\n\u001b[0m                    ^\u001b[0m\n\u001b[0;31mSyntaxError\u001b[0m\u001b[0;31m:\u001b[0m invalid syntax\n"
     ]
    }
   ],
   "source": [
    "# figlet package, | lolcat\n",
    "bashrc\n",
    "bash - born again shell\n",
    "bashrc allows to costumize my shell\n",
    "open bashrc with nano\n"
   ]
  },
  {
   "cell_type": "markdown",
   "metadata": {},
   "source": [
    "bashrc tells my shell all of the costumizations i want to use\n",
    "- ignore the stuff that it is already in there\n",
    "- custumize it for your own purpuses\n",
    "\n",
    "\n",
    "change sth e.g. add conda enviroments\n",
    "and then add this\n",
    "echo HELLO WORLD\n",
    "\n",
    "then the new tab is openend in a new virtual environemnt\n",
    "\n",
    "sometimes parts of your code does not talk to other code\n",
    "\n",
    "always create a new Virtual environment when you create a new project, ask Theo ;> is bashrc the some like bashprofile what i have?\n",
    "\n",
    "we will need different environemnts, since eg. tensorflow might fuck up with torch\n",
    "\n",
    "\n",
    "pipe chaining\n",
    "greater sign = passing into sometingine lse›\n"
   ]
  },
  {
   "cell_type": "code",
   "execution_count": null,
   "metadata": {},
   "outputs": [],
   "source": [
    "nano argparsing_1.py\n",
    "\n",
    "\n",
    "type in the file\n",
    "\n",
    "import sys\n",
    "print(sys.argv)\n",
    "\n",
    "in bash:\n",
    "    python argparsing_1.py #pyhon is keyword to run sth in python\n",
    "    \n",
    "\n",
    "\n",
    "\n",
    "\n"
   ]
  }
 ],
 "metadata": {
  "kernelspec": {
   "display_name": "Python 3",
   "language": "python",
   "name": "python3"
  },
  "language_info": {
   "codemirror_mode": {
    "name": "ipython",
    "version": 3
   },
   "file_extension": ".py",
   "mimetype": "text/x-python",
   "name": "python",
   "nbconvert_exporter": "python",
   "pygments_lexer": "ipython3",
   "version": "3.7.6"
  }
 },
 "nbformat": 4,
 "nbformat_minor": 4
}
