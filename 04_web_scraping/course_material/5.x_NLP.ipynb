{
 "cells": [
  {
   "cell_type": "markdown",
   "metadata": {},
   "source": [
    "### NLP - Natural Language Processing"
   ]
  },
  {
   "cell_type": "markdown",
   "metadata": {},
   "source": [
    "| <p style=\"font-size: 15px\">Language Representation</p>      | <p style=\"font-size: 15px\">Sequence Generation</p>  | <p style=\"font-size: 15px\">Sequence Classification</p> \n",
    "| ----------- | ----------- |----------- |\n",
    "| <p style=\"font-size: 15px\">Word vectors</p>      | <p style=\"font-size: 15px\">Chatbots</p>       | <p style=\"font-size: 15px\">Sentiment Analysis</p>       \n",
    "| <p style=\"font-size: 15px\"></p>      | <p style=\"font-size: 15px\">Machine Translation</p>       | <p style=\"font-size: 15px\">Speech recognition *SST-TTS*</p>\n",
    "| <p style=\"font-size: 15px\"></p>      | <p style=\"font-size: 15px\">Question Answering in Google</p>       | <p style=\"font-size: 15px\">Named Entity Recognition *'Apple (company) vs Apple (the fruit)'*</p>\n",
    "| <p style=\"font-size: 15px\"></p>      | <p style=\"font-size: 15px\">Information Summarisation</p>       | <p style=\"font-size: 15px\">Dependency Grammer</p>\n",
    "| <p style=\"font-size: 15px\"></p>      | <p style=\"font-size: 15px\"></p>       | <p style=\"font-size: 15px\">Relation Extraction</p>\n",
    "| <p style=\"font-size: 15px\"></p>      | <p style=\"font-size: 15px\"></p>       | <p style=\"font-size: 15px\">'Grammarly' model</p>\n",
    "| <p style=\"font-size: 15px\"></p>      | <p style=\"font-size: 15px\"></p>       | <p style=\"font-size: 15px\">Question Answering in Deep Learning</p>\n",
    "| <p style=\"font-size: 15px\"></p>      | <p style=\"font-size: 15px\"></p>       | <p style=\"font-size: 15px\">Language Reasoning</p>"
   ]
  },
  {
   "cell_type": "code",
   "execution_count": null,
   "metadata": {},
   "outputs": [],
   "source": []
  }
 ],
 "metadata": {
  "kernelspec": {
   "display_name": "Python 3",
   "language": "python",
   "name": "python3"
  },
  "language_info": {
   "codemirror_mode": {
    "name": "ipython",
    "version": 3
   },
   "file_extension": ".py",
   "mimetype": "text/x-python",
   "name": "python",
   "nbconvert_exporter": "python",
   "pygments_lexer": "ipython3",
   "version": "3.7.6"
  }
 },
 "nbformat": 4,
 "nbformat_minor": 4
}
