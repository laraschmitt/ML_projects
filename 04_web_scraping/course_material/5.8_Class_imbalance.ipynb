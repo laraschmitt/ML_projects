{
 "cells": [
  {
   "cell_type": "markdown",
   "metadata": {},
   "source": [
    "## Class imbalance"
   ]
  },
  {
   "cell_type": "markdown",
   "metadata": {},
   "source": [
    "### What is it?\n",
    "At least one of the classes in a classification problem is strongly over-or underrepresented. (We are interest in the labels, y)\n",
    "\n",
    "### Why do we care?\n",
    "If there is significant class imbalance, the model cannot or does not have the incentive to actually learn anything about the data."
   ]
  },
  {
   "cell_type": "markdown",
   "metadata": {},
   "source": [
    "Example Credit Card Fraud:\n",
    "- most of the transactions will not be fradulent\n",
    "- there will only be a very tiny fraction of transactions that are actually fradulent\n",
    "- what easily can happen is that the model has a strong incentive to classify an observation as non-fradulent. The model will be punished for every wrong classification. If almost all observations belong to one class, the model can avoid most of the punishment by strongly learning towards the majority class\n",
    "\n",
    "### What can we do about it?\n",
    "- collect more data? --> does generally not help for the class imbalance\n",
    "- add some weights to the classes. Punish a misclassification of the minority class stronger than a misclassification of the majority class (sklearn models partly have a parameter class_weights)\n",
    "- drop some datapoints from the majority class --> undersampling\n"
   ]
  },
  {
   "cell_type": "code",
   "execution_count": null,
   "metadata": {},
   "outputs": [],
   "source": []
  }
 ],
 "metadata": {
  "kernelspec": {
   "display_name": "Python 3",
   "language": "python",
   "name": "python3"
  },
  "language_info": {
   "codemirror_mode": {
    "name": "ipython",
    "version": 3
   },
   "file_extension": ".py",
   "mimetype": "text/x-python",
   "name": "python",
   "nbconvert_exporter": "python",
   "pygments_lexer": "ipython3",
   "version": "3.7.6"
  }
 },
 "nbformat": 4,
 "nbformat_minor": 4
}
