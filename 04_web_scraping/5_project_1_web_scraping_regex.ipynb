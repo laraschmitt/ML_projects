{
 "cells": [
  {
   "cell_type": "markdown",
   "metadata": {},
   "source": [
    "## Text classification model"
   ]
  },
  {
   "cell_type": "markdown",
   "metadata": {},
   "source": [
    "Build a text classification model to predict the artist from a piece of text.\n",
    "\n",
    "- Download HTML pages\n",
    "- Get a list of song urls\n",
    "- Extract lyrics from song urls\n",
    "- Convert text to numbers by applying the Bag Of Words method\n",
    "- Build and train a Naive Bayes classifier\n",
    "- Balance out your dataset\n",
    "- Write a command-line interface"
   ]
  },
  {
   "cell_type": "code",
   "execution_count": 1,
   "metadata": {},
   "outputs": [],
   "source": [
    "import requests"
   ]
  },
  {
   "cell_type": "markdown",
   "metadata": {},
   "source": [
    "### Find Song Links\n",
    "- Choose 2 artists you want to work with this week\n",
    "- Request their webpages\n",
    "- Save them in an html file on your computer\n",
    "- Use your browser and its development tools and a text editor, try to find patterns in the html file that would allow you to extract the song names and the links to the song pages\n",
    "- extract all links using **Regular Expressions**"
   ]
  },
  {
   "cell_type": "code",
   "execution_count": 2,
   "metadata": {},
   "outputs": [
    {
     "data": {
      "text/plain": [
       "requests.models.Response"
      ]
     },
     "execution_count": 2,
     "metadata": {},
     "output_type": "execute_result"
    }
   ],
   "source": [
    "bastille = requests.get('https://www.lyrics.com/artist/Bastille-/2528804')\n",
    "rolling = requests.get('https://www.lyrics.com/artist/Rolling-Blackouts-Coastal-Fever/3130583')\n",
    "cohen = requests.get('https://www.lyrics.com/artist/Leonard-Cohen/1948')\n",
    "type(bastille)"
   ]
  },
  {
   "cell_type": "code",
   "execution_count": 3,
   "metadata": {},
   "outputs": [],
   "source": [
    "# requests.text will return the html file of the website as a string"
   ]
  },
  {
   "cell_type": "code",
   "execution_count": 1,
   "metadata": {},
   "outputs": [
    {
     "ename": "FileNotFoundError",
     "evalue": "[Errno 2] No such file or directory: 'data/artist_webpages/bastille.html'",
     "output_type": "error",
     "traceback": [
      "\u001b[0;31m------------------------\u001b[0m",
      "\u001b[0;31mFileNotFoundError\u001b[0mTraceback (most recent call last)",
      "\u001b[0;32m<ipython-input-1-0198a6831a95>\u001b[0m in \u001b[0;36m<module>\u001b[0;34m\u001b[0m\n\u001b[1;32m      1\u001b[0m \u001b[0;31m# save the files as html files\u001b[0m\u001b[0;34m\u001b[0m\u001b[0;34m\u001b[0m\u001b[0;34m\u001b[0m\u001b[0m\n\u001b[0;32m----> 2\u001b[0;31m \u001b[0;32mwith\u001b[0m \u001b[0mopen\u001b[0m\u001b[0;34m(\u001b[0m\u001b[0;34m'data/artist_webpages/bastille.html'\u001b[0m\u001b[0;34m,\u001b[0m \u001b[0;34m'w'\u001b[0m\u001b[0;34m,\u001b[0m \u001b[0mencoding\u001b[0m\u001b[0;34m=\u001b[0m\u001b[0;34m'utf-8'\u001b[0m\u001b[0;34m)\u001b[0m \u001b[0;32mas\u001b[0m \u001b[0mfile\u001b[0m\u001b[0;34m:\u001b[0m\u001b[0;34m\u001b[0m\u001b[0;34m\u001b[0m\u001b[0m\n\u001b[0m\u001b[1;32m      3\u001b[0m     \u001b[0mfile\u001b[0m\u001b[0;34m.\u001b[0m\u001b[0mwrite\u001b[0m\u001b[0;34m(\u001b[0m\u001b[0mbastille\u001b[0m\u001b[0;34m.\u001b[0m\u001b[0mtext\u001b[0m\u001b[0;34m)\u001b[0m\u001b[0;34m\u001b[0m\u001b[0;34m\u001b[0m\u001b[0m\n\u001b[1;32m      4\u001b[0m \u001b[0;34m\u001b[0m\u001b[0m\n\u001b[1;32m      5\u001b[0m \u001b[0;32mwith\u001b[0m \u001b[0mopen\u001b[0m\u001b[0;34m(\u001b[0m\u001b[0;34m'data/artist_webpages/rolling.html'\u001b[0m\u001b[0;34m,\u001b[0m \u001b[0;34m'w'\u001b[0m\u001b[0;34m,\u001b[0m \u001b[0mencoding\u001b[0m\u001b[0;34m=\u001b[0m\u001b[0;34m'utf-8'\u001b[0m\u001b[0;34m)\u001b[0m \u001b[0;32mas\u001b[0m \u001b[0mfile\u001b[0m\u001b[0;34m:\u001b[0m\u001b[0;34m\u001b[0m\u001b[0;34m\u001b[0m\u001b[0m\n",
      "\u001b[0;31mFileNotFoundError\u001b[0m: [Errno 2] No such file or directory: 'data/artist_webpages/bastille.html'"
     ]
    }
   ],
   "source": [
    "# save the files as html files\n",
    "with open('data/artist_webpages/bastille.html', 'w', encoding='utf-8') as file:\n",
    "    file.write(bastille.text)\n",
    "    \n",
    "with open('data/artist_webpages/rolling.html', 'w', encoding='utf-8') as file:\n",
    "    file.write(rolling.text)\n",
    "\n",
    "with open('data/artist_webpages/cohen.html', 'w', encoding='utf-8') as file:\n",
    "    file.write(cohen.text)"
   ]
  },
  {
   "cell_type": "code",
   "execution_count": 5,
   "metadata": {},
   "outputs": [
    {
     "name": "stdout",
     "output_type": "stream",
     "text": [
      "bastille+_4am.html\r\n",
      "bastille+_admit+defeat.html\r\n",
      "bastille+_an+act+of+kindness.html\r\n",
      "bastille+_another+place+.html\r\n",
      "bastille+_another+place.html\r\n",
      "bastille+_bad+blood+.html\r\n",
      "bastille+_bad+blood.html\r\n",
      "bastille+_bad+decisions.html\r\n",
      "bastille+_basket+case.html\r\n",
      "bastille+_bite+down+.html\r\n",
      "bastille+_blame.html\r\n",
      "bastille+_campus.html\r\n",
      "bastille+_daniel+in+the+den.html\r\n",
      "bastille+_divide.html\r\n",
      "bastille+_don.html\r\n",
      "bastille+_doom+days.html\r\n",
      "bastille+_durban+skies.html\r\n",
      "bastille+_fake+it.html\r\n",
      "bastille+_flaws.html\r\n",
      "bastille+_flowers.html\r\n",
      "bastille+_four+walls+.html\r\n",
      "bastille+_get+home.html\r\n",
      "bastille+_glory.html\r\n",
      "bastille+_good+grief+.html\r\n",
      "bastille+_good+grief.html\r\n",
      "bastille+_grip.html\r\n",
      "bastille+_happier.html\r\n",
      "bastille+_haunt+.html\r\n",
      "bastille+_haunt.html\r\n",
      "bastille+_i+know+you.html\r\n",
      "bastille+_icarus.html\r\n",
      "bastille+_joy.html\r\n",
      "bastille+_laughter+lines+.html\r\n",
      "bastille+_laughter+lines.html\r\n",
      "bastille+_laura+palmer.html\r\n",
      "bastille+_lethargy.html\r\n",
      "bastille+_million+pieces.html\r\n",
      "bastille+_no+one.html\r\n",
      "bastille+_nocturnal+creatures.html\r\n",
      "bastille+_oblivion.html\r\n",
      "bastille+_of+the+night+.html\r\n",
      "bastille+_of+the+night.html\r\n",
      "bastille+_oil+on+water+.html\r\n",
      "bastille+_oil+on+water.html\r\n",
      "bastille+_overjoyed.html\r\n",
      "bastille+_poet.html\r\n",
      "bastille+_pompeii+.html\r\n",
      "bastille+_pompeii.html\r\n",
      "bastille+_power.html\r\n",
      "bastille+_previously+on+other+people.html\r\n",
      "bastille+_quarter+past+midnight.html\r\n",
      "bastille+_send+them+off.html\r\n",
      "bastille+_skulls.html\r\n",
      "bastille+_sleepsong.html\r\n",
      "bastille+_snakes.html\r\n",
      "bastille+_the+currents.html\r\n",
      "bastille+_the+descent.html\r\n",
      "bastille+_the+draw.html\r\n",
      "bastille+_the+driver.html\r\n",
      "bastille+_the+silence+.html\r\n",
      "bastille+_the+silence.html\r\n",
      "bastille+_the+waves.html\r\n",
      "bastille+_these+streets.html\r\n",
      "bastille+_things+we+lost+in+the+fire.html\r\n",
      "bastille+_those+nights.html\r\n",
      "bastille+_torn+apart+.html\r\n",
      "bastille+_tuning+out.html\r\n",
      "bastille+_two+evils.html\r\n",
      "bastille+_warmth.html\r\n",
      "bastille+_way+beyond+.html\r\n",
      "bastille+_way+beyond.html\r\n",
      "bastille+_weight+of+living.html\r\n",
      "bastille+_what+would+you+do.html\r\n",
      "bastille+_wild+world.html\r\n",
      "bastille+_winter+of+our+youth.html\r\n",
      "bastille+_won.html\r\n",
      "bastille+_world+gone+mad.html\r\n",
      "bastille+_would+i+lie+to+you.html\r\n",
      "bastille.html\r\n",
      "cohen.html\r\n",
      "rolling+blackouts+coastal+fever_an+air+conditioned+man.html\r\n",
      "rolling+blackouts+coastal+fever_bellarine.html\r\n",
      "rolling+blackouts+coastal+fever_cappuccino+city.html\r\n",
      "rolling+blackouts+coastal+fever_exclusive+grave.html\r\n",
      "rolling+blackouts+coastal+fever_french+press.html\r\n",
      "rolling+blackouts+coastal+fever_how+long.html\r\n",
      "rolling+blackouts+coastal+fever_julie.html\r\n",
      "rolling+blackouts+coastal+fever_mainland.html\r\n",
      "rolling+blackouts+coastal+fever_sister.html\r\n",
      "rolling+blackouts+coastal+fever_talking+straight.html\r\n",
      "rolling+blackouts+coastal+fever_the+hammer.html\r\n",
      "rolling+blackouts+coastal+fever_time+in+common.html\r\n",
      "rolling.html\r\n"
     ]
    }
   ],
   "source": [
    "# check if the files were created\n",
    "!ls data/"
   ]
  },
  {
   "cell_type": "markdown",
   "metadata": {},
   "source": [
    "### Extract all links using Regex"
   ]
  },
  {
   "cell_type": "code",
   "execution_count": 6,
   "metadata": {},
   "outputs": [],
   "source": [
    "import re"
   ]
  },
  {
   "cell_type": "code",
   "execution_count": 7,
   "metadata": {},
   "outputs": [
    {
     "data": {
      "text/plain": [
       "['coriander99', 'cinnamon', 'cumin']"
      ]
     },
     "execution_count": 7,
     "metadata": {},
     "output_type": "execute_result"
    }
   ],
   "source": [
    "text = '''thyme <a href=\"coriander99\"> <a href=\"rosemary\"> cinnamon pepper tarragon basil salvia cumin'''\n",
    "# match all words starting with a \"c\":\n",
    "pattern =  \"c\\w*\" \n",
    "re.findall(pattern, text)"
   ]
  },
  {
   "cell_type": "code",
   "execution_count": 8,
   "metadata": {},
   "outputs": [],
   "source": [
    "#text = '''thyme <a href=\"coriander99\"> <a href=\"rosemary\"> cinnamon pepper tarragon basil salvia cumin'''\n",
    "# match all words starting with a \"c\":\n",
    "#pattern =  \"\\/lyric\\/\\d{8}\\/\\w*\\+[A-Za-z+/]+\"       \n",
    "pattern =  \"\\/lyric\\/\\d{8}\\/[0-9A-Za-z+\\/]+\"      \n",
    "\n",
    "bastille_links = re.findall(pattern, bastille.text)\n",
    "#bastille_links"
   ]
  },
  {
   "cell_type": "code",
   "execution_count": 9,
   "metadata": {},
   "outputs": [],
   "source": [
    "rolling_links = re.findall(pattern, rolling.text)\n",
    "#rolling_links"
   ]
  },
  {
   "cell_type": "code",
   "execution_count": 10,
   "metadata": {},
   "outputs": [],
   "source": [
    "cohen_links = re.findall(pattern, cohen.text)\n",
    "#cohen_links"
   ]
  },
  {
   "cell_type": "code",
   "execution_count": 11,
   "metadata": {},
   "outputs": [
    {
     "data": {
      "text/plain": [
       "(276, 54, 997)"
      ]
     },
     "execution_count": 11,
     "metadata": {},
     "output_type": "execute_result"
    }
   ],
   "source": [
    "len(re.findall(pattern, bastille.text)), len(re.findall(pattern, rolling.text)) , len(re.findall(pattern, cohen.text))"
   ]
  },
  {
   "cell_type": "markdown",
   "metadata": {},
   "source": [
    "### Download songs\n",
    "\n",
    "\n",
    "- Write a loop that goes through all song URLs that you collected previously\n",
    "- Construct a complete URL\n",
    "- Test the URL in a browser manually\n",
    "- Generate a unique file name (using the song name or a number)\n",
    "- Download each song\n",
    "- Save each song to a unique file\n",
    "\n"
   ]
  },
  {
   "cell_type": "code",
   "execution_count": 12,
   "metadata": {},
   "outputs": [
    {
     "data": {
      "text/plain": [
       "'/lyric/36289051/Bastille+/Those+Nights'"
      ]
     },
     "execution_count": 12,
     "metadata": {},
     "output_type": "execute_result"
    }
   ],
   "source": [
    "linklist = [*bastille_links, *rolling_links] # , *cohen_links\n",
    "linklist[9]"
   ]
  },
  {
   "cell_type": "code",
   "execution_count": 13,
   "metadata": {},
   "outputs": [
    {
     "name": "stdout",
     "output_type": "stream",
     "text": [
      "Downloading  bastille+_another+place\n",
      "Downloading  bastille+_doom+days\n",
      "Downloading  bastille+_bad+decisions\n",
      "Downloading  bastille+_the+waves\n",
      "Downloading  bastille+_divide\n",
      "Downloading  bastille+_million+pieces\n",
      "Downloading  bastille+_nocturnal+creatures\n",
      "Downloading  bastille+_4am\n",
      "Downloading  bastille+_those+nights\n",
      "Downloading  bastille+_joy\n",
      "Downloading  bastille+_happier\n",
      "Downloading  bastille+_of+the+night\n",
      "Downloading  bastille+_pompeii\n",
      "Downloading  bastille+_what+would+you+do\n",
      "Downloading  bastille+_grip\n",
      "Downloading  bastille+_i+know+you\n",
      "Downloading  bastille+_wild+world\n",
      "Downloading  bastille+_would+i+lie+to+you\n",
      "Downloading  bastille+_don\n",
      "Downloading  bastille+_flowers\n",
      "Downloading  bastille+_the+descent\n",
      "Downloading  bastille+_warmth\n",
      "Downloading  bastille+_quarter+past+midnight\n",
      "Downloading  bastille+_good+grief\n",
      "Downloading  bastille+_oblivion\n",
      "Downloading  bastille+_basket+case\n",
      "Downloading  bastille+_blame\n",
      "Downloading  bastille+_send+them+off\n",
      "Downloading  bastille+_world+gone+mad\n",
      "Downloading  bastille+_campus\n",
      "Downloading  bastille+_glory\n",
      "Downloading  bastille+_snakes\n",
      "Downloading  bastille+_fake+it\n",
      "Downloading  bastille+_lethargy\n",
      "Downloading  bastille+_way+beyond\n",
      "Downloading  bastille+_oil+on+water\n",
      "Downloading  bastille+_the+currents\n",
      "Downloading  bastille+_an+act+of+kindness\n",
      "Downloading  bastille+_power\n",
      "Downloading  bastille+_two+evils\n",
      "Downloading  bastille+_four+walls+\n",
      "Downloading  bastille+_winter+of+our+youth\n",
      "Downloading  bastille+_way+beyond+\n",
      "Downloading  bastille+_oil+on+water+\n",
      "Downloading  bastille+_torn+apart+\n",
      "Downloading  bastille+_of+the+night+\n",
      "Downloading  bastille+_things+we+lost+in+the+fire\n",
      "Downloading  bastille+_bad+blood\n",
      "Downloading  bastille+_bite+down+\n",
      "Downloading  bastille+_the+driver\n",
      "Downloading  bastille+_overjoyed\n",
      "Downloading  bastille+_these+streets\n",
      "Downloading  bastille+_weight+of+living\n",
      "Downloading  bastille+_icarus\n",
      "Downloading  bastille+_flaws\n",
      "Downloading  bastille+_daniel+in+the+den\n",
      "Downloading  bastille+_laura+palmer\n",
      "Downloading  bastille+_get+home\n",
      "Downloading  bastille+_the+silence+\n",
      "Downloading  bastille+_the+silence\n",
      "Downloading  bastille+_laughter+lines\n",
      "Downloading  bastille+_laughter+lines+\n",
      "Downloading  bastille+_poet\n",
      "Downloading  bastille+_sleepsong\n",
      "Downloading  bastille+_durban+skies\n",
      "Downloading  bastille+_previously+on+other+people\n",
      "Downloading  bastille+_the+draw\n",
      "Downloading  bastille+_skulls\n",
      "Downloading  bastille+_tuning+out\n",
      "Downloading  bastille+_haunt+\n",
      "Downloading  bastille+_pompeii+\n",
      "Downloading  bastille+_no+one\n",
      "Downloading  bastille+_haunt\n",
      "Downloading  bastille+_good+grief+\n",
      "Downloading  bastille+_admit+defeat\n",
      "Downloading  bastille+_another+place+\n",
      "Downloading  bastille+_bad+blood+\n",
      "Downloading  bastille+_won\n",
      "Downloading  rolling+blackouts+coastal+fever_an+air+conditioned+man\n",
      "Downloading  rolling+blackouts+coastal+fever_talking+straight\n",
      "Downloading  rolling+blackouts+coastal+fever_mainland\n",
      "Downloading  rolling+blackouts+coastal+fever_time+in+common\n",
      "Downloading  rolling+blackouts+coastal+fever_sister\n",
      "Downloading  rolling+blackouts+coastal+fever_bellarine\n",
      "Downloading  rolling+blackouts+coastal+fever_cappuccino+city\n",
      "Downloading  rolling+blackouts+coastal+fever_exclusive+grave\n",
      "Downloading  rolling+blackouts+coastal+fever_how+long\n",
      "Downloading  rolling+blackouts+coastal+fever_the+hammer\n",
      "Downloading  rolling+blackouts+coastal+fever_french+press\n",
      "Downloading  rolling+blackouts+coastal+fever_julie\n",
      "Downloading  rolling+blackouts+coastal+fever_sick+bug\n",
      "Downloading  rolling+blackouts+coastal+fever_colours+run\n",
      "Downloading  rolling+blackouts+coastal+fever_dig+up\n",
      "Downloading  rolling+blackouts+coastal+fever_fountain+of+good+fortune\n",
      "Downloading  rolling+blackouts+coastal+fever_career\n",
      "Downloading  rolling+blackouts+coastal+fever_wither+with+you\n",
      "Downloading  rolling+blackouts+coastal+fever_wide+eyes\n",
      "Downloading  rolling+blackouts+coastal+fever_heard+you\n",
      "Downloading  rolling+blackouts+coastal+fever_clean+slate\n",
      "Downloading  rolling+blackouts+coastal+fever_tender+is+the+neck\n",
      "Downloading  rolling+blackouts+coastal+fever_write+back\n",
      "Downloading  rolling+blackouts+coastal+fever_cars+in+space\n",
      "Downloading  rolling+blackouts+coastal+fever_the++cool+change\n",
      "Downloading  rolling+blackouts+coastal+fever_she\n",
      "Downloading  rolling+blackouts+coastal+fever_sunglasses+at+the+wedding\n",
      "Downloading  rolling+blackouts+coastal+fever_the+only+one\n",
      "Downloading  rolling+blackouts+coastal+fever_the+second+of+the+first\n",
      "Downloading  rolling+blackouts+coastal+fever_falling+thunder\n",
      "Downloading  rolling+blackouts+coastal+fever_cameo\n",
      "Downloading  rolling+blackouts+coastal+fever_beautiful+steven\n",
      "Downloading  rolling+blackouts+coastal+fever_not+tonight\n"
     ]
    }
   ],
   "source": [
    "# write a loop that goes through all songs URLS\n",
    "song_titles = []\n",
    "for i in linklist:\n",
    "    #pattern = \"[0-9A-Za-z+]+$\"\n",
    "    \n",
    "    # TODO: Should also use artist name as identifier\n",
    "    split_i = i.split('/', 3)\n",
    "    song_clean = split_i[3].replace('/', '_').replace('\\+$', '').lower()\n",
    "\n",
    "    if song_clean not in song_titles:\n",
    "        print('Downloading ', song_clean)\n",
    "        song_titles.append(song_clean)\n",
    "        \n",
    "        # construct a complete URL\n",
    "        URL_complete = 'https://www.lyrics.com' + i\n",
    "\n",
    "        request_response = requests.get(URL_complete)\n",
    "        #save the files as html files\n",
    "        with open('data/song_files/' + song_clean + '.html', 'w', encoding='utf-8') as file:\n",
    "            file.write(request_response.text)\n"
   ]
  },
  {
   "cell_type": "code",
   "execution_count": null,
   "metadata": {},
   "outputs": [],
   "source": []
  },
  {
   "cell_type": "code",
   "execution_count": null,
   "metadata": {},
   "outputs": [],
   "source": []
  },
  {
   "cell_type": "code",
   "execution_count": null,
   "metadata": {},
   "outputs": [],
   "source": []
  },
  {
   "cell_type": "code",
   "execution_count": null,
   "metadata": {},
   "outputs": [],
   "source": []
  }
 ],
 "metadata": {
  "kernelspec": {
   "display_name": "Python 3",
   "language": "python",
   "name": "python3"
  },
  "language_info": {
   "codemirror_mode": {
    "name": "ipython",
    "version": 3
   },
   "file_extension": ".py",
   "mimetype": "text/x-python",
   "name": "python",
   "nbconvert_exporter": "python",
   "pygments_lexer": "ipython3",
   "version": "3.7.6"
  }
 },
 "nbformat": 4,
 "nbformat_minor": 4
}
