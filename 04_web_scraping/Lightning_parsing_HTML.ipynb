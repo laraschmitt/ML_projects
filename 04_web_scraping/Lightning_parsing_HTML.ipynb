{
 "cells": [
  {
   "cell_type": "markdown",
   "metadata": {},
   "source": [
    "## Parsing HTML"
   ]
  },
  {
   "cell_type": "markdown",
   "metadata": {},
   "source": [
    "### HTML \n",
    "**Hyper Text Markup Language**\n",
    "\n",
    " = Document Markup Language that was developed in the early 1990's for the use in web browsers.\n",
    "\n",
    "---\n"
   ]
  },
  {
   "cell_type": "markdown",
   "metadata": {},
   "source": [
    "HTML (HyperText Markup Language) is the most basic building block of the Web. It defines the meaning and structure of web content. Other technologies besides HTML are generally used to describe a web page's appearance/presentation (CSS) or functionality/behavior (JavaScript).\n",
    "\n",
    "\"Hypertext\" refers to links that connect web pages to one another, either within a single website or between websites. Links are a fundamental aspect of the Web. By uploading content to the Internet and linking it to pages created by other people, you become an active participant in the World Wide Web.\n",
    "\n"
   ]
  },
  {
   "cell_type": "markdown",
   "metadata": {},
   "source": [
    "\n",
    "An HTML element is set off from other text in a document by \"tags\", which consist of the element name surrounded by \"<\" and \">\".  The name of an element inside a tag is case insensitive. \n",
    "    https://developer.mozilla.org/en-US/docs/Web/HTML"
   ]
  },
  {
   "cell_type": "markdown",
   "metadata": {},
   "source": [
    "\n",
    "\n",
    "### Beautiful Soup\n",
    "It is a python library (published in 2004), which enables us to scrape all the content from a web page. BeautifulSoup provides a set of tools to pull this data from the web page and locate the content which is hidden within the HTML structure."
   ]
  },
  {
   "cell_type": "markdown",
   "metadata": {},
   "source": [
    "### What we did in the course to scrape HTML from the web:"
   ]
  },
  {
   "cell_type": "code",
   "execution_count": 35,
   "metadata": {},
   "outputs": [],
   "source": [
    "import requests"
   ]
  },
  {
   "cell_type": "markdown",
   "metadata": {},
   "source": [
    "\n",
    "\n",
    "\n",
    "👉🏼 The requests package  allows you to send HTTP requests using Python. \n",
    "\n",
    "# with requests:\n",
    "`response = requests.get(<your_url>)`\n",
    "\n",
    "### requests uses the python standard library package \"urllib\"\n",
    "\n",
    "the code for making a request with urllib would look like this:\n",
    "```python\n",
    "import urllib.request\n",
    "response = urllib.request.urlopen('http://python.org/')\n",
    "html = response.read()\n",
    "```\n"
   ]
  },
  {
   "cell_type": "markdown",
   "metadata": {},
   "source": [
    "### Working with the HTML response"
   ]
  },
  {
   "cell_type": "code",
   "execution_count": 36,
   "metadata": {},
   "outputs": [],
   "source": [
    "from bs4 import BeautifulSoup"
   ]
  },
  {
   "cell_type": "markdown",
   "metadata": {},
   "source": [
    "\n",
    "\n",
    "\n",
    "BeatifulSoup a python library, which enables us to scrape all the content from a web page. BeautifulSoup provides a set of tools to pull this data from the web page and locate the content which is hidden within the HTML structure.\n",
    "\n"
   ]
  },
  {
   "cell_type": "markdown",
   "metadata": {},
   "source": [
    "### Examle of a HTML response:\n"
   ]
  },
  {
   "cell_type": "code",
   "execution_count": 40,
   "metadata": {},
   "outputs": [],
   "source": [
    "html_doc = '''\n",
    "    <!DOCTYPE html>\n",
    "    <html lang=\"en\">\n",
    "      <head>\n",
    "        <title>My HTML Document</title>\n",
    "      </head>\n",
    "      <body>\n",
    "        <p>Some body content</p>\n",
    "      </body>\n",
    "    </html>\n",
    "'''"
   ]
  },
  {
   "cell_type": "markdown",
   "metadata": {},
   "source": [
    "#### what we get as hmtl string from a website (and is not very useful):"
   ]
  },
  {
   "cell_type": "code",
   "execution_count": 54,
   "metadata": {},
   "outputs": [
    {
     "data": {
      "text/plain": [
       "'\\n    <!DOCTYPE html>\\n    <html lang=\"en\">\\n      <head>\\n        <title>My HTML Document</title>\\n      </head>\\n      <body>\\n        <p>Some body content</p>\\n      </body>\\n    </html>\\n'"
      ]
     },
     "execution_count": 54,
     "metadata": {},
     "output_type": "execute_result"
    }
   ],
   "source": [
    "html_doc"
   ]
  },
  {
   "cell_type": "code",
   "execution_count": 45,
   "metadata": {},
   "outputs": [],
   "source": [
    "soup = BeautifulSoup(html_doc, 'lxml')"
   ]
  },
  {
   "cell_type": "markdown",
   "metadata": {},
   "source": [
    "### BeatifulSoup( ) arguments:"
   ]
  },
  {
   "cell_type": "markdown",
   "metadata": {},
   "source": [
    "     BeautifulSoup(\n",
    "        markup='',\n",
    "        features=None,\n",
    "        ...\n",
    "    )"
   ]
  },
  {
   "cell_type": "markdown",
   "metadata": {},
   "source": [
    "the second argument passed to BeautifulSoup allows you to specify a parser (by default BeautifulSoup will try **lxml**, followed by html5lib and finally the built-in html5 parser from the standard python library)"
   ]
  },
  {
   "cell_type": "markdown",
   "metadata": {},
   "source": [
    "👉🏼 A **parser** is a software program that takes some input (usually text) and produces a AST (abstract syntax tree)."
   ]
  },
  {
   "cell_type": "markdown",
   "metadata": {},
   "source": [
    "👉🏼 best practice is to specify a **parser explicitly** because in a different enviroment you might get a different result if the underlying parser is not installed."
   ]
  },
  {
   "cell_type": "markdown",
   "metadata": {},
   "source": [
    "### Working with the HTML tree"
   ]
  },
  {
   "cell_type": "code",
   "execution_count": 56,
   "metadata": {},
   "outputs": [
    {
     "data": {
      "text/plain": [
       "<!DOCTYPE html>\n",
       "<html lang=\"en\">\n",
       "<head>\n",
       "<title>My HTML Document</title>\n",
       "</head>\n",
       "<body>\n",
       "<p>Some body content</p>\n",
       "</body>\n",
       "</html>"
      ]
     },
     "execution_count": 56,
     "metadata": {},
     "output_type": "execute_result"
    }
   ],
   "source": [
    "soup = BeautifulSoup(html_doc)\n",
    "\n",
    "soup"
   ]
  },
  {
   "cell_type": "code",
   "execution_count": 53,
   "metadata": {
    "scrolled": true
   },
   "outputs": [
    {
     "data": {
      "text/plain": [
       "bs4.BeautifulSoup"
      ]
     },
     "execution_count": 53,
     "metadata": {},
     "output_type": "execute_result"
    }
   ],
   "source": [
    "type(soup)"
   ]
  },
  {
   "cell_type": "markdown",
   "metadata": {},
   "source": [
    "**after passing a string into the BeautifulSoup function we get a data structured we can work with**"
   ]
  },
  {
   "cell_type": "markdown",
   "metadata": {},
   "source": [
    "### Attributes on the 'BeautifulSoup object' relate to the HTML tags:"
   ]
  },
  {
   "cell_type": "code",
   "execution_count": 57,
   "metadata": {},
   "outputs": [
    {
     "name": "stdout",
     "output_type": "stream",
     "text": [
      "<head>\n",
      "<title>My HTML Document</title>\n",
      "</head>\n"
     ]
    }
   ],
   "source": [
    "print(soup.head)"
   ]
  },
  {
   "cell_type": "code",
   "execution_count": 50,
   "metadata": {},
   "outputs": [
    {
     "name": "stdout",
     "output_type": "stream",
     "text": [
      "<title>My HTML Document</title>\n"
     ]
    }
   ],
   "source": [
    "print(soup.title)\n"
   ]
  },
  {
   "cell_type": "code",
   "execution_count": 51,
   "metadata": {},
   "outputs": [
    {
     "name": "stdout",
     "output_type": "stream",
     "text": [
      "<body>\n",
      "<p>Some body content</p>\n",
      "</body>\n"
     ]
    }
   ],
   "source": [
    "print(soup.body)"
   ]
  },
  {
   "cell_type": "markdown",
   "metadata": {},
   "source": [
    "### Accessing the .text attribute on the HTML tag will remove its surrounding tags: \n",
    "*returns the actual part of the tag that is outside of the < angled brackets >*"
   ]
  },
  {
   "cell_type": "code",
   "execution_count": 52,
   "metadata": {},
   "outputs": [
    {
     "name": "stdout",
     "output_type": "stream",
     "text": [
      "My HTML Document\n",
      "\n",
      "Some body content\n",
      "\n"
     ]
    }
   ],
   "source": [
    "print(soup.title.text)\n",
    "print(soup.body.text)"
   ]
  },
  {
   "cell_type": "code",
   "execution_count": 59,
   "metadata": {},
   "outputs": [
    {
     "data": {
      "text/plain": [
       "'\\n\\nMy HTML Document\\n\\n\\nSome body content\\n\\n\\n'"
      ]
     },
     "execution_count": 59,
     "metadata": {},
     "output_type": "execute_result"
    }
   ],
   "source": [
    "soup.text"
   ]
  },
  {
   "cell_type": "markdown",
   "metadata": {},
   "source": [
    "### BeautifulSoup gives us useful methods to query the structure of the HTML document (e.g. find_all( ), get( ) )"
   ]
  },
  {
   "cell_type": "markdown",
   "metadata": {},
   "source": [
    "The most used method is `.find_all()`:"
   ]
  },
  {
   "cell_type": "markdown",
   "metadata": {},
   "source": [
    "`soup.find_all(name, attrs, recursive, string, limit, **kwargs)`"
   ]
  },
  {
   "cell_type": "markdown",
   "metadata": {},
   "source": [
    "* name — name of the tag; e.g. “a”, “div”, “img”\n",
    "* attrs — a dictionary with the tag’s attributes; e.g. {“class”: “nav”, “href”: “#menuitem”}\n",
    "* recursive — boolean; if false only direct children are considered, if true (default) all children are examined in the search\n",
    "* string — used to search for strings in the element’s content\n",
    "* limit — limit the search to only this number of found elements\n",
    "\n"
   ]
  },
  {
   "cell_type": "markdown",
   "metadata": {},
   "source": [
    "#### What if we need a piece of data that is not inside the element, but as the value of an attribute? "
   ]
  },
  {
   "cell_type": "markdown",
   "metadata": {},
   "source": [
    "`attribute.get(key, default=None)`"
   ]
  },
  {
   "cell_type": "markdown",
   "metadata": {},
   "source": [
    "Returns the value of the 'key' attribute for the tag, or\n",
    "the value given for 'default' if it doesn't have that\n",
    "attribute."
   ]
  },
  {
   "cell_type": "code",
   "execution_count": 85,
   "metadata": {},
   "outputs": [
    {
     "data": {
      "text/plain": [
       "'en'"
      ]
     },
     "execution_count": 85,
     "metadata": {},
     "output_type": "execute_result"
    }
   ],
   "source": [
    "soup.html.get('lang') "
   ]
  },
  {
   "cell_type": "markdown",
   "metadata": {},
   "source": [
    "#### Example:"
   ]
  },
  {
   "cell_type": "code",
   "execution_count": 87,
   "metadata": {},
   "outputs": [
    {
     "name": "stdout",
     "output_type": "stream",
     "text": [
      "https://www.spiced-academy.com\n",
      "color: red;\n",
      "https://www.google.com\n",
      "color: blue;\n"
     ]
    }
   ],
   "source": [
    "html_doc = '''\n",
    "<html lang=\"en\">\n",
    "  <head>\n",
    "    <title>My HTML Document</title>\n",
    "  </head>\n",
    "  <body>\n",
    "    <a style=\"color: red;\" href=\"https://www.spiced-academy.com\">Spiced</a>\n",
    "    <a style=\"color: blue;\" href=\"https://www.google.com\">Spiced</a>\n",
    "  </body>\n",
    "</html>\n",
    "'''\n",
    "\n",
    "soup = BeautifulSoup(html_doc)\n"
   ]
  },
  {
   "cell_type": "code",
   "execution_count": 88,
   "metadata": {},
   "outputs": [
    {
     "data": {
      "text/plain": [
       "[<a href=\"https://www.spiced-academy.com\" style=\"color: red;\">Spiced</a>,\n",
       " <a href=\"https://www.google.com\" style=\"color: blue;\">Spiced</a>]"
      ]
     },
     "execution_count": 88,
     "metadata": {},
     "output_type": "execute_result"
    }
   ],
   "source": [
    "soup.find_all('a')"
   ]
  },
  {
   "cell_type": "code",
   "execution_count": 90,
   "metadata": {},
   "outputs": [
    {
     "name": "stdout",
     "output_type": "stream",
     "text": [
      "https://www.spiced-academy.com\n",
      "color: red;\n",
      "https://www.google.com\n",
      "color: blue;\n"
     ]
    }
   ],
   "source": [
    "for link in soup.find_all('a'):\n",
    "    print(link.get('href'))\n",
    "    print(link.get('style'))"
   ]
  },
  {
   "cell_type": "code",
   "execution_count": null,
   "metadata": {},
   "outputs": [],
   "source": []
  }
 ],
 "metadata": {
  "kernelspec": {
   "display_name": "Python 3",
   "language": "python",
   "name": "python3"
  },
  "language_info": {
   "codemirror_mode": {
    "name": "ipython",
    "version": 3
   },
   "file_extension": ".py",
   "mimetype": "text/x-python",
   "name": "python",
   "nbconvert_exporter": "python",
   "pygments_lexer": "ipython3",
   "version": "3.7.6"
  }
 },
 "nbformat": 4,
 "nbformat_minor": 4
}
