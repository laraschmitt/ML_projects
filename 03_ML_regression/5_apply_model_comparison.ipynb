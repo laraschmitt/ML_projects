{
 "cells": [
  {
   "cell_type": "code",
   "execution_count": 2,
   "metadata": {},
   "outputs": [],
   "source": [
    "import pandas as pd\n",
    "#import utilities.compare_models\n",
    "\n",
    "from utilities.compare_models import RandForestReg\n",
    "from utilities.compare_models import RandForestClassif\n",
    "from utilities.compare_models import LinReg\n",
    "from utilities.compare_models import GradientBoostReg\n",
    "from utilities.compare_models import SuppVecReg\n"
   ]
  },
  {
   "cell_type": "code",
   "execution_count": 3,
   "metadata": {},
   "outputs": [
    {
     "data": {
      "text/html": [
       "<div>\n",
       "<style scoped>\n",
       "    .dataframe tbody tr th:only-of-type {\n",
       "        vertical-align: middle;\n",
       "    }\n",
       "\n",
       "    .dataframe tbody tr th {\n",
       "        vertical-align: top;\n",
       "    }\n",
       "\n",
       "    .dataframe thead th {\n",
       "        text-align: right;\n",
       "    }\n",
       "</style>\n",
       "<table border=\"1\" class=\"dataframe\">\n",
       "  <thead>\n",
       "    <tr style=\"text-align: right;\">\n",
       "      <th></th>\n",
       "      <th>datetime</th>\n",
       "      <th>season</th>\n",
       "      <th>holiday</th>\n",
       "      <th>workingday</th>\n",
       "      <th>weather</th>\n",
       "      <th>temp</th>\n",
       "      <th>atemp</th>\n",
       "      <th>humidity</th>\n",
       "      <th>windspeed</th>\n",
       "      <th>casual</th>\n",
       "      <th>registered</th>\n",
       "      <th>count</th>\n",
       "    </tr>\n",
       "  </thead>\n",
       "  <tbody>\n",
       "    <tr>\n",
       "      <th>0</th>\n",
       "      <td>2011-01-01 00:00:00</td>\n",
       "      <td>1</td>\n",
       "      <td>0</td>\n",
       "      <td>0</td>\n",
       "      <td>1</td>\n",
       "      <td>9.84</td>\n",
       "      <td>14.395</td>\n",
       "      <td>81</td>\n",
       "      <td>0.0</td>\n",
       "      <td>3</td>\n",
       "      <td>13</td>\n",
       "      <td>16</td>\n",
       "    </tr>\n",
       "    <tr>\n",
       "      <th>1</th>\n",
       "      <td>2011-01-01 01:00:00</td>\n",
       "      <td>1</td>\n",
       "      <td>0</td>\n",
       "      <td>0</td>\n",
       "      <td>1</td>\n",
       "      <td>9.02</td>\n",
       "      <td>13.635</td>\n",
       "      <td>80</td>\n",
       "      <td>0.0</td>\n",
       "      <td>8</td>\n",
       "      <td>32</td>\n",
       "      <td>40</td>\n",
       "    </tr>\n",
       "    <tr>\n",
       "      <th>2</th>\n",
       "      <td>2011-01-01 02:00:00</td>\n",
       "      <td>1</td>\n",
       "      <td>0</td>\n",
       "      <td>0</td>\n",
       "      <td>1</td>\n",
       "      <td>9.02</td>\n",
       "      <td>13.635</td>\n",
       "      <td>80</td>\n",
       "      <td>0.0</td>\n",
       "      <td>5</td>\n",
       "      <td>27</td>\n",
       "      <td>32</td>\n",
       "    </tr>\n",
       "    <tr>\n",
       "      <th>3</th>\n",
       "      <td>2011-01-01 03:00:00</td>\n",
       "      <td>1</td>\n",
       "      <td>0</td>\n",
       "      <td>0</td>\n",
       "      <td>1</td>\n",
       "      <td>9.84</td>\n",
       "      <td>14.395</td>\n",
       "      <td>75</td>\n",
       "      <td>0.0</td>\n",
       "      <td>3</td>\n",
       "      <td>10</td>\n",
       "      <td>13</td>\n",
       "    </tr>\n",
       "    <tr>\n",
       "      <th>4</th>\n",
       "      <td>2011-01-01 04:00:00</td>\n",
       "      <td>1</td>\n",
       "      <td>0</td>\n",
       "      <td>0</td>\n",
       "      <td>1</td>\n",
       "      <td>9.84</td>\n",
       "      <td>14.395</td>\n",
       "      <td>75</td>\n",
       "      <td>0.0</td>\n",
       "      <td>0</td>\n",
       "      <td>1</td>\n",
       "      <td>1</td>\n",
       "    </tr>\n",
       "  </tbody>\n",
       "</table>\n",
       "</div>"
      ],
      "text/plain": [
       "              datetime  season  holiday  workingday  weather  temp   atemp  \\\n",
       "0  2011-01-01 00:00:00       1        0           0        1  9.84  14.395   \n",
       "1  2011-01-01 01:00:00       1        0           0        1  9.02  13.635   \n",
       "2  2011-01-01 02:00:00       1        0           0        1  9.02  13.635   \n",
       "3  2011-01-01 03:00:00       1        0           0        1  9.84  14.395   \n",
       "4  2011-01-01 04:00:00       1        0           0        1  9.84  14.395   \n",
       "\n",
       "   humidity  windspeed  casual  registered  count  \n",
       "0        81        0.0       3          13     16  \n",
       "1        80        0.0       8          32     40  \n",
       "2        80        0.0       5          27     32  \n",
       "3        75        0.0       3          10     13  \n",
       "4        75        0.0       0           1      1  "
      ]
     },
     "execution_count": 3,
     "metadata": {},
     "output_type": "execute_result"
    }
   ],
   "source": [
    "df = pd.read_csv('data/train.csv')\n",
    "df.head()"
   ]
  },
  {
   "cell_type": "code",
   "execution_count": 4,
   "metadata": {},
   "outputs": [],
   "source": [
    "df['datetime'] = pd.to_datetime(df['datetime']) # convert column\n",
    "\n",
    "df['month'] = df['datetime'].dt.month\n",
    "df['dayofweek'] = df['datetime'].dt.dayofweek\n",
    "df['hour'] = df['datetime'].dt.hour\n",
    "df['dayofyear'] = df['datetime'].dt.dayofyear\n",
    "\n",
    "cond = df['weather'] == 4\n",
    "df.drop(df[cond].index, axis=0, inplace=True)"
   ]
  },
  {
   "cell_type": "code",
   "execution_count": 5,
   "metadata": {},
   "outputs": [
    {
     "name": "stdout",
     "output_type": "stream",
     "text": [
      "(8708, 16) (8708,) (2177, 16) (2177,)\n"
     ]
    }
   ],
   "source": [
    "from sklearn.model_selection import train_test_split\n",
    "\n",
    "X = df.drop('count', axis=1)\n",
    "y = pd.to_numeric(df['count'])\n",
    "\n",
    "\n",
    "X_train, X_test, y_train, y_test = train_test_split(X, y, test_size=0.2, random_state=0) # stratify=y\n",
    "\n",
    "# reset indexes\n",
    "X_train.reset_index(inplace=True)\n",
    "X_test.reset_index(inplace=True)\n",
    "\n",
    "y_train.reset_index(inplace=True, drop=True)\n",
    "y_test.reset_index(inplace=True, drop=True)\n",
    "\n",
    "# check shapes\n",
    "print(X_train.shape, y_train.shape, X_test.shape, y_test.shape)\n"
   ]
  },
  {
   "cell_type": "code",
   "execution_count": 6,
   "metadata": {},
   "outputs": [],
   "source": [
    "import datetime as dt\n",
    "def feature_engineer(df): # take any dataframe, no matter if test or train\n",
    "        # select relevant features\n",
    "        df_sub = df[['hour', 'atemp', 'temp', 'humidity', 'month', 'workingday', 'weather']] # , 'windspeed', 'weather', 'month',\n",
    "        \n",
    "        df_sub2 = df_sub[['humidity', 'atemp', 'workingday', 'temp']]\n",
    "        \n",
    "        # one hot-encoding of season\n",
    "        season_binary_df = pd.get_dummies(df_sub['month'], prefix='month') \n",
    "        season_binary_df = season_binary_df.drop('month_1', axis=1)\n",
    "        \n",
    "        # one hot encoding of weather cat\n",
    "        weat_binary_df = pd.get_dummies(df_sub['weather'], prefix='weather_cat')\n",
    "        weat_binary_df = weat_binary_df.drop('weather_cat_1', axis=1)\n",
    "        \n",
    "        # one hot encoding of hour\n",
    "        hour_binary_df = pd.get_dummies(df_sub['hour'], prefix='hour')\n",
    "        hour_binary_df = hour_binary_df.drop('hour_0', axis=1)\n",
    "        \n",
    "        # join with the sub_df\n",
    "        df_fe = pd.DataFrame(df_sub2.join([season_binary_df, weat_binary_df, hour_binary_df], how='left')) #  \n",
    "        \n",
    "        # interaction term humidity and temperature\n",
    "        df_fe['temp_hum_interact'] = df_fe['temp'] * df_fe['humidity']\n",
    "        # drop temp col\n",
    "        #df_fe = df_fe.drop('temp', axis=1)\n",
    "        \n",
    "        # interaction term working day and roushhours (6-9, 16-19)\n",
    "        df_fe['workday_hour_7_interact'] = df_fe['workingday'] * hour_binary_df['hour_7'] \n",
    "        df_fe['workday_hour_8_interact'] = df_fe['workingday'] * hour_binary_df['hour_8'] \n",
    "        df_fe['workday_hour_9_interact'] = df_fe['workingday'] * hour_binary_df['hour_9']\n",
    "        df_fe['workday_hour_17_interact'] = df_fe['workingday'] * hour_binary_df['hour_17']  \n",
    "        df_fe['workday_hour_18_interact'] = df_fe['workingday'] * hour_binary_df['hour_18']\n",
    "        df_fe['workday_hour_19_interact'] = df_fe['workingday'] * hour_binary_df['hour_19']\n",
    "        \n",
    "        # interaction term non-working day and hour of day \n",
    "        # create non-working day column\n",
    "        df_sub['non_workingday'] = df_sub['workingday'].replace({0:1, 1:0})\n",
    "        df_fe['non_workingday'] = df_sub['non_workingday'] * hour_binary_df['hour_11'] \n",
    "        df_fe['non_workingday'] = df_sub['non_workingday'] * hour_binary_df['hour_12'] \n",
    "        df_fe['non_workingday'] = df_sub['non_workingday'] * hour_binary_df['hour_13']\n",
    "        df_fe['non_workingday'] = df_sub['non_workingday'] * hour_binary_df['hour_14']\n",
    "\n",
    "        \n",
    "        \n",
    "        # reset index\n",
    "        df_fe.reset_index()\n",
    "\n",
    "        \n",
    "        return df_fe"
   ]
  },
  {
   "cell_type": "code",
   "execution_count": 7,
   "metadata": {},
   "outputs": [
    {
     "name": "stderr",
     "output_type": "stream",
     "text": [
      "/Users/lara/anaconda3/lib/python3.7/site-packages/ipykernel_launcher.py:38: SettingWithCopyWarning: \n",
      "A value is trying to be set on a copy of a slice from a DataFrame.\n",
      "Try using .loc[row_indexer,col_indexer] = value instead\n",
      "\n",
      "See the caveats in the documentation: https://pandas.pydata.org/pandas-docs/stable/user_guide/indexing.html#returning-a-view-versus-a-copy\n"
     ]
    }
   ],
   "source": [
    "X_train_fe = feature_engineer(X_train)\n",
    "X_test_fe = feature_engineer(X_test)"
   ]
  },
  {
   "cell_type": "code",
   "execution_count": 8,
   "metadata": {},
   "outputs": [],
   "source": [
    "from sklearn.preprocessing import PolynomialFeatures\n",
    "pt = PolynomialFeatures()\n",
    "\n",
    "p_features = pt.fit_transform(X_train_fe[['atemp']])\n",
    "polynomial_temp_df = pd.DataFrame.from_records(p_features)\n",
    "polynomial_temp_df.columns = ['t', 't2', 'temp_pol2']\n",
    "X_train_fe = X_train_fe.join(polynomial_temp_df['temp_pol2'], how='left')\n",
    "X_train_fe = X_train_fe.reset_index()\n",
    "\n",
    "\n"
   ]
  },
  {
   "cell_type": "code",
   "execution_count": 9,
   "metadata": {},
   "outputs": [],
   "source": [
    "pt = PolynomialFeatures(degree=2)\n",
    "p_features = pt.fit_transform(X_test_fe[['atemp']])\n",
    "polynomial_temp_df = pd.DataFrame.from_records(p_features)\n",
    "polynomial_temp_df.columns = ['t', 't2', 'temp_pol2']\n",
    "X_test_fe = X_test_fe.join(polynomial_temp_df['temp_pol2'], how='left')\n",
    "#X_test_fe = X_test_fe.fillna(0)\n",
    "X_test_fe = X_test_fe.reset_index()"
   ]
  },
  {
   "cell_type": "code",
   "execution_count": 10,
   "metadata": {},
   "outputs": [],
   "source": [
    "# # scaling with standard scaler\n",
    "from sklearn.preprocessing import StandardScaler\n",
    "scaler = StandardScaler()\n",
    "X_train_fe = scaler.fit_transform(X_train_fe)\n",
    "X_test_fe = scaler.fit_transform(X_test_fe)\n"
   ]
  },
  {
   "cell_type": "code",
   "execution_count": 11,
   "metadata": {},
   "outputs": [
    {
     "name": "stdout",
     "output_type": "stream",
     "text": [
      "LinearRegression Coefficients [ -0.72805507  24.40819828  23.16623264 -24.58248839  79.24900211\n",
      "   1.26588485   5.59371983   9.55022321  18.47667475  12.5123888\n",
      "   4.91402526   9.03815081  21.14214894  24.00625367  20.12673366\n",
      "  18.57561356  -3.47981073 -17.5296357   -3.01198519  -5.31893289\n",
      "  -7.52600948  -7.47565484  -4.04958614   7.31247096  -6.21973037\n",
      "   5.53701258  16.21178165  20.97465179  25.9244932   32.15429204\n",
      "  31.56009913  18.81942303  29.64767694  42.10231431  41.62719774\n",
      "  33.45545677  26.96682556  30.76357946  22.00300882  13.99228056\n",
      "   6.79880159 -69.26213658  49.70110204  68.25042791  18.80969829\n",
      "  39.81790724  41.92382743  25.01864886  15.78215618  -3.07403002]\n",
      "LinearRegression Intercept 190.50815342214057\n",
      "LinearRegression Slope -0.7280550655172738\n",
      "\n",
      "LinearRegression Train Score 0.7447261196143407\n",
      "cross-validation score [0.72406431 0.75378817 0.72719258 0.74580298 0.75445799]\n",
      "cross-validation Average 0.7410612075291041\n",
      "\n",
      "LinearRegression Test Score 0.7428635765104962\n",
      "LinearReg on Test\n",
      "Mean Squarred Error:  8406.783118327408\n",
      "Root Mean Squarred Error:  64.39453253688619\n",
      "Root Mean Squarred Log Error:  0.9687901825649513\n"
     ]
    }
   ],
   "source": [
    "LinReg(X_train_fe, y_train, X_test_fe, y_test)"
   ]
  },
  {
   "cell_type": "code",
   "execution_count": 12,
   "metadata": {},
   "outputs": [
    {
     "name": "stdout",
     "output_type": "stream",
     "text": [
      "25 0.8064056276811165\n",
      "26 0.8045877237796323\n",
      "27 0.8074849381865209\n",
      "28 0.806262911973286\n",
      "29 0.8086229822097339\n",
      "30 0.8076354167900289\n",
      "RandForReg, best depth between 25 and30 is 29\n",
      "RandForest Train Score 96.89\n",
      "cross-validation score [79.16 80.55 79.31 81.69 82.19]\n",
      "cross-validation Average 80.58\n",
      "\n",
      "RandForest Test Score 80.92\n",
      "RandForestReg on Test\n",
      "Mean Squarred Error:  6488.447275085153\n",
      "Root Mean Squarred Error:  54.050056785022726\n",
      "Root Mean Squarred Log Error:  0.5557607989886408\n"
     ]
    }
   ],
   "source": [
    "# RandForestReg(X_train_df, y_train_data, X_test_df, y_test_data, maxdepth)\n",
    "RandForestReg(X_train_fe, y_train, X_test_fe, y_test, 25, 30)"
   ]
  },
  {
   "cell_type": "code",
   "execution_count": 13,
   "metadata": {},
   "outputs": [],
   "source": [
    "#RandForestClassif(X_train_fe, y_train, X_test_fe, y_test, 500, 3, 10)"
   ]
  },
  {
   "cell_type": "code",
   "execution_count": 14,
   "metadata": {},
   "outputs": [
    {
     "name": "stdout",
     "output_type": "stream",
     "text": [
      "3 0.7525863717959596\n",
      "4 0.7922875155409584\n",
      "5 0.8078139590467588\n",
      "6 0.8164778931693126\n",
      "7 0.8155157595286031\n",
      "8 0.8159555332738329\n",
      "9 0.8148431120510229\n",
      "10 0.8060316596082122\n",
      "GradientBoostingRegressor, best depth between 1 and 10 is 6\n",
      "GradientBoostingRegressor Train Score 14.34\n"
     ]
    },
    {
     "name": "stderr",
     "output_type": "stream",
     "text": [
      "/Users/lara/anaconda3/lib/python3.7/site-packages/sklearn/model_selection/_split.py:667: UserWarning: The least populated class in y has only 1 members, which is less than n_splits=5.\n",
      "  % (min_groups, self.n_splits)), UserWarning)\n"
     ]
    },
    {
     "name": "stdout",
     "output_type": "stream",
     "text": [
      "cross-validation score [2.12 2.07 2.53 1.9  2.53]\n",
      "cross-validation Average 2.23\n",
      "\n",
      "GradientBoostingRegressor Test Score 2.02\n",
      "GradientBoostingRegressor on Test\n",
      "Mean Squarred Error:  58264.83417547083\n",
      "Root Mean Squarred Error:  167.2540192926045\n",
      "Root Mean Squarred Log Error:  2.8524336714245115\n"
     ]
    }
   ],
   "source": [
    "GradientBoostReg(X_train_fe, y_train, X_test_fe, y_test, 3, 10)"
   ]
  },
  {
   "cell_type": "code",
   "execution_count": 16,
   "metadata": {},
   "outputs": [
    {
     "name": "stdout",
     "output_type": "stream",
     "text": [
      "svr_rbf_score Train Score 87.05\n",
      "svr_lin_score Train Score 73.01\n",
      "svr_poly_score Train Score 87.21\n",
      "\\svr_rbf Test Score 77.09\n",
      "\\svr_lin Test Score 72.13\n",
      "\\svr_poly Test Score 81.37\n",
      "svr_rbf on Test\n",
      "Mean Squarred Error:  7791.381435747786\n",
      "svr_lin on Test\n",
      "Mean Squarred Error:  9480.519736743347\n",
      "svr_poly on Test\n",
      "Mean Squarred Error:  6336.781391229811\n",
      "Root Mean Squarred Error rbf:  57.73551277999988\n",
      "Root Mean Squarred Error lin:  67.08590578715038\n",
      "Root Mean Squarred Error poly:  52.244425410052216\n"
     ]
    },
    {
     "ename": "ValueError",
     "evalue": "Mean Squared Logarithmic Error cannot be used when targets contain negative values.",
     "output_type": "error",
     "traceback": [
      "\u001b[0;31m---------------------------------------------------------------------------\u001b[0m",
      "\u001b[0;31mValueError\u001b[0m                                Traceback (most recent call last)",
      "\u001b[0;32m<ipython-input-16-c1c5e029d3fd>\u001b[0m in \u001b[0;36m<module>\u001b[0;34m\u001b[0m\n\u001b[0;32m----> 1\u001b[0;31m \u001b[0mSuppVecReg\u001b[0m\u001b[0;34m(\u001b[0m\u001b[0mX_train_fe\u001b[0m\u001b[0;34m,\u001b[0m \u001b[0my_train\u001b[0m\u001b[0;34m,\u001b[0m \u001b[0mX_test_fe\u001b[0m\u001b[0;34m,\u001b[0m \u001b[0my_test\u001b[0m\u001b[0;34m)\u001b[0m\u001b[0;34m\u001b[0m\u001b[0;34m\u001b[0m\u001b[0m\n\u001b[0m",
      "\u001b[0;32m~/repos/datascience_python/03_ML_regression/utilities/compare_models.py\u001b[0m in \u001b[0;36mSuppVecReg\u001b[0;34m(Xtr, ytr, Xtest, ytest)\u001b[0m\n\u001b[1;32m    318\u001b[0m     \u001b[0mprint\u001b[0m\u001b[0;34m(\u001b[0m\u001b[0;34m\"Root Mean Squarred Error poly: \"\u001b[0m\u001b[0;34m,\u001b[0m \u001b[0mrmse\u001b[0m\u001b[0;34m(\u001b[0m\u001b[0my_pred_svr_poly\u001b[0m\u001b[0;34m,\u001b[0m \u001b[0mytest\u001b[0m\u001b[0;34m)\u001b[0m\u001b[0;34m.\u001b[0m\u001b[0mmean\u001b[0m\u001b[0;34m(\u001b[0m\u001b[0;34m)\u001b[0m\u001b[0;34m)\u001b[0m\u001b[0;34m\u001b[0m\u001b[0;34m\u001b[0m\u001b[0m\n\u001b[1;32m    319\u001b[0m \u001b[0;34m\u001b[0m\u001b[0m\n\u001b[0;32m--> 320\u001b[0;31m \u001b[0;34m\u001b[0m\u001b[0m\n\u001b[0m\u001b[1;32m    321\u001b[0m     \u001b[0mprint\u001b[0m\u001b[0;34m(\u001b[0m\u001b[0;34m\"Root Mean Squarred Log Error rbf: \"\u001b[0m\u001b[0;34m,\u001b[0m \u001b[0mrmsle\u001b[0m\u001b[0;34m(\u001b[0m\u001b[0my_pred_svr_rbf\u001b[0m\u001b[0;34m,\u001b[0m \u001b[0mytest\u001b[0m\u001b[0;34m)\u001b[0m\u001b[0;34m)\u001b[0m\u001b[0;34m\u001b[0m\u001b[0;34m\u001b[0m\u001b[0m\n\u001b[1;32m    322\u001b[0m     \u001b[0mprint\u001b[0m\u001b[0;34m(\u001b[0m\u001b[0;34m\"Root Mean Squarred Log Error lin: \"\u001b[0m\u001b[0;34m,\u001b[0m \u001b[0mrmsle\u001b[0m\u001b[0;34m(\u001b[0m\u001b[0my_pred_svr_lin\u001b[0m\u001b[0;34m,\u001b[0m \u001b[0mytest\u001b[0m\u001b[0;34m)\u001b[0m\u001b[0;34m)\u001b[0m\u001b[0;34m\u001b[0m\u001b[0;34m\u001b[0m\u001b[0m\n",
      "\u001b[0;32m~/repos/datascience_python/03_ML_regression/utilities/compare_models.py\u001b[0m in \u001b[0;36mrmsle\u001b[0;34m(p, a)\u001b[0m\n\u001b[1;32m    111\u001b[0m \u001b[0;34m\u001b[0m\u001b[0m\n\u001b[1;32m    112\u001b[0m \u001b[0;32mdef\u001b[0m \u001b[0mrmsle\u001b[0m\u001b[0;34m(\u001b[0m\u001b[0mp\u001b[0m\u001b[0;34m,\u001b[0m \u001b[0ma\u001b[0m\u001b[0;34m)\u001b[0m\u001b[0;34m:\u001b[0m\u001b[0;34m\u001b[0m\u001b[0;34m\u001b[0m\u001b[0m\n\u001b[0;32m--> 113\u001b[0;31m     \u001b[0;32mreturn\u001b[0m \u001b[0mnp\u001b[0m\u001b[0;34m.\u001b[0m\u001b[0msqrt\u001b[0m\u001b[0;34m(\u001b[0m\u001b[0mmean_squared_log_error\u001b[0m\u001b[0;34m(\u001b[0m\u001b[0mp\u001b[0m\u001b[0;34m,\u001b[0m \u001b[0ma\u001b[0m\u001b[0;34m)\u001b[0m\u001b[0;34m)\u001b[0m\u001b[0;34m\u001b[0m\u001b[0;34m\u001b[0m\u001b[0m\n\u001b[0m\u001b[1;32m    114\u001b[0m \u001b[0;34m\u001b[0m\u001b[0m\n\u001b[1;32m    115\u001b[0m \u001b[0;34m\u001b[0m\u001b[0m\n",
      "\u001b[0;32m~/anaconda3/lib/python3.7/site-packages/sklearn/metrics/_regression.py\u001b[0m in \u001b[0;36mmean_squared_log_error\u001b[0;34m(y_true, y_pred, sample_weight, multioutput)\u001b[0m\n\u001b[1;32m    324\u001b[0m \u001b[0;34m\u001b[0m\u001b[0m\n\u001b[1;32m    325\u001b[0m     \u001b[0;32mif\u001b[0m \u001b[0;34m(\u001b[0m\u001b[0my_true\u001b[0m \u001b[0;34m<\u001b[0m \u001b[0;36m0\u001b[0m\u001b[0;34m)\u001b[0m\u001b[0;34m.\u001b[0m\u001b[0many\u001b[0m\u001b[0;34m(\u001b[0m\u001b[0;34m)\u001b[0m \u001b[0;32mor\u001b[0m \u001b[0;34m(\u001b[0m\u001b[0my_pred\u001b[0m \u001b[0;34m<\u001b[0m \u001b[0;36m0\u001b[0m\u001b[0;34m)\u001b[0m\u001b[0;34m.\u001b[0m\u001b[0many\u001b[0m\u001b[0;34m(\u001b[0m\u001b[0;34m)\u001b[0m\u001b[0;34m:\u001b[0m\u001b[0;34m\u001b[0m\u001b[0;34m\u001b[0m\u001b[0m\n\u001b[0;32m--> 326\u001b[0;31m         raise ValueError(\"Mean Squared Logarithmic Error cannot be used when \"\n\u001b[0m\u001b[1;32m    327\u001b[0m                          \"targets contain negative values.\")\n\u001b[1;32m    328\u001b[0m \u001b[0;34m\u001b[0m\u001b[0m\n",
      "\u001b[0;31mValueError\u001b[0m: Mean Squared Logarithmic Error cannot be used when targets contain negative values."
     ]
    }
   ],
   "source": [
    "SuppVecReg(X_train_fe, y_train, X_test_fe, y_test)"
   ]
  },
  {
   "cell_type": "code",
   "execution_count": null,
   "metadata": {},
   "outputs": [],
   "source": []
  }
 ],
 "metadata": {
  "kernelspec": {
   "display_name": "Python 3",
   "language": "python",
   "name": "python3"
  },
  "language_info": {
   "codemirror_mode": {
    "name": "ipython",
    "version": 3
   },
   "file_extension": ".py",
   "mimetype": "text/x-python",
   "name": "python",
   "nbconvert_exporter": "python",
   "pygments_lexer": "ipython3",
   "version": "3.7.6"
  }
 },
 "nbformat": 4,
 "nbformat_minor": 4
}
