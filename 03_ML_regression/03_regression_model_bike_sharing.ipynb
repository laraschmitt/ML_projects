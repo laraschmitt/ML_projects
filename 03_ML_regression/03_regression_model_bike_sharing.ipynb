{
 "cells": [
  {
   "cell_type": "markdown",
   "metadata": {},
   "source": [
    "\n",
    "\n",
    "Build and train a regression model on the Capital Bike Share (Washington, D.C.) Kaggle data set, in order to predict demand for bicycle rentals at any given hour, based on time- and weather-related features.\n",
    "\n",
    " This project follows a Machine Learning process similar to the one you learned last week.\n",
    "\n",
    "Key steps:\n",
    "\n",
    "exploratory data analysis\n",
    "train/test split\n",
    "feature engineering\n",
    "train a model\n",
    "cross-validation\n",
    "optimize the model iteratively, select features, try different regressors (e.g. Linear Regression, Random Forest Regressor, SVR)\n",
    "alculate a test score when you are done\n",
    "submit to Kaggle\n",
    "\n"
   ]
  },
  {
   "cell_type": "code",
   "execution_count": null,
   "metadata": {},
   "outputs": [],
   "source": []
  }
 ],
 "metadata": {
  "kernelspec": {
   "display_name": "Python 3",
   "language": "python",
   "name": "python3"
  },
  "language_info": {
   "codemirror_mode": {
    "name": "ipython",
    "version": 3
   },
   "file_extension": ".py",
   "mimetype": "text/x-python",
   "name": "python",
   "nbconvert_exporter": "python",
   "pygments_lexer": "ipython3",
   "version": "3.7.6"
  }
 },
 "nbformat": 4,
 "nbformat_minor": 4
}
