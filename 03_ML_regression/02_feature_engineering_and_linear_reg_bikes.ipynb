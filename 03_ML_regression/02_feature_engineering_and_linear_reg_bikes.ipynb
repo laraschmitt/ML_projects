{
 "cells": [
  {
   "cell_type": "code",
   "execution_count": 1060,
   "metadata": {},
   "outputs": [],
   "source": [
    "import pandas as pd"
   ]
  },
  {
   "cell_type": "markdown",
   "metadata": {},
   "source": [
    "### Import data"
   ]
  },
  {
   "cell_type": "code",
   "execution_count": 1061,
   "metadata": {
    "scrolled": true
   },
   "outputs": [
    {
     "data": {
      "text/html": [
       "<div>\n",
       "<style scoped>\n",
       "    .dataframe tbody tr th:only-of-type {\n",
       "        vertical-align: middle;\n",
       "    }\n",
       "\n",
       "    .dataframe tbody tr th {\n",
       "        vertical-align: top;\n",
       "    }\n",
       "\n",
       "    .dataframe thead th {\n",
       "        text-align: right;\n",
       "    }\n",
       "</style>\n",
       "<table border=\"1\" class=\"dataframe\">\n",
       "  <thead>\n",
       "    <tr style=\"text-align: right;\">\n",
       "      <th></th>\n",
       "      <th>datetime</th>\n",
       "      <th>season</th>\n",
       "      <th>holiday</th>\n",
       "      <th>workingday</th>\n",
       "      <th>weather</th>\n",
       "      <th>temp</th>\n",
       "      <th>atemp</th>\n",
       "      <th>humidity</th>\n",
       "      <th>windspeed</th>\n",
       "      <th>casual</th>\n",
       "      <th>registered</th>\n",
       "      <th>count</th>\n",
       "    </tr>\n",
       "  </thead>\n",
       "  <tbody>\n",
       "    <tr>\n",
       "      <th>0</th>\n",
       "      <td>2011-01-01 00:00:00</td>\n",
       "      <td>1</td>\n",
       "      <td>0</td>\n",
       "      <td>0</td>\n",
       "      <td>1</td>\n",
       "      <td>9.84</td>\n",
       "      <td>14.395</td>\n",
       "      <td>81</td>\n",
       "      <td>0.0</td>\n",
       "      <td>3</td>\n",
       "      <td>13</td>\n",
       "      <td>16</td>\n",
       "    </tr>\n",
       "    <tr>\n",
       "      <th>1</th>\n",
       "      <td>2011-01-01 01:00:00</td>\n",
       "      <td>1</td>\n",
       "      <td>0</td>\n",
       "      <td>0</td>\n",
       "      <td>1</td>\n",
       "      <td>9.02</td>\n",
       "      <td>13.635</td>\n",
       "      <td>80</td>\n",
       "      <td>0.0</td>\n",
       "      <td>8</td>\n",
       "      <td>32</td>\n",
       "      <td>40</td>\n",
       "    </tr>\n",
       "    <tr>\n",
       "      <th>2</th>\n",
       "      <td>2011-01-01 02:00:00</td>\n",
       "      <td>1</td>\n",
       "      <td>0</td>\n",
       "      <td>0</td>\n",
       "      <td>1</td>\n",
       "      <td>9.02</td>\n",
       "      <td>13.635</td>\n",
       "      <td>80</td>\n",
       "      <td>0.0</td>\n",
       "      <td>5</td>\n",
       "      <td>27</td>\n",
       "      <td>32</td>\n",
       "    </tr>\n",
       "    <tr>\n",
       "      <th>3</th>\n",
       "      <td>2011-01-01 03:00:00</td>\n",
       "      <td>1</td>\n",
       "      <td>0</td>\n",
       "      <td>0</td>\n",
       "      <td>1</td>\n",
       "      <td>9.84</td>\n",
       "      <td>14.395</td>\n",
       "      <td>75</td>\n",
       "      <td>0.0</td>\n",
       "      <td>3</td>\n",
       "      <td>10</td>\n",
       "      <td>13</td>\n",
       "    </tr>\n",
       "    <tr>\n",
       "      <th>4</th>\n",
       "      <td>2011-01-01 04:00:00</td>\n",
       "      <td>1</td>\n",
       "      <td>0</td>\n",
       "      <td>0</td>\n",
       "      <td>1</td>\n",
       "      <td>9.84</td>\n",
       "      <td>14.395</td>\n",
       "      <td>75</td>\n",
       "      <td>0.0</td>\n",
       "      <td>0</td>\n",
       "      <td>1</td>\n",
       "      <td>1</td>\n",
       "    </tr>\n",
       "  </tbody>\n",
       "</table>\n",
       "</div>"
      ],
      "text/plain": [
       "              datetime  season  holiday  workingday  weather  temp   atemp  \\\n",
       "0  2011-01-01 00:00:00       1        0           0        1  9.84  14.395   \n",
       "1  2011-01-01 01:00:00       1        0           0        1  9.02  13.635   \n",
       "2  2011-01-01 02:00:00       1        0           0        1  9.02  13.635   \n",
       "3  2011-01-01 03:00:00       1        0           0        1  9.84  14.395   \n",
       "4  2011-01-01 04:00:00       1        0           0        1  9.84  14.395   \n",
       "\n",
       "   humidity  windspeed  casual  registered  count  \n",
       "0        81        0.0       3          13     16  \n",
       "1        80        0.0       8          32     40  \n",
       "2        80        0.0       5          27     32  \n",
       "3        75        0.0       3          10     13  \n",
       "4        75        0.0       0           1      1  "
      ]
     },
     "execution_count": 1061,
     "metadata": {},
     "output_type": "execute_result"
    }
   ],
   "source": [
    "df = pd.read_csv('train.csv')\n",
    "df.head()"
   ]
  },
  {
   "cell_type": "markdown",
   "metadata": {},
   "source": [
    "### Convert datetime col to datetime format and add columns for day, month, dayofweek, year, dayofyear "
   ]
  },
  {
   "cell_type": "code",
   "execution_count": 1062,
   "metadata": {},
   "outputs": [
    {
     "data": {
      "text/html": [
       "<div>\n",
       "<style scoped>\n",
       "    .dataframe tbody tr th:only-of-type {\n",
       "        vertical-align: middle;\n",
       "    }\n",
       "\n",
       "    .dataframe tbody tr th {\n",
       "        vertical-align: top;\n",
       "    }\n",
       "\n",
       "    .dataframe thead th {\n",
       "        text-align: right;\n",
       "    }\n",
       "</style>\n",
       "<table border=\"1\" class=\"dataframe\">\n",
       "  <thead>\n",
       "    <tr style=\"text-align: right;\">\n",
       "      <th></th>\n",
       "      <th>datetime</th>\n",
       "      <th>season</th>\n",
       "      <th>holiday</th>\n",
       "      <th>workingday</th>\n",
       "      <th>weather</th>\n",
       "      <th>temp</th>\n",
       "      <th>atemp</th>\n",
       "      <th>humidity</th>\n",
       "      <th>windspeed</th>\n",
       "      <th>casual</th>\n",
       "      <th>registered</th>\n",
       "      <th>count</th>\n",
       "      <th>month</th>\n",
       "      <th>dayofweek</th>\n",
       "      <th>hour</th>\n",
       "      <th>dayofyear</th>\n",
       "    </tr>\n",
       "  </thead>\n",
       "  <tbody>\n",
       "    <tr>\n",
       "      <th>0</th>\n",
       "      <td>2011-01-01 00:00:00</td>\n",
       "      <td>1</td>\n",
       "      <td>0</td>\n",
       "      <td>0</td>\n",
       "      <td>1</td>\n",
       "      <td>9.84</td>\n",
       "      <td>14.395</td>\n",
       "      <td>81</td>\n",
       "      <td>0.0</td>\n",
       "      <td>3</td>\n",
       "      <td>13</td>\n",
       "      <td>16</td>\n",
       "      <td>1</td>\n",
       "      <td>5</td>\n",
       "      <td>0</td>\n",
       "      <td>1</td>\n",
       "    </tr>\n",
       "    <tr>\n",
       "      <th>1</th>\n",
       "      <td>2011-01-01 01:00:00</td>\n",
       "      <td>1</td>\n",
       "      <td>0</td>\n",
       "      <td>0</td>\n",
       "      <td>1</td>\n",
       "      <td>9.02</td>\n",
       "      <td>13.635</td>\n",
       "      <td>80</td>\n",
       "      <td>0.0</td>\n",
       "      <td>8</td>\n",
       "      <td>32</td>\n",
       "      <td>40</td>\n",
       "      <td>1</td>\n",
       "      <td>5</td>\n",
       "      <td>1</td>\n",
       "      <td>1</td>\n",
       "    </tr>\n",
       "  </tbody>\n",
       "</table>\n",
       "</div>"
      ],
      "text/plain": [
       "             datetime  season  holiday  workingday  weather  temp   atemp  \\\n",
       "0 2011-01-01 00:00:00       1        0           0        1  9.84  14.395   \n",
       "1 2011-01-01 01:00:00       1        0           0        1  9.02  13.635   \n",
       "\n",
       "   humidity  windspeed  casual  registered  count  month  dayofweek  hour  \\\n",
       "0        81        0.0       3          13     16      1          5     0   \n",
       "1        80        0.0       8          32     40      1          5     1   \n",
       "\n",
       "   dayofyear  \n",
       "0          1  \n",
       "1          1  "
      ]
     },
     "execution_count": 1062,
     "metadata": {},
     "output_type": "execute_result"
    }
   ],
   "source": [
    "df['datetime'] = pd.to_datetime(df['datetime']) # convert column\n",
    "\n",
    "df['month'] = df['datetime'].dt.month\n",
    "df['dayofweek'] = df['datetime'].dt.dayofweek\n",
    "df['hour'] = df['datetime'].dt.hour\n",
    "df['dayofyear'] = df['datetime'].dt.dayofyear\n",
    "\n",
    "df.head(2)"
   ]
  },
  {
   "cell_type": "markdown",
   "metadata": {},
   "source": [
    "### Train-test split\n",
    "\n"
   ]
  },
  {
   "cell_type": "code",
   "execution_count": 1063,
   "metadata": {},
   "outputs": [
    {
     "data": {
      "text/plain": [
       "pandas.core.series.Series"
      ]
     },
     "execution_count": 1063,
     "metadata": {},
     "output_type": "execute_result"
    }
   ],
   "source": [
    "X = df.drop('count', axis=1)\n",
    "type(X) # feature matrix\n",
    "\n",
    "y = pd.to_numeric(df['count'])\n",
    "type(y) # series "
   ]
  },
  {
   "cell_type": "code",
   "execution_count": 1064,
   "metadata": {
    "scrolled": true
   },
   "outputs": [
    {
     "data": {
      "text/plain": [
       "((8708, 15), (8708,))"
      ]
     },
     "execution_count": 1064,
     "metadata": {},
     "output_type": "execute_result"
    }
   ],
   "source": [
    "from sklearn.model_selection import train_test_split\n",
    "\n",
    "X_train, X_test, y_train, y_test = train_test_split(X, y, test_size=0.2, random_state=0) # stratify=y\n",
    "\n",
    "X_train.shape, y_train.shape\n",
    "\n"
   ]
  },
  {
   "cell_type": "code",
   "execution_count": 1065,
   "metadata": {},
   "outputs": [
    {
     "data": {
      "text/plain": [
       "((2178, 15), (8708,))"
      ]
     },
     "execution_count": 1065,
     "metadata": {},
     "output_type": "execute_result"
    }
   ],
   "source": [
    "X_test.shape, y_train.shape"
   ]
  },
  {
   "cell_type": "markdown",
   "metadata": {},
   "source": [
    "### Feature Engineering Function"
   ]
  },
  {
   "cell_type": "code",
   "execution_count": 1066,
   "metadata": {},
   "outputs": [],
   "source": [
    "import datetime as dt\n",
    "def feature_engineer(df): # take any dataframe, no matter if test or train\n",
    "        # select relevant features\n",
    "        df_sub = df[['hour', 'atemp', 'temp', 'humidity', 'season', 'workingday', 'weather']] # , 'windspeed', 'weather', 'month',\n",
    "        df_sub2 = df[['humidity', 'atemp', 'workingday', 'temp']]\n",
    "        # one hot-encoding of season\n",
    "        season_binary_df = pd.get_dummies(df_sub['season'], prefix='season') # , prefix='Pclass'\n",
    "        season_binary_df = season_binary_df.drop('season_1', axis=1)\n",
    "        \n",
    "        # remove rows with weather cat 4 \n",
    "        cond = df_sub[ df_sub['weather'] == 4].index\n",
    "        # Delete these row indexes from dataFrame\n",
    "        df_sub.drop(cond , inplace=True)\n",
    "        \n",
    "        # one hot encoding of weather cat\n",
    "        weat_binary_df = pd.get_dummies(df_sub['weather'], prefix='weather_cat')\n",
    "        weat_binary_df = weat_binary_df.drop('weather_cat_1', axis=1)\n",
    "        # one hot encoding of hour\n",
    "        hour_binary_df = pd.get_dummies(df_sub['hour'], prefix='hour')\n",
    "        hour_binary_df = hour_binary_df.drop('hour_0', axis=1)\n",
    "        # join with the sub_df\n",
    "        df_fe = pd.DataFrame(df_sub2.join([weat_binary_df, season_binary_df, hour_binary_df], how='left'))\n",
    "        \n",
    "        # interaction term humidity and temperature\n",
    "        df_fe['temp_hum_interact'] = df_fe['temp'] * df_fe['humidity']\n",
    "        \n",
    "        # interaction term working day and roushhours (6-9, 16-19)\n",
    "        df_fe['workday_hour_7_interact'] = df_fe['workingday'] * hour_binary_df['hour_7'] \n",
    "        df_fe['workday_hour_8_interact'] = df_fe['workingday'] * hour_binary_df['hour_8'] \n",
    "        df_fe['workday_hour_9_interact'] = df_fe['workingday'] * hour_binary_df['hour_9']\n",
    "        df_fe['workday_hour_17_interact'] = df_fe['workingday'] * hour_binary_df['hour_17']  \n",
    "        df_fe['workday_hour_18_interact'] = df_fe['workingday'] * hour_binary_df['hour_18']\n",
    "        df_fe['workday_hour_19_interact'] = df_fe['workingday'] * hour_binary_df['hour_19']\n",
    "        \n",
    "        # interaction term non-working day and hour of day \n",
    "        # create non-working day column\n",
    "        df_sub['non_workingday'] = df_sub['workingday'].replace({0:1, 1:0})\n",
    "        df_fe['non_workingday'] = df_sub['non_workingday'] * hour_binary_df['hour_11'] \n",
    "        df_fe['non_workingday'] = df_sub['non_workingday'] * hour_binary_df['hour_12'] \n",
    "        df_fe['non_workingday'] = df_sub['non_workingday'] * hour_binary_df['hour_13']\n",
    "        df_fe['non_workingday'] = df_sub['non_workingday'] * hour_binary_df['hour_14']\n",
    "\n",
    "        \n",
    "        \n",
    "        # remove one-hot encoded hours!!! (they confuse the model?)\n",
    "\n",
    "        \n",
    "        return df_fe"
   ]
  },
  {
   "cell_type": "code",
   "execution_count": 1067,
   "metadata": {
    "scrolled": true
   },
   "outputs": [
    {
     "name": "stderr",
     "output_type": "stream",
     "text": [
      "/Users/lara/anaconda3/lib/python3.7/site-packages/pandas/core/frame.py:3997: SettingWithCopyWarning: \n",
      "A value is trying to be set on a copy of a slice from a DataFrame\n",
      "\n",
      "See the caveats in the documentation: https://pandas.pydata.org/pandas-docs/stable/user_guide/indexing.html#returning-a-view-versus-a-copy\n",
      "  errors=errors,\n",
      "/Users/lara/anaconda3/lib/python3.7/site-packages/ipykernel_launcher.py:37: SettingWithCopyWarning: \n",
      "A value is trying to be set on a copy of a slice from a DataFrame.\n",
      "Try using .loc[row_indexer,col_indexer] = value instead\n",
      "\n",
      "See the caveats in the documentation: https://pandas.pydata.org/pandas-docs/stable/user_guide/indexing.html#returning-a-view-versus-a-copy\n"
     ]
    }
   ],
   "source": [
    "X_train_fe = feature_engineer(X_train)\n"
   ]
  },
  {
   "cell_type": "code",
   "execution_count": 1068,
   "metadata": {
    "scrolled": true
   },
   "outputs": [
    {
     "data": {
      "text/html": [
       "<div>\n",
       "<style scoped>\n",
       "    .dataframe tbody tr th:only-of-type {\n",
       "        vertical-align: middle;\n",
       "    }\n",
       "\n",
       "    .dataframe tbody tr th {\n",
       "        vertical-align: top;\n",
       "    }\n",
       "\n",
       "    .dataframe thead th {\n",
       "        text-align: right;\n",
       "    }\n",
       "</style>\n",
       "<table border=\"1\" class=\"dataframe\">\n",
       "  <thead>\n",
       "    <tr style=\"text-align: right;\">\n",
       "      <th></th>\n",
       "      <th>humidity</th>\n",
       "      <th>atemp</th>\n",
       "      <th>workingday</th>\n",
       "      <th>temp</th>\n",
       "      <th>weather_cat_2</th>\n",
       "      <th>weather_cat_3</th>\n",
       "      <th>season_2</th>\n",
       "      <th>season_3</th>\n",
       "      <th>season_4</th>\n",
       "      <th>hour_1</th>\n",
       "      <th>...</th>\n",
       "      <th>hour_22</th>\n",
       "      <th>hour_23</th>\n",
       "      <th>temp_hum_interact</th>\n",
       "      <th>workday_hour_7_interact</th>\n",
       "      <th>workday_hour_8_interact</th>\n",
       "      <th>workday_hour_9_interact</th>\n",
       "      <th>workday_hour_17_interact</th>\n",
       "      <th>workday_hour_18_interact</th>\n",
       "      <th>workday_hour_19_interact</th>\n",
       "      <th>non_workingday</th>\n",
       "    </tr>\n",
       "  </thead>\n",
       "  <tbody>\n",
       "    <tr>\n",
       "      <th>3662</th>\n",
       "      <td>61</td>\n",
       "      <td>32.575</td>\n",
       "      <td>0</td>\n",
       "      <td>28.70</td>\n",
       "      <td>0.0</td>\n",
       "      <td>0.0</td>\n",
       "      <td>0</td>\n",
       "      <td>1</td>\n",
       "      <td>0</td>\n",
       "      <td>0.0</td>\n",
       "      <td>...</td>\n",
       "      <td>0.0</td>\n",
       "      <td>0.0</td>\n",
       "      <td>1750.70</td>\n",
       "      <td>0.0</td>\n",
       "      <td>0.0</td>\n",
       "      <td>0.0</td>\n",
       "      <td>0.0</td>\n",
       "      <td>0.0</td>\n",
       "      <td>0.0</td>\n",
       "      <td>0.0</td>\n",
       "    </tr>\n",
       "    <tr>\n",
       "      <th>8648</th>\n",
       "      <td>52</td>\n",
       "      <td>38.635</td>\n",
       "      <td>1</td>\n",
       "      <td>33.62</td>\n",
       "      <td>0.0</td>\n",
       "      <td>0.0</td>\n",
       "      <td>0</td>\n",
       "      <td>1</td>\n",
       "      <td>0</td>\n",
       "      <td>0.0</td>\n",
       "      <td>...</td>\n",
       "      <td>0.0</td>\n",
       "      <td>0.0</td>\n",
       "      <td>1748.24</td>\n",
       "      <td>0.0</td>\n",
       "      <td>0.0</td>\n",
       "      <td>0.0</td>\n",
       "      <td>1.0</td>\n",
       "      <td>0.0</td>\n",
       "      <td>0.0</td>\n",
       "      <td>0.0</td>\n",
       "    </tr>\n",
       "    <tr>\n",
       "      <th>7053</th>\n",
       "      <td>65</td>\n",
       "      <td>14.395</td>\n",
       "      <td>1</td>\n",
       "      <td>12.30</td>\n",
       "      <td>0.0</td>\n",
       "      <td>0.0</td>\n",
       "      <td>1</td>\n",
       "      <td>0</td>\n",
       "      <td>0</td>\n",
       "      <td>0.0</td>\n",
       "      <td>...</td>\n",
       "      <td>0.0</td>\n",
       "      <td>0.0</td>\n",
       "      <td>799.50</td>\n",
       "      <td>0.0</td>\n",
       "      <td>0.0</td>\n",
       "      <td>0.0</td>\n",
       "      <td>0.0</td>\n",
       "      <td>0.0</td>\n",
       "      <td>0.0</td>\n",
       "      <td>0.0</td>\n",
       "    </tr>\n",
       "    <tr>\n",
       "      <th>2685</th>\n",
       "      <td>62</td>\n",
       "      <td>34.090</td>\n",
       "      <td>0</td>\n",
       "      <td>29.52</td>\n",
       "      <td>0.0</td>\n",
       "      <td>0.0</td>\n",
       "      <td>1</td>\n",
       "      <td>0</td>\n",
       "      <td>0</td>\n",
       "      <td>0.0</td>\n",
       "      <td>...</td>\n",
       "      <td>0.0</td>\n",
       "      <td>0.0</td>\n",
       "      <td>1830.24</td>\n",
       "      <td>0.0</td>\n",
       "      <td>0.0</td>\n",
       "      <td>0.0</td>\n",
       "      <td>0.0</td>\n",
       "      <td>0.0</td>\n",
       "      <td>0.0</td>\n",
       "      <td>0.0</td>\n",
       "    </tr>\n",
       "    <tr>\n",
       "      <th>5927</th>\n",
       "      <td>60</td>\n",
       "      <td>12.880</td>\n",
       "      <td>1</td>\n",
       "      <td>10.66</td>\n",
       "      <td>0.0</td>\n",
       "      <td>0.0</td>\n",
       "      <td>0</td>\n",
       "      <td>0</td>\n",
       "      <td>0</td>\n",
       "      <td>0.0</td>\n",
       "      <td>...</td>\n",
       "      <td>0.0</td>\n",
       "      <td>0.0</td>\n",
       "      <td>639.60</td>\n",
       "      <td>0.0</td>\n",
       "      <td>0.0</td>\n",
       "      <td>0.0</td>\n",
       "      <td>0.0</td>\n",
       "      <td>0.0</td>\n",
       "      <td>0.0</td>\n",
       "      <td>0.0</td>\n",
       "    </tr>\n",
       "  </tbody>\n",
       "</table>\n",
       "<p>5 rows × 40 columns</p>\n",
       "</div>"
      ],
      "text/plain": [
       "      humidity   atemp  workingday   temp  weather_cat_2  weather_cat_3  \\\n",
       "3662        61  32.575           0  28.70            0.0            0.0   \n",
       "8648        52  38.635           1  33.62            0.0            0.0   \n",
       "7053        65  14.395           1  12.30            0.0            0.0   \n",
       "2685        62  34.090           0  29.52            0.0            0.0   \n",
       "5927        60  12.880           1  10.66            0.0            0.0   \n",
       "\n",
       "      season_2  season_3  season_4  hour_1  ...  hour_22  hour_23  \\\n",
       "3662         0         1         0     0.0  ...      0.0      0.0   \n",
       "8648         0         1         0     0.0  ...      0.0      0.0   \n",
       "7053         1         0         0     0.0  ...      0.0      0.0   \n",
       "2685         1         0         0     0.0  ...      0.0      0.0   \n",
       "5927         0         0         0     0.0  ...      0.0      0.0   \n",
       "\n",
       "      temp_hum_interact  workday_hour_7_interact  workday_hour_8_interact  \\\n",
       "3662            1750.70                      0.0                      0.0   \n",
       "8648            1748.24                      0.0                      0.0   \n",
       "7053             799.50                      0.0                      0.0   \n",
       "2685            1830.24                      0.0                      0.0   \n",
       "5927             639.60                      0.0                      0.0   \n",
       "\n",
       "      workday_hour_9_interact  workday_hour_17_interact  \\\n",
       "3662                      0.0                       0.0   \n",
       "8648                      0.0                       1.0   \n",
       "7053                      0.0                       0.0   \n",
       "2685                      0.0                       0.0   \n",
       "5927                      0.0                       0.0   \n",
       "\n",
       "      workday_hour_18_interact  workday_hour_19_interact  non_workingday  \n",
       "3662                       0.0                       0.0             0.0  \n",
       "8648                       0.0                       0.0             0.0  \n",
       "7053                       0.0                       0.0             0.0  \n",
       "2685                       0.0                       0.0             0.0  \n",
       "5927                       0.0                       0.0             0.0  \n",
       "\n",
       "[5 rows x 40 columns]"
      ]
     },
     "execution_count": 1068,
     "metadata": {},
     "output_type": "execute_result"
    }
   ],
   "source": [
    "X_train_fe.head()"
   ]
  },
  {
   "cell_type": "code",
   "execution_count": 1069,
   "metadata": {},
   "outputs": [
    {
     "data": {
      "text/plain": [
       "(8708, 40)"
      ]
     },
     "execution_count": 1069,
     "metadata": {},
     "output_type": "execute_result"
    }
   ],
   "source": [
    "X_train_fe.shape"
   ]
  },
  {
   "cell_type": "markdown",
   "metadata": {},
   "source": [
    "### Polynomial Features "
   ]
  },
  {
   "cell_type": "code",
   "execution_count": 1070,
   "metadata": {},
   "outputs": [
    {
     "data": {
      "text/plain": [
       "(8708, 3)"
      ]
     },
     "execution_count": 1070,
     "metadata": {},
     "output_type": "execute_result"
    }
   ],
   "source": [
    "\n",
    "from sklearn.preprocessing import PolynomialFeatures\n",
    "pt = PolynomialFeatures()\n",
    "p_features = pt.fit_transform(X_train_fe[['temp']])\n",
    "#p_features[:,2]\n",
    "p_features.shape"
   ]
  },
  {
   "cell_type": "code",
   "execution_count": 1071,
   "metadata": {},
   "outputs": [
    {
     "data": {
      "text/html": [
       "<div>\n",
       "<style scoped>\n",
       "    .dataframe tbody tr th:only-of-type {\n",
       "        vertical-align: middle;\n",
       "    }\n",
       "\n",
       "    .dataframe tbody tr th {\n",
       "        vertical-align: top;\n",
       "    }\n",
       "\n",
       "    .dataframe thead th {\n",
       "        text-align: right;\n",
       "    }\n",
       "</style>\n",
       "<table border=\"1\" class=\"dataframe\">\n",
       "  <thead>\n",
       "    <tr style=\"text-align: right;\">\n",
       "      <th></th>\n",
       "      <th>t</th>\n",
       "      <th>t2</th>\n",
       "      <th>temp_pol2</th>\n",
       "    </tr>\n",
       "  </thead>\n",
       "  <tbody>\n",
       "    <tr>\n",
       "      <th>0</th>\n",
       "      <td>1.0</td>\n",
       "      <td>28.70</td>\n",
       "      <td>823.6900</td>\n",
       "    </tr>\n",
       "    <tr>\n",
       "      <th>1</th>\n",
       "      <td>1.0</td>\n",
       "      <td>33.62</td>\n",
       "      <td>1130.3044</td>\n",
       "    </tr>\n",
       "    <tr>\n",
       "      <th>2</th>\n",
       "      <td>1.0</td>\n",
       "      <td>12.30</td>\n",
       "      <td>151.2900</td>\n",
       "    </tr>\n",
       "    <tr>\n",
       "      <th>3</th>\n",
       "      <td>1.0</td>\n",
       "      <td>29.52</td>\n",
       "      <td>871.4304</td>\n",
       "    </tr>\n",
       "    <tr>\n",
       "      <th>4</th>\n",
       "      <td>1.0</td>\n",
       "      <td>10.66</td>\n",
       "      <td>113.6356</td>\n",
       "    </tr>\n",
       "  </tbody>\n",
       "</table>\n",
       "</div>"
      ],
      "text/plain": [
       "     t     t2  temp_pol2\n",
       "0  1.0  28.70   823.6900\n",
       "1  1.0  33.62  1130.3044\n",
       "2  1.0  12.30   151.2900\n",
       "3  1.0  29.52   871.4304\n",
       "4  1.0  10.66   113.6356"
      ]
     },
     "execution_count": 1071,
     "metadata": {},
     "output_type": "execute_result"
    }
   ],
   "source": [
    "polynomial_temp_df = pd.DataFrame.from_records(p_features)\n",
    "\n",
    "\n",
    "polynomial_temp_df.columns = ['t', 't2', 'temp_pol2']\n",
    "polynomial_temp_df.head()"
   ]
  },
  {
   "cell_type": "code",
   "execution_count": 1072,
   "metadata": {},
   "outputs": [
    {
     "data": {
      "text/plain": [
       "(8708, 3)"
      ]
     },
     "execution_count": 1072,
     "metadata": {},
     "output_type": "execute_result"
    }
   ],
   "source": [
    "polynomial_temp_df.shape"
   ]
  },
  {
   "cell_type": "code",
   "execution_count": 1073,
   "metadata": {
    "scrolled": true
   },
   "outputs": [
    {
     "data": {
      "text/html": [
       "<div>\n",
       "<style scoped>\n",
       "    .dataframe tbody tr th:only-of-type {\n",
       "        vertical-align: middle;\n",
       "    }\n",
       "\n",
       "    .dataframe tbody tr th {\n",
       "        vertical-align: top;\n",
       "    }\n",
       "\n",
       "    .dataframe thead th {\n",
       "        text-align: right;\n",
       "    }\n",
       "</style>\n",
       "<table border=\"1\" class=\"dataframe\">\n",
       "  <thead>\n",
       "    <tr style=\"text-align: right;\">\n",
       "      <th></th>\n",
       "      <th>humidity</th>\n",
       "      <th>atemp</th>\n",
       "      <th>workingday</th>\n",
       "      <th>temp</th>\n",
       "      <th>weather_cat_2</th>\n",
       "      <th>weather_cat_3</th>\n",
       "      <th>season_2</th>\n",
       "      <th>season_3</th>\n",
       "      <th>season_4</th>\n",
       "      <th>hour_1</th>\n",
       "      <th>...</th>\n",
       "      <th>hour_23</th>\n",
       "      <th>temp_hum_interact</th>\n",
       "      <th>workday_hour_7_interact</th>\n",
       "      <th>workday_hour_8_interact</th>\n",
       "      <th>workday_hour_9_interact</th>\n",
       "      <th>workday_hour_17_interact</th>\n",
       "      <th>workday_hour_18_interact</th>\n",
       "      <th>workday_hour_19_interact</th>\n",
       "      <th>non_workingday</th>\n",
       "      <th>temp_pol2</th>\n",
       "    </tr>\n",
       "  </thead>\n",
       "  <tbody>\n",
       "    <tr>\n",
       "      <th>3662</th>\n",
       "      <td>61</td>\n",
       "      <td>32.575</td>\n",
       "      <td>0</td>\n",
       "      <td>28.70</td>\n",
       "      <td>0.0</td>\n",
       "      <td>0.0</td>\n",
       "      <td>0</td>\n",
       "      <td>1</td>\n",
       "      <td>0</td>\n",
       "      <td>0.0</td>\n",
       "      <td>...</td>\n",
       "      <td>0.0</td>\n",
       "      <td>1750.70</td>\n",
       "      <td>0.0</td>\n",
       "      <td>0.0</td>\n",
       "      <td>0.0</td>\n",
       "      <td>0.0</td>\n",
       "      <td>0.0</td>\n",
       "      <td>0.0</td>\n",
       "      <td>0.0</td>\n",
       "      <td>732.2436</td>\n",
       "    </tr>\n",
       "    <tr>\n",
       "      <th>8648</th>\n",
       "      <td>52</td>\n",
       "      <td>38.635</td>\n",
       "      <td>1</td>\n",
       "      <td>33.62</td>\n",
       "      <td>0.0</td>\n",
       "      <td>0.0</td>\n",
       "      <td>0</td>\n",
       "      <td>1</td>\n",
       "      <td>0</td>\n",
       "      <td>0.0</td>\n",
       "      <td>...</td>\n",
       "      <td>0.0</td>\n",
       "      <td>1748.24</td>\n",
       "      <td>0.0</td>\n",
       "      <td>0.0</td>\n",
       "      <td>0.0</td>\n",
       "      <td>1.0</td>\n",
       "      <td>0.0</td>\n",
       "      <td>0.0</td>\n",
       "      <td>0.0</td>\n",
       "      <td>527.1616</td>\n",
       "    </tr>\n",
       "    <tr>\n",
       "      <th>7053</th>\n",
       "      <td>65</td>\n",
       "      <td>14.395</td>\n",
       "      <td>1</td>\n",
       "      <td>12.30</td>\n",
       "      <td>0.0</td>\n",
       "      <td>0.0</td>\n",
       "      <td>1</td>\n",
       "      <td>0</td>\n",
       "      <td>0</td>\n",
       "      <td>0.0</td>\n",
       "      <td>...</td>\n",
       "      <td>0.0</td>\n",
       "      <td>799.50</td>\n",
       "      <td>0.0</td>\n",
       "      <td>0.0</td>\n",
       "      <td>0.0</td>\n",
       "      <td>0.0</td>\n",
       "      <td>0.0</td>\n",
       "      <td>0.0</td>\n",
       "      <td>0.0</td>\n",
       "      <td>296.5284</td>\n",
       "    </tr>\n",
       "    <tr>\n",
       "      <th>2685</th>\n",
       "      <td>62</td>\n",
       "      <td>34.090</td>\n",
       "      <td>0</td>\n",
       "      <td>29.52</td>\n",
       "      <td>0.0</td>\n",
       "      <td>0.0</td>\n",
       "      <td>1</td>\n",
       "      <td>0</td>\n",
       "      <td>0</td>\n",
       "      <td>0.0</td>\n",
       "      <td>...</td>\n",
       "      <td>0.0</td>\n",
       "      <td>1830.24</td>\n",
       "      <td>0.0</td>\n",
       "      <td>0.0</td>\n",
       "      <td>0.0</td>\n",
       "      <td>0.0</td>\n",
       "      <td>0.0</td>\n",
       "      <td>0.0</td>\n",
       "      <td>0.0</td>\n",
       "      <td>96.8256</td>\n",
       "    </tr>\n",
       "    <tr>\n",
       "      <th>5927</th>\n",
       "      <td>60</td>\n",
       "      <td>12.880</td>\n",
       "      <td>1</td>\n",
       "      <td>10.66</td>\n",
       "      <td>0.0</td>\n",
       "      <td>0.0</td>\n",
       "      <td>0</td>\n",
       "      <td>0</td>\n",
       "      <td>0</td>\n",
       "      <td>0.0</td>\n",
       "      <td>...</td>\n",
       "      <td>0.0</td>\n",
       "      <td>639.60</td>\n",
       "      <td>0.0</td>\n",
       "      <td>0.0</td>\n",
       "      <td>0.0</td>\n",
       "      <td>0.0</td>\n",
       "      <td>0.0</td>\n",
       "      <td>0.0</td>\n",
       "      <td>0.0</td>\n",
       "      <td>454.5424</td>\n",
       "    </tr>\n",
       "  </tbody>\n",
       "</table>\n",
       "<p>5 rows × 41 columns</p>\n",
       "</div>"
      ],
      "text/plain": [
       "      humidity   atemp  workingday   temp  weather_cat_2  weather_cat_3  \\\n",
       "3662        61  32.575           0  28.70            0.0            0.0   \n",
       "8648        52  38.635           1  33.62            0.0            0.0   \n",
       "7053        65  14.395           1  12.30            0.0            0.0   \n",
       "2685        62  34.090           0  29.52            0.0            0.0   \n",
       "5927        60  12.880           1  10.66            0.0            0.0   \n",
       "\n",
       "      season_2  season_3  season_4  hour_1  ...  hour_23  temp_hum_interact  \\\n",
       "3662         0         1         0     0.0  ...      0.0            1750.70   \n",
       "8648         0         1         0     0.0  ...      0.0            1748.24   \n",
       "7053         1         0         0     0.0  ...      0.0             799.50   \n",
       "2685         1         0         0     0.0  ...      0.0            1830.24   \n",
       "5927         0         0         0     0.0  ...      0.0             639.60   \n",
       "\n",
       "      workday_hour_7_interact  workday_hour_8_interact  \\\n",
       "3662                      0.0                      0.0   \n",
       "8648                      0.0                      0.0   \n",
       "7053                      0.0                      0.0   \n",
       "2685                      0.0                      0.0   \n",
       "5927                      0.0                      0.0   \n",
       "\n",
       "      workday_hour_9_interact  workday_hour_17_interact  \\\n",
       "3662                      0.0                       0.0   \n",
       "8648                      0.0                       1.0   \n",
       "7053                      0.0                       0.0   \n",
       "2685                      0.0                       0.0   \n",
       "5927                      0.0                       0.0   \n",
       "\n",
       "      workday_hour_18_interact  workday_hour_19_interact  non_workingday  \\\n",
       "3662                       0.0                       0.0             0.0   \n",
       "8648                       0.0                       0.0             0.0   \n",
       "7053                       0.0                       0.0             0.0   \n",
       "2685                       0.0                       0.0             0.0   \n",
       "5927                       0.0                       0.0             0.0   \n",
       "\n",
       "      temp_pol2  \n",
       "3662   732.2436  \n",
       "8648   527.1616  \n",
       "7053   296.5284  \n",
       "2685    96.8256  \n",
       "5927   454.5424  \n",
       "\n",
       "[5 rows x 41 columns]"
      ]
     },
     "execution_count": 1073,
     "metadata": {},
     "output_type": "execute_result"
    }
   ],
   "source": [
    "X_train_fe = X_train_fe.join(polynomial_temp_df['temp_pol2'], how='left')\n",
    "X_train_fe.head()"
   ]
  },
  {
   "cell_type": "code",
   "execution_count": 1074,
   "metadata": {
    "scrolled": true
   },
   "outputs": [
    {
     "data": {
      "text/plain": [
       "(8708, 41)"
      ]
     },
     "execution_count": 1074,
     "metadata": {},
     "output_type": "execute_result"
    }
   ],
   "source": [
    "X_train_fe.shape"
   ]
  },
  {
   "cell_type": "code",
   "execution_count": 1075,
   "metadata": {},
   "outputs": [],
   "source": [
    "##X_train_fe = X_train_fe.reset_index()"
   ]
  },
  {
   "cell_type": "code",
   "execution_count": 1076,
   "metadata": {},
   "outputs": [],
   "source": [
    "X_train_fe = X_train_fe.fillna(0)"
   ]
  },
  {
   "cell_type": "code",
   "execution_count": 1077,
   "metadata": {},
   "outputs": [],
   "source": [
    "##X_train_fe.info()"
   ]
  },
  {
   "cell_type": "markdown",
   "metadata": {},
   "source": [
    "### Scaling"
   ]
  },
  {
   "cell_type": "code",
   "execution_count": 1078,
   "metadata": {},
   "outputs": [],
   "source": [
    "# # scaling with min max\n",
    "# from sklearn.preprocessing import MinMaxScaler\n",
    "# scaler = MinMaxScaler()\n",
    "# scaler.fit(X_train_fe) # memorizes the min and max for each column, no y \n",
    "# X_train_fe = scaler.transform(X_train_fe) # does the actual scaling; still no y\n",
    "# X_train_fe  # numpy array"
   ]
  },
  {
   "cell_type": "code",
   "execution_count": 1079,
   "metadata": {},
   "outputs": [
    {
     "data": {
      "text/plain": [
       "array([[-0.04056395,  1.06479797, -1.45718425, ..., -0.17050261,\n",
       "        -0.11820738,  1.05037042],\n",
       "       [-0.50931622,  1.78105416,  0.68625502, ..., -0.17050261,\n",
       "        -0.11820738,  0.45175514],\n",
       "       [ 0.16777039, -1.08397058,  0.68625502, ..., -0.17050261,\n",
       "        -0.11820738, -0.22144172],\n",
       "       ...,\n",
       "       [-1.18640283,  0.88573393, -1.45718425, ..., -0.17050261,\n",
       "         8.45970843, -1.08698054],\n",
       "       [ 1.31360928, -0.72584249, -1.45718425, ..., -0.17050261,\n",
       "        -0.11820738, -1.08698054],\n",
       "       [-1.65515511,  1.42292606, -1.45718425, ..., -0.17050261,\n",
       "        -0.11820738, -0.30191132]])"
      ]
     },
     "execution_count": 1079,
     "metadata": {},
     "output_type": "execute_result"
    }
   ],
   "source": [
    "# scaling with standard scaler\n",
    "from sklearn.preprocessing import StandardScaler\n",
    "scaler = StandardScaler()\n",
    "X_train_fe = scaler.fit_transform(X_train_fe)\n",
    "X_train_fe"
   ]
  },
  {
   "cell_type": "code",
   "execution_count": 1080,
   "metadata": {},
   "outputs": [
    {
     "data": {
      "text/plain": [
       "(8708, 41)"
      ]
     },
     "execution_count": 1080,
     "metadata": {},
     "output_type": "execute_result"
    }
   ],
   "source": [
    "X_train_fe.shape"
   ]
  },
  {
   "cell_type": "markdown",
   "metadata": {},
   "source": [
    "### Train model: Linear regression with scikit-learn"
   ]
  },
  {
   "cell_type": "code",
   "execution_count": 1081,
   "metadata": {},
   "outputs": [],
   "source": [
    "from sklearn.linear_model import LinearRegression"
   ]
  },
  {
   "cell_type": "markdown",
   "metadata": {},
   "source": [
    "### Fit the model"
   ]
  },
  {
   "cell_type": "code",
   "execution_count": 1082,
   "metadata": {},
   "outputs": [],
   "source": [
    "# Create the model \n",
    "m = LinearRegression(normalize=True)"
   ]
  },
  {
   "cell_type": "code",
   "execution_count": 1083,
   "metadata": {},
   "outputs": [
    {
     "data": {
      "text/plain": [
       "LinearRegression(copy_X=True, fit_intercept=True, n_jobs=None, normalize=True)"
      ]
     },
     "execution_count": 1083,
     "metadata": {},
     "output_type": "execute_result"
    }
   ],
   "source": [
    "m.fit(X_train_fe, y_train)"
   ]
  },
  {
   "cell_type": "code",
   "execution_count": 1084,
   "metadata": {},
   "outputs": [
    {
     "data": {
      "text/plain": [
       "array([ 22.81427673,  23.87516084, -23.88896946,  70.93666582,\n",
       "        -4.74847763, -18.92142507,  15.88984851,   8.34657627,\n",
       "        23.05321844,  -3.55944379,  -6.28669468,  -7.87973527,\n",
       "        -8.06143358,  -4.82137906,   6.20922913,  -6.3746966 ,\n",
       "         5.24046063,  16.68524336,  21.12921677,  25.32856058,\n",
       "        32.93354785,  32.22033022,  19.01053649,  28.8579116 ,\n",
       "        41.49940443,  41.66389305,  35.52508618,  26.87042826,\n",
       "        31.39339404,  20.99050626,  13.51473585,   6.49506878,\n",
       "       -59.51069814,  48.4339927 ,  68.43328073,  19.23353305,\n",
       "        40.73899926,  40.77523166,  24.11443658,  16.39788183,\n",
       "       -16.04559556])"
      ]
     },
     "execution_count": 1084,
     "metadata": {},
     "output_type": "execute_result"
    }
   ],
   "source": [
    "m.coef_"
   ]
  },
  {
   "cell_type": "code",
   "execution_count": 1085,
   "metadata": {},
   "outputs": [],
   "source": [
    "# Coefficients\n",
    "w_0 = m.intercept_\n",
    "w_1 = m.coef_[0]"
   ]
  },
  {
   "cell_type": "code",
   "execution_count": 1086,
   "metadata": {},
   "outputs": [
    {
     "data": {
      "text/plain": [
       "(190.85553514010107, 22.8142767280316)"
      ]
     },
     "execution_count": 1086,
     "metadata": {},
     "output_type": "execute_result"
    }
   ],
   "source": [
    "# Interpretation of w_0\n",
    "w_0, w_1"
   ]
  },
  {
   "cell_type": "markdown",
   "metadata": {},
   "source": [
    "Evaluate/Optimize the model\n",
    "\n",
    "    What kind of evaluation metrics can we use?\n",
    "        MSE\n",
    "        RMSLE (root mean squared logarithmic error)\n",
    "        R-squared (coefficient of determination)\n",
    "    You should do cross-validation (on your own)\n",
    "\n"
   ]
  },
  {
   "cell_type": "code",
   "execution_count": 1087,
   "metadata": {},
   "outputs": [
    {
     "data": {
      "text/plain": [
       "0.7457480384640465"
      ]
     },
     "execution_count": 1087,
     "metadata": {},
     "output_type": "execute_result"
    }
   ],
   "source": [
    "# Look at the training score\n",
    "# Return the coefficient of determination R^2 of the prediction.b\n",
    "m.score(X_train_fe, y_train) # \n",
    "# R-squared 0.6357555992294879\n",
    "# incl weather cat one hot encoded 0.6389685222446879\n",
    "# incl interaction working day and hour_18  0.6498956851149124\n",
    "# incl interaction working day and hour_17  0.6615055908463631\n",
    "# incl interaction working day and hour_19  0.6649612525052413\n",
    "# incl interaction working day and hour_7   0.6850735381594927\n",
    "# incl interaction working day and hour_8   0.7295004828181124\n",
    "# incl interaction working day and hour_9   0.7333398004517597\n",
    "# incl interaction non working day and hour_11   0.7366122513219515\n",
    "# incl interaction non working day and hour_12   0.7376443860278101\n",
    "# incl interaction non working day and hour_13   0.7378722116507113\n",
    "# incl interaction non working day and hour_14   0.7387041310756237\n",
    "# incl temperature polynomial, degrees of freedom = 2    0.7457480384640465"
   ]
  },
  {
   "cell_type": "markdown",
   "metadata": {},
   "source": [
    "### Optimize/ Cross Validation"
   ]
  },
  {
   "cell_type": "code",
   "execution_count": 1049,
   "metadata": {},
   "outputs": [],
   "source": [
    "from sklearn.model_selection import cross_val_score"
   ]
  },
  {
   "cell_type": "code",
   "execution_count": 1050,
   "metadata": {},
   "outputs": [
    {
     "data": {
      "text/plain": [
       "array([-8534.04642425, -8393.23306587, -7516.15858187, -9137.31412966,\n",
       "       -8266.92338299, -8778.02321695, -8774.92128324, -8589.33846627,\n",
       "       -8280.91310887, -7714.31615861])"
      ]
     },
     "execution_count": 1050,
     "metadata": {},
     "output_type": "execute_result"
    }
   ],
   "source": [
    "cross_val_result_m_negMSR = cross_val_score(m, X_train_fe, y_train, cv=10, scoring='neg_mean_squared_error')\n",
    "cross_val_result_m_negMSR"
   ]
  },
  {
   "cell_type": "code",
   "execution_count": 1051,
   "metadata": {},
   "outputs": [
    {
     "data": {
      "text/plain": [
       "array([0.72159652, 0.73480687, 0.78264763, 0.73717205, 0.73005189,\n",
       "       0.72969701, 0.7441481 , 0.7452568 , 0.72687394, 0.77229079])"
      ]
     },
     "execution_count": 1051,
     "metadata": {},
     "output_type": "execute_result"
    }
   ],
   "source": [
    "cross_val_result_m_r2 = cross_val_score(m, X_train_fe, y_train, cv=10, scoring='r2')\n",
    "cross_val_result_m_r2"
   ]
  },
  {
   "cell_type": "code",
   "execution_count": 1052,
   "metadata": {},
   "outputs": [
    {
     "name": "stdout",
     "output_type": "stream",
     "text": [
      "cross_val_result_m_negMSR mean -8398.518781857196 \n",
      "cross_val_result_m_r2 mean 0.7424541598339234\n"
     ]
    }
   ],
   "source": [
    "print('cross_val_result_m_negMSR mean',\n",
    "cross_val_result_m_negMSR.mean(), \n",
    "      '\\ncross_val_result_m_r2 mean',\n",
    "      cross_val_result_m_r2.mean())   # no overfitting !"
   ]
  },
  {
   "cell_type": "markdown",
   "metadata": {},
   "source": [
    "### Predictions"
   ]
  },
  {
   "cell_type": "code",
   "execution_count": 1053,
   "metadata": {},
   "outputs": [
    {
     "data": {
      "text/plain": [
       "array([303.98265314, 596.53091049,  56.8683156 , ..., 466.47592676,\n",
       "       188.3943459 , 428.59404305])"
      ]
     },
     "execution_count": 1053,
     "metadata": {},
     "output_type": "execute_result"
    }
   ],
   "source": [
    "# Make predictions for the training data\n",
    "y_pred_train = m.predict(X_train_fe)\n",
    "y_pred_train"
   ]
  },
  {
   "cell_type": "markdown",
   "metadata": {},
   "source": [
    "### Calculate Test Score"
   ]
  },
  {
   "cell_type": "code",
   "execution_count": 1054,
   "metadata": {
    "scrolled": true
   },
   "outputs": [
    {
     "name": "stderr",
     "output_type": "stream",
     "text": [
      "/Users/lara/anaconda3/lib/python3.7/site-packages/pandas/core/frame.py:3997: SettingWithCopyWarning: \n",
      "A value is trying to be set on a copy of a slice from a DataFrame\n",
      "\n",
      "See the caveats in the documentation: https://pandas.pydata.org/pandas-docs/stable/user_guide/indexing.html#returning-a-view-versus-a-copy\n",
      "  errors=errors,\n",
      "/Users/lara/anaconda3/lib/python3.7/site-packages/ipykernel_launcher.py:37: SettingWithCopyWarning: \n",
      "A value is trying to be set on a copy of a slice from a DataFrame.\n",
      "Try using .loc[row_indexer,col_indexer] = value instead\n",
      "\n",
      "See the caveats in the documentation: https://pandas.pydata.org/pandas-docs/stable/user_guide/indexing.html#returning-a-view-versus-a-copy\n"
     ]
    }
   ],
   "source": [
    "X_test_fe = feature_engineer(X_test)\n",
    "pt = PolynomialFeatures(degree=2)\n",
    "p_features = pt.fit_transform(X_test_fe[['temp']])\n",
    "polynomial_temp_df = pd.DataFrame.from_records(p_features)\n",
    "\n",
    "\n",
    "polynomial_temp_df.columns = ['t', 't2', 'temp_pol2']\n",
    "X_test_fe = X_test_fe.join(polynomial_temp_df['temp_pol2'], how='left')\n",
    "X_test_fe = X_test_fe.fillna(0)\n"
   ]
  },
  {
   "cell_type": "code",
   "execution_count": 1055,
   "metadata": {},
   "outputs": [
    {
     "data": {
      "text/plain": [
       "array([[-0.32537252,  0.38316806,  0.67807487, ..., -0.17539085,\n",
       "        -0.10775762, -0.38786434],\n",
       "       [ 1.37442573,  0.6496345 ,  0.67807487, ..., -0.17539085,\n",
       "        -0.10775762, -0.38786434],\n",
       "       [-0.37688156, -0.15093869,  0.67807487, ..., -0.17539085,\n",
       "        -0.10775762, -0.38786434],\n",
       "       ...,\n",
       "       [-1.6646075 ,  1.53883419,  0.67807487, ..., -0.17539085,\n",
       "        -0.10775762, -0.38786434],\n",
       "       [-0.42839059, -0.32877863,  0.67807487, ..., -0.17539085,\n",
       "        -0.10775762, -0.38786434],\n",
       "       [ 0.6532992 , -0.95092495, -1.47476341, ..., -0.17539085,\n",
       "        -0.10775762, -0.38786434]])"
      ]
     },
     "execution_count": 1055,
     "metadata": {},
     "output_type": "execute_result"
    }
   ],
   "source": [
    "# scaling with standard scaler\n",
    "from sklearn.preprocessing import StandardScaler\n",
    "scaler = StandardScaler()\n",
    "X_test_fe = scaler.fit_transform(X_test_fe)\n",
    "X_test_fe"
   ]
  },
  {
   "cell_type": "code",
   "execution_count": 1056,
   "metadata": {},
   "outputs": [
    {
     "data": {
      "text/plain": [
       "(2178, 41)"
      ]
     },
     "execution_count": 1056,
     "metadata": {},
     "output_type": "execute_result"
    }
   ],
   "source": [
    "X_test_fe.shape"
   ]
  },
  {
   "cell_type": "code",
   "execution_count": 1057,
   "metadata": {},
   "outputs": [
    {
     "data": {
      "text/plain": [
       "0.746034543025276"
      ]
     },
     "execution_count": 1057,
     "metadata": {},
     "output_type": "execute_result"
    }
   ],
   "source": [
    "m.score(X_test_fe, y_test)"
   ]
  },
  {
   "cell_type": "markdown",
   "metadata": {},
   "source": [
    "### Kaggle submission\n",
    "\n",
    "Kaggle evaluates the results of all submissions based on the Root Mean Squared Log Error (RMSLE).\n",
    "\n",
    "The purpose of this metric is to treat the error in relation to the bike count. If the amount of bikes is 100, an error of 10 bikes does not matter that much, but if the predicted value is only 10, the same error is a lot. The logarithm fixes that.\n",
    "\n",
    "To optimize your model against the RMSLE, you should take the logarithm of the target colum (y). Because 0 is a valid target value, use the log of y+1\n",
    "instead:"
   ]
  },
  {
   "cell_type": "code",
   "execution_count": 1059,
   "metadata": {},
   "outputs": [
    {
     "data": {
      "text/plain": [
       "6638     5.501258\n",
       "7975     5.480639\n",
       "5915     5.438079\n",
       "8050     6.148468\n",
       "5894     5.817111\n",
       "           ...   \n",
       "10833    5.831882\n",
       "5519     1.609438\n",
       "8217     6.442540\n",
       "5916     6.111467\n",
       "4630     4.330733\n",
       "Name: count, Length: 2178, dtype: float64"
      ]
     },
     "execution_count": 1059,
     "metadata": {},
     "output_type": "execute_result"
    }
   ],
   "source": [
    "import numpy as np\n",
    "ylog = np.log1p(y_test)\n",
    "ylog"
   ]
  },
  {
   "cell_type": "code",
   "execution_count": 407,
   "metadata": {},
   "outputs": [
    {
     "ename": "TypeError",
     "evalue": "mean_squared_log_error() missing 1 required positional argument: 'y_pred'",
     "output_type": "error",
     "traceback": [
      "\u001b[0;31m---------------------------------------------------------------------------\u001b[0m",
      "\u001b[0;31mTypeError\u001b[0m                                 Traceback (most recent call last)",
      "\u001b[0;32m<ipython-input-407-7421cbeac47d>\u001b[0m in \u001b[0;36m<module>\u001b[0;34m\u001b[0m\n\u001b[1;32m      1\u001b[0m \u001b[0;32mfrom\u001b[0m \u001b[0msklearn\u001b[0m\u001b[0;34m.\u001b[0m\u001b[0mmetrics\u001b[0m \u001b[0;32mimport\u001b[0m \u001b[0mmean_squared_log_error\u001b[0m\u001b[0;34m\u001b[0m\u001b[0;34m\u001b[0m\u001b[0m\n\u001b[1;32m      2\u001b[0m \u001b[0;34m\u001b[0m\u001b[0m\n\u001b[0;32m----> 3\u001b[0;31m \u001b[0mnp\u001b[0m\u001b[0;34m.\u001b[0m\u001b[0msqrt\u001b[0m\u001b[0;34m(\u001b[0m\u001b[0mmean_squared_log_error\u001b[0m\u001b[0;34m(\u001b[0m\u001b[0my_test\u001b[0m\u001b[0;34m)\u001b[0m\u001b[0;34m)\u001b[0m\u001b[0;34m\u001b[0m\u001b[0;34m\u001b[0m\u001b[0m\n\u001b[0m",
      "\u001b[0;31mTypeError\u001b[0m: mean_squared_log_error() missing 1 required positional argument: 'y_pred'"
     ]
    }
   ],
   "source": [
    "from sklearn.metrics import mean_squared_log_error\n",
    "\n",
    "np.sqrt(mean_squared_log_error(y_pred))"
   ]
  },
  {
   "cell_type": "code",
   "execution_count": null,
   "metadata": {},
   "outputs": [],
   "source": []
  }
 ],
 "metadata": {
  "kernelspec": {
   "display_name": "Python 3",
   "language": "python",
   "name": "python3"
  },
  "language_info": {
   "codemirror_mode": {
    "name": "ipython",
    "version": 3
   },
   "file_extension": ".py",
   "mimetype": "text/x-python",
   "name": "python",
   "nbconvert_exporter": "python",
   "pygments_lexer": "ipython3",
   "version": "3.7.6"
  }
 },
 "nbformat": 4,
 "nbformat_minor": 4
}
