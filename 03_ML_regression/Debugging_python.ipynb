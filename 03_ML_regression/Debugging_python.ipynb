{
 "cells": [
  {
   "cell_type": "markdown",
   "metadata": {},
   "source": [
    "## Types of Bugs\n",
    "\n",
    "### Syntax Error\n",
    "- A SyntaxError means that the Python interpreter didn't understand something while parsing the code. It stops immediately and no code gets executed.\n",
    "\n",
    "An *Indentation Error* is a special type of *Syntax Erorr*."
   ]
  },
  {
   "cell_type": "code",
   "execution_count": null,
   "metadata": {},
   "outputs": [],
   "source": []
  },
  {
   "cell_type": "markdown",
   "metadata": {},
   "source": [
    "### Exceptions at runtime\n",
    "\n",
    "- All other exceptions happen during *runtime*. Python starts executing the code, but encounters a location where the code fails.\n",
    "- A defect can **propagate** through the program. It travels from its original location until it reaches the point where the Exception is created. Both locations can be very far from each other."
   ]
  },
  {
   "cell_type": "markdown",
   "metadata": {},
   "source": [
    "### Semantic error\n",
    "- A semantic error means that there is no error message. The program runs and Python does not notice any errors. But the output is different thant the one you would expect."
   ]
  },
  {
   "cell_type": "markdown",
   "metadata": {},
   "source": [
    "## DEBUGGING TECHNIQUES\n"
   ]
  },
  {
   "cell_type": "markdown",
   "metadata": {},
   "source": [
    "| Syntax      | Description |\n",
    "| ----------- | ----------- |\n",
    "| Header      | Title       |\n",
    "| Paragraph   | Text        |"
   ]
  },
  {
   "cell_type": "markdown",
   "metadata": {},
   "source": [
    "| Syntax      | Description | Test Text     |\n",
    "| :---        |    :----:   |          ---: |\n",
    "| Header      | Title       | Here's this   |\n",
    "| Paragraph   | Text        | And more      |"
   ]
  },
  {
   "cell_type": "markdown",
   "metadata": {},
   "source": [
    "| Column 1       | Column 2     | Column 3     |\n",
    "| :------------- | :----------: | -----------: |\n",
    "|  Cell Contents | More Stuff   | And Again    |\n",
    "| You Can Also   | Put Pipes In | Like this \\| |"
   ]
  },
  {
   "cell_type": "markdown",
   "metadata": {},
   "source": [
    "|&#60;font size=4&#62;Project&#60;/font&#62;|&#60;font size=4&#62;Project Type&#60;/font&#62;|&#60;font size=4&#62;Status&#60;/font&#62;|\n",
    "<br>\n",
    "|---|---|---|<br>\n",
    "|&#60;font size=4&#62;Hello phase 1&#60;/font&#62;|&#60;font size=4&#62;ABC&#60;/font&#62;|&#60;font size=4&#62;Ongoing&#60;/font&#62;|<br>\n",
    "|&#60;font size=4&#62;Goodbye analytics&#60;/font&#62;|&#60;font size=4&#62;EFG&#60;/font&#62;|&#60;font size=4&#62;Completed&#60;/font&#62;|"
   ]
  },
  {
   "cell_type": "code",
   "execution_count": null,
   "metadata": {},
   "outputs": [],
   "source": []
  }
 ],
 "metadata": {
  "kernelspec": {
   "display_name": "Python 3",
   "language": "python",
   "name": "python3"
  },
  "language_info": {
   "codemirror_mode": {
    "name": "ipython",
    "version": 3
   },
   "file_extension": ".py",
   "mimetype": "text/x-python",
   "name": "python",
   "nbconvert_exporter": "python",
   "pygments_lexer": "ipython3",
   "version": "3.7.6"
  }
 },
 "nbformat": 4,
 "nbformat_minor": 4
}
