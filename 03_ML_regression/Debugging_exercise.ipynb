{
 "cells": [
  {
   "cell_type": "code",
   "execution_count": 3,
   "metadata": {},
   "outputs": [],
   "source": [
    "import json\n",
    "\n",
    "def is_answer(node):\n",
    "    return len(node) == 1\n",
    "\n",
    "##f = open('quetions.json')\n",
    "##content = f.read\n",
    "## node = json.reads(content)\n",
    "node = {\"text\": \"Is it a snake?\", \"yes\": {\"text\": \"It is a Python!\"}, \"no\": {\"text\": \"It is not a Python\"}}\n",
    "\n",
    "\n",
    "finished = False\n",
    "\n",
    "while not finished:\n",
    "    print(node['text'])\n",
    "    if is_answer(node):\n",
    "        finished = True\n",
    "    else:\n",
    "        answer == input()\n",
    "            if answer.upper() in ['yes', 'y']:\n",
    "                node = node['no']\n",
    "            else:\n",
    "                node = node['yes']"
   ]
  },
  {
   "cell_type": "code",
   "execution_count": 5,
   "metadata": {},
   "outputs": [],
   "source": []
  },
  {
   "cell_type": "code",
   "execution_count": 8,
   "metadata": {},
   "outputs": [],
   "source": [
    "\n"
   ]
  },
  {
   "cell_type": "code",
   "execution_count": 9,
   "metadata": {},
   "outputs": [],
   "source": []
  },
  {
   "cell_type": "code",
   "execution_count": null,
   "metadata": {},
   "outputs": [],
   "source": [
    "\n",
    "\n"
   ]
  },
  {
   "cell_type": "code",
   "execution_count": null,
   "metadata": {},
   "outputs": [],
   "source": [
    "\n",
    "\n",
    "\n",
    "\n"
   ]
  }
 ],
 "metadata": {
  "kernelspec": {
   "display_name": "Python 3",
   "language": "python",
   "name": "python3"
  },
  "language_info": {
   "codemirror_mode": {
    "name": "ipython",
    "version": 3
   },
   "file_extension": ".py",
   "mimetype": "text/x-python",
   "name": "python",
   "nbconvert_exporter": "python",
   "pygments_lexer": "ipython3",
   "version": "3.7.6"
  }
 },
 "nbformat": 4,
 "nbformat_minor": 4
}
