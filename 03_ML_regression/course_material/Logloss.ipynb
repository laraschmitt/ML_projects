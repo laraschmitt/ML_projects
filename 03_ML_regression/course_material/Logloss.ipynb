{
 "cells": [
  {
   "cell_type": "markdown",
   "metadata": {},
   "source": [
    "### Logloss function"
   ]
  },
  {
   "cell_type": "markdown",
   "metadata": {},
   "source": [
    "How to quantify uncertainty in the data?\n",
    "\n",
    "Information Entropy -> tells us how much uncertainty there is "
   ]
  },
  {
   "cell_type": "code",
   "execution_count": null,
   "metadata": {},
   "outputs": [],
   "source": [
    "function:\n",
    "    \n",
    "    probability of classes * binary logarith\n",
    "    p(1.0) * log(1.0, 2) + .... +"
   ]
  },
  {
   "cell_type": "markdown",
   "metadata": {},
   "source": [
    "Sklearn uses the loss function internally to optimize the model"
   ]
  },
  {
   "cell_type": "markdown",
   "metadata": {},
   "source": [
    "the logloss quantifies the **residual uncertainty** for our training sample\n",
    "\n",
    "the logloss function tries to move the sigmoid curve to the smallest error bars \n",
    "\n",
    "Remember: a small logloss is better! "
   ]
  },
  {
   "cell_type": "markdown",
   "metadata": {},
   "source": [
    "(decision tree: uses the gini index (= how clean is my split))"
   ]
  },
  {
   "cell_type": "markdown",
   "metadata": {},
   "source": [
    "Statsmodel module: similar to R output\n",
    "-> detailed description on how good the model is and how important the features are (output is nice to interpret: p-value and confidence interval)\n",
    "\n",
    "\n",
    "-> use statsmodel for feature selection for LINEAR MODELS (only!) [linear model and linear regression]"
   ]
  },
  {
   "cell_type": "code",
   "execution_count": 3,
   "metadata": {},
   "outputs": [
    {
     "ename": "SyntaxError",
     "evalue": "invalid syntax (<ipython-input-3-cf7338671f63>, line 1)",
     "output_type": "error",
     "traceback": [
      "\u001b[0;36m  File \u001b[0;32m\"<ipython-input-3-cf7338671f63>\"\u001b[0;36m, line \u001b[0;32m1\u001b[0m\n\u001b[0;31m    check the p value: should be below 0.05 -> then significant\u001b[0m\n\u001b[0m            ^\u001b[0m\n\u001b[0;31mSyntaxError\u001b[0m\u001b[0;31m:\u001b[0m invalid syntax\n"
     ]
    }
   ],
   "source": [
    "check the p value: should be below 0.05 -> then significant"
   ]
  },
  {
   "cell_type": "code",
   "execution_count": 4,
   "metadata": {},
   "outputs": [
    {
     "ename": "SyntaxError",
     "evalue": "invalid syntax (<ipython-input-4-eaea3dd16239>, line 1)",
     "output_type": "error",
     "traceback": [
      "\u001b[0;36m  File \u001b[0;32m\"<ipython-input-4-eaea3dd16239>\"\u001b[0;36m, line \u001b[0;32m1\u001b[0m\n\u001b[0;31m    in RandomForest we do not know if another model would also work, RF is good if you are only interested in the predictions\u001b[0m\n\u001b[0m     ^\u001b[0m\n\u001b[0;31mSyntaxError\u001b[0m\u001b[0;31m:\u001b[0m invalid syntax\n"
     ]
    }
   ],
   "source": [
    "in RandomForest we do not know if another model would also work, RF is good if you are only interested in the predictions "
   ]
  },
  {
   "cell_type": "code",
   "execution_count": null,
   "metadata": {},
   "outputs": [],
   "source": []
  }
 ],
 "metadata": {
  "kernelspec": {
   "display_name": "Python 3",
   "language": "python",
   "name": "python3"
  },
  "language_info": {
   "codemirror_mode": {
    "name": "ipython",
    "version": 3
   },
   "file_extension": ".py",
   "mimetype": "text/x-python",
   "name": "python",
   "nbconvert_exporter": "python",
   "pygments_lexer": "ipython3",
   "version": "3.7.6"
  }
 },
 "nbformat": 4,
 "nbformat_minor": 4
}
