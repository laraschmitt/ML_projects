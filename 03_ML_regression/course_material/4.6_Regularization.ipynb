{
 "cells": [
  {
   "cell_type": "markdown",
   "metadata": {},
   "source": [
    "# Regularization:\n",
    "*(is a hyperparameter, another thing you can add to your toolkit)*\n",
    "*but if you choose wrong features, it won't save you*\n",
    "\n",
    "**GOAL**: \n",
    "* reduce overfitting\n",
    "* reduce the strengths of coeffients\n",
    "* artificically add bias into the training process"
   ]
  },
  {
   "cell_type": "markdown",
   "metadata": {},
   "source": [
    "### What is regularization?\n",
    "**Regularization** is a set of techniques that constrain the complexity of models. They thus reduce the risk of **overfitting** and improve the ability of a model to **generalize**."
   ]
  },
  {
   "cell_type": "markdown",
   "metadata": {},
   "source": [
    "| <p style=\"font-size: 17px\">Method</p>      | <p style=\"font-size: 17px\">Description</p> |\n",
    "| ----------- | ----------- |\n",
    "| <p style=\"font-size: 17px\">Ridge Regression (L2)</p>      | <p style=\"font-size: 17px\">penalizes the square of coefficents</p>       |\n",
    "| <p style=\"font-size: 17px\">Lasso (L1)</p>      | <p style=\"font-size: 17px\">penalizes the absolute coefficients</p>       \n",
    "| <p style=\"font-size: 17px\">Elastic Net (L1 + L2)</p>      | <p style=\"font-size: 17px\">weighted combination of Ridge and Lasso</p>\n",
    "| <p style=\"font-size: 17px\">`sklearn.linear_model.Ridge`</p>      | <p style=\"font-size: 17px\">linear regressor using L2</p>      \n",
    "| <p style=\"font-size: 17px\">`sklearn.linear_model.Lasso`</p>      | <p style=\"font-size: 17px\">linear regressor using L1</p>\n",
    "| <p style=\"font-size: 17px\">`sklearn.linear_model.ElasticNet`</p>      | <p style=\"font-size: 17px\">linear regressor using L1 + L2</p>\n"
   ]
  },
  {
   "cell_type": "markdown",
   "metadata": {},
   "source": [
    "### The Bias-Variance tradeoff"
   ]
  },
  {
   "cell_type": "markdown",
   "metadata": {},
   "source": [
    "<img src=\"biance_variance.png\" width=\"600\" height=\"1000\" />"
   ]
  },
  {
   "cell_type": "markdown",
   "metadata": {},
   "source": [
    "**Bias** is the expected error created by a model to approximate real-world relationship.\n",
    "\n",
    "**Variance** is the amount by which our model would change with a different training dataset. It is the \"flexibility\" of our model, balanced against the bias."
   ]
  },
  {
   "cell_type": "markdown",
   "metadata": {},
   "source": [
    "\n",
    "### Ridge Regression\n",
    "**Ridge Regression** penalizes the **coefficents** of linear models. The penalty is proportional to the square of the parameter value. This leads to parameters with smaller absolute values."
   ]
  },
  {
   "cell_type": "markdown",
   "metadata": {},
   "source": [
    "$$MSE + \\alpha \\sum_j^p{\\hat{w_j}^2}$$"
   ]
  },
  {
   "cell_type": "markdown",
   "metadata": {},
   "source": [
    "The hyperparameter *alpha* controls how strong the regularization is (low alpha = little regularization, high alpha = very strong regularization).\n",
    "\n",
    "The penalty is also called **L2-Norm (Euclidian Norm)**, because it can be written as:"
   ]
  },
  {
   "cell_type": "markdown",
   "metadata": {},
   "source": [
    "$$\\left||L2 |\\right| = \\sqrt{x_1^2 + x_2^2 + x_3^2 }$$"
   ]
  },
  {
   "cell_type": "markdown",
   "metadata": {},
   "source": [
    "<span style=\"background-color: #FF0000\">**For L1 or L2 to work, the data must be scaled!**</span>"
   ]
  },
  {
   "cell_type": "markdown",
   "metadata": {},
   "source": [
    "<span style=\"background-color: #FFFF00\">**Hint: Ridge Regression is the first type of regularization you should try.**</span>"
   ]
  },
  {
   "cell_type": "markdown",
   "metadata": {},
   "source": [
    "\n",
    "### Lasso Regression\n",
    "Lasso penalizes the absolute values of coefficients. It uses the L1 norm (Manhattan Norm). This pushes some coefficents down to zero."
   ]
  },
  {
   "cell_type": "markdown",
   "metadata": {},
   "source": [
    "$$\\left||L1 |\\right| = \\alpha \\sum_j^p{|w_j|}$$"
   ]
  },
  {
   "cell_type": "markdown",
   "metadata": {},
   "source": [
    "The hyperparameter **alpha** is the regularization strength. The higher it is, the more coefficients will become zero.\n",
    "\n",
    "Therfore, Lasso can be used for **Automatic Feature Selection**."
   ]
  },
  {
   "cell_type": "markdown",
   "metadata": {},
   "source": [
    "\n",
    "### Elastic Net\n",
    "**Elastic Net*** combines Ridge and Lasso. The additional hyperparameter *rho* determines the proportion between both types."
   ]
  },
  {
   "cell_type": "markdown",
   "metadata": {},
   "source": [
    "$$MSE + \\alpha \\rho \\left||w |\\right|_1 + \\frac{\\alpha(1-\\rho)}{2}\\left||w |\\right|_2^2$$"
   ]
  },
  {
   "cell_type": "markdown",
   "metadata": {},
   "source": [
    "\n",
    "## Effect of regularization strength\n",
    "Create the trained coefficents of a model of for the `cancer` dataset as bar plot."
   ]
  },
  {
   "cell_type": "code",
   "execution_count": 14,
   "metadata": {},
   "outputs": [
    {
     "name": "stdout",
     "output_type": "stream",
     "text": [
      "0.9472759226713533\n",
      "[ 0.94887778  0.45181226  0.2756124  -0.01489119 -0.03533223 -0.16636378\n",
      " -0.23293603 -0.09813477 -0.04896167 -0.00976001  0.04111834  0.37720966\n",
      "  0.14447764 -0.10732826 -0.00319948 -0.03571714 -0.0497692  -0.01277925\n",
      " -0.01181894 -0.00331433  1.00803607 -0.4875605  -0.2582965  -0.01363453\n",
      " -0.06409891 -0.51869566 -0.64553561 -0.18883339 -0.1552393  -0.04984351]\n"
     ]
    },
    {
     "name": "stderr",
     "output_type": "stream",
     "text": [
      "/Users/lara/anaconda3/lib/python3.7/site-packages/sklearn/linear_model/_logistic.py:940: ConvergenceWarning: lbfgs failed to converge (status=1):\n",
      "STOP: TOTAL NO. of ITERATIONS REACHED LIMIT.\n",
      "\n",
      "Increase the number of iterations (max_iter) or scale the data as shown in:\n",
      "    https://scikit-learn.org/stable/modules/preprocessing.html\n",
      "Please also refer to the documentation for alternative solver options:\n",
      "    https://scikit-learn.org/stable/modules/linear_model.html#logistic-regression\n",
      "  extra_warning_msg=_LOGISTIC_SOLVER_CONVERGENCE_MSG)\n"
     ]
    }
   ],
   "source": [
    "from sklearn.datasets import load_breast_cancer\n",
    "from sklearn.linear_model import LogisticRegression\n",
    "\n",
    "X, y = load_breast_cancer(True)\n",
    "\n",
    "m = LogisticRegression()\n",
    "m.fit(X, y)\n",
    "print(m.score(X, y))\n",
    "\n",
    "print(m.coef_[0])"
   ]
  },
  {
   "cell_type": "code",
   "execution_count": 17,
   "metadata": {},
   "outputs": [
    {
     "data": {
      "text/plain": [
       "<BarContainer object of 30 artists>"
      ]
     },
     "execution_count": 17,
     "metadata": {},
     "output_type": "execute_result"
    },
    {
     "data": {
      "image/png": "[encoded data removed]",
      "text/plain": [
       "<Figure size 1440x288 with 1 Axes>"
      ]
     },
     "metadata": {
      "needs_background": "light"
     },
     "output_type": "display_data"
    }
   ],
   "source": [
    "import numpy as np\n",
    "import matplotlib.pyplot as plt\n",
    "#data = np.array([-0.150896, 0.23357229, 0.00669907, 0.3730938, 0.100852, -0.85258357])\n",
    "data = m.coef_[0]\n",
    "#labels = ['as','df','as','df','as','df']\n",
    "\n",
    "fig= plt.figure(figsize=(20,4))\n",
    "ax=plt.subplot(122)\n",
    "plt.bar(np.arange(data.size), data)\n",
    "#ax.set_xticks(np.arange(data.size))\n",
    "#ax.set_xticklabels(labels)"
   ]
  },
  {
   "cell_type": "code",
   "execution_count": 19,
   "metadata": {},
   "outputs": [],
   "source": [
    "# create plots for a range of regularization strengths (using L2, L1 or ElasticNet)\n",
    "\n",
    "from sklearn.linear_model import Ridge\n",
    "from sklearn.linear_model import Lasso\n",
    "from sklearn.linear_model import ElasticNet"
   ]
  },
  {
   "cell_type": "code",
   "execution_count": 23,
   "metadata": {},
   "outputs": [
    {
     "data": {
      "text/plain": [
       "ElasticNet(alpha=5.0, copy_X=True, fit_intercept=True, l1_ratio=0.5,\n",
       "           max_iter=1000, normalize=False, positive=False, precompute=False,\n",
       "           random_state=None, selection='cyclic', tol=0.0001, warm_start=False)"
      ]
     },
     "execution_count": 23,
     "metadata": {},
     "output_type": "execute_result"
    }
   ],
   "source": [
    "\n",
    "m_ridge = Ridge(alpha=5.0)\n",
    "m_lasso = Lasso(alpha=5.0)\n",
    "m_elanet = ElasticNet(alpha=5.0)\n",
    "\n",
    "m_ridge.fit(X, y)  \n",
    "m_lasso.fit(X, y) \n",
    "m_elanet.fit(X, y)"
   ]
  },
  {
   "cell_type": "code",
   "execution_count": 80,
   "metadata": {},
   "outputs": [
    {
     "data": {
      "image/png": "[encoded data removed]",
      "text/plain": [
       "<Figure size 720x576 with 3 Axes>"
      ]
     },
     "metadata": {
      "needs_background": "light"
     },
     "output_type": "display_data"
    }
   ],
   "source": [
    "import matplotlib.pyplot as plt\n",
    "\n",
    "fig= plt.figure(figsize=(10,8))\n",
    "#f, ax = plt.subplots(3, 1, sharex='all', sharey='all', figsize=(8, 7))\n",
    "\n",
    "plt.subplot(3,1,1)\n",
    "ax = plt.bar(np.arange((m_ridge.coef_).size), m_ridge.coef_, color='green')\n",
    "plt.subplot(3,1,2)\n",
    "ax = plt.bar(np.arange((m_lasso.coef_).size), m_lasso.coef_, color='red')\n",
    "plt.subplot(3,1,3)\n",
    "ax = plt.bar(np.arange((m_elanet.coef_).size), m_elanet.coef_, color='purple')\n",
    "\n"
   ]
  },
  {
   "cell_type": "markdown",
   "metadata": {},
   "source": [
    "### Boston Housing - implement Ridge, Lasso and Elastic Net"
   ]
  },
  {
   "cell_type": "markdown",
   "metadata": {},
   "source": [
    "- split the data into training and test data\n",
    "- scale the data\n",
    "- try a few different models\n",
    "- construct a sklearn.pipeline.Pipeline that does the scaling and the model\n",
    "- run a grid search with cross validation to optimize hyperparameters"
   ]
  },
  {
   "cell_type": "code",
   "execution_count": 83,
   "metadata": {},
   "outputs": [
    {
     "name": "stdout",
     "output_type": "stream",
     "text": [
      ".. _boston_dataset:\n",
      "\n",
      "Boston house prices dataset\n",
      "---------------------------\n",
      "\n",
      "**Data Set Characteristics:**  \n",
      "\n",
      "    :Number of Instances: 506 \n",
      "\n",
      "    :Number of Attributes: 13 numeric/categorical predictive. Median Value (attribute 14) is usually the target.\n",
      "\n",
      "    :Attribute Information (in order):\n",
      "        - CRIM     per capita crime rate by town\n",
      "        - ZN       proportion of residential land zoned for lots over 25,000 sq.ft.\n",
      "        - INDUS    proportion of non-retail business acres per town\n",
      "        - CHAS     Charles River dummy variable (= 1 if tract bounds river; 0 otherwise)\n",
      "        - NOX      nitric oxides concentration (parts per 10 million)\n",
      "        - RM       average number of rooms per dwelling\n",
      "        - AGE      proportion of owner-occupied units built prior to 1940\n",
      "        - DIS      weighted distances to five Boston employment centres\n",
      "        - RAD      index of accessibility to radial highways\n",
      "        - TAX      full-value property-tax rate per $10,000\n",
      "        - PTRATIO  pupil-teacher ratio by town\n",
      "        - B        1000(Bk - 0.63)^2 where Bk is the proportion of blacks by town\n",
      "        - LSTAT    % lower status of the population\n",
      "        - MEDV     Median value of owner-occupied homes in $1000's\n",
      "\n",
      "    :Missing Attribute Values: None\n",
      "\n",
      "    :Creator: Harrison, D. and Rubinfeld, D.L.\n",
      "\n",
      "This is a copy of UCI ML housing dataset.\n",
      "https://archive.ics.uci.edu/ml/machine-learning-databases/housing/\n",
      "\n",
      "\n",
      "This dataset was taken from the StatLib library which is maintained at Carnegie Mellon University.\n",
      "\n",
      "The Boston house-price data of Harrison, D. and Rubinfeld, D.L. 'Hedonic\n",
      "prices and the demand for clean air', J. Environ. Economics & Management,\n",
      "vol.5, 81-102, 1978.   Used in Belsley, Kuh & Welsch, 'Regression diagnostics\n",
      "...', Wiley, 1980.   N.B. Various transformations are used in the table on\n",
      "pages 244-261 of the latter.\n",
      "\n",
      "The Boston house-price data has been used in many machine learning papers that address regression\n",
      "problems.   \n",
      "     \n",
      ".. topic:: References\n",
      "\n",
      "   - Belsley, Kuh & Welsch, 'Regression diagnostics: Identifying Influential Data and Sources of Collinearity', Wiley, 1980. 244-261.\n",
      "   - Quinlan,R. (1993). Combining Instance-Based and Model-Based Learning. In Proceedings on the Tenth International Conference of Machine Learning, 236-243, University of Massachusetts, Amherst. Morgan Kaufmann.\n",
      "\n"
     ]
    }
   ],
   "source": [
    "from sklearn import datasets\n",
    "\n",
    "boston = datasets.load_boston()\n",
    "\n",
    "print(boston.DESCR)"
   ]
  },
  {
   "cell_type": "code",
   "execution_count": 87,
   "metadata": {},
   "outputs": [
    {
     "data": {
      "text/plain": [
       "sklearn.utils.Bunch"
      ]
     },
     "execution_count": 87,
     "metadata": {},
     "output_type": "execute_result"
    }
   ],
   "source": [
    "type(boston)"
   ]
  },
  {
   "cell_type": "markdown",
   "metadata": {},
   "source": [
    "### Task 1:"
   ]
  },
  {
   "cell_type": "markdown",
   "metadata": {},
   "source": [
    "Let's try to create some data that roughly follows this equation:\n",
    "\n",
    "\n",
    "$$ y = \\sqrt x $$\n",
    "\n",
    "\n",
    "Add in some random, normally-distributed noise in the data to make it a bit more interesting."
   ]
  },
  {
   "cell_type": "code",
   "execution_count": null,
   "metadata": {},
   "outputs": [],
   "source": [
    "import numpy as np"
   ]
  },
  {
   "cell_type": "code",
   "execution_count": null,
   "metadata": {},
   "outputs": [],
   "source": [
    "X = np.arange(0, 60, 5)\n",
    "y = [np.sqrt(x_val) + np.random.normal(0, 0.5) for x_val in X]"
   ]
  },
  {
   "cell_type": "code",
   "execution_count": null,
   "metadata": {},
   "outputs": [],
   "source": [
    "import matplotlib.pyplot as plt\n",
    "\n",
    "plt.scatter(X, y, s=8)"
   ]
  },
  {
   "cell_type": "markdown",
   "metadata": {},
   "source": [
    "---"
   ]
  },
  {
   "cell_type": "markdown",
   "metadata": {},
   "source": [
    "### Task 2:\n",
    "\n",
    "**Now let's intentionally overfit a model that focuses too much on training examples.**\n",
    "- Use Polynomial Features"
   ]
  },
  {
   "cell_type": "code",
   "execution_count": null,
   "metadata": {},
   "outputs": [],
   "source": []
  },
  {
   "cell_type": "code",
   "execution_count": null,
   "metadata": {},
   "outputs": [],
   "source": [
    "from sklearn.preprocessing import PolynomialFeatures\n",
    "from sklearn.linear_model import LinearRegression\n",
    "\n",
    "X = X.reshape(12, 1)\n",
    "\n",
    "poly = PolynomialFeatures(degree=12) \n",
    "m = LinearRegression() \n",
    "\n",
    "X_poly = poly.fit_transform(X) \n",
    "\n",
    "m.fit(X_poly, y)\n",
    "\n",
    "ypred = m.predict(X_poly)"
   ]
  },
  {
   "cell_type": "code",
   "execution_count": null,
   "metadata": {},
   "outputs": [],
   "source": [
    "plt.scatter(X, y, s=8)\n",
    "plt.plot(X, ypred)"
   ]
  },
  {
   "cell_type": "markdown",
   "metadata": {},
   "source": [
    "### Task 3:\n",
    "\n",
    "**Let's look at another extreme case. Generate similar data but purposely throw in some outliers.**"
   ]
  },
  {
   "cell_type": "code",
   "execution_count": null,
   "metadata": {},
   "outputs": [],
   "source": [
    "X = np.linspace(0, 15, 15).reshape(-1,1)\n",
    "y = [np.sqrt(x_val) + np.random.normal(0,0.1) for x_val in X]\n",
    "\n",
    "### Create some outliers intentionally\n",
    "y[2] = 3\n",
    "y[8] = 1\n",
    "\n",
    "plt.scatter(X, y, s=8)"
   ]
  },
  {
   "cell_type": "markdown",
   "metadata": {},
   "source": [
    "### Task 4:\n",
    "\n",
    "**Observe the effect of regularization**"
   ]
  },
  {
   "cell_type": "code",
   "execution_count": null,
   "metadata": {},
   "outputs": [],
   "source": [
    "### Make model unnecessarily complex\n",
    "poly = PolynomialFeatures(degree=4) #transformative model\n",
    "X_poly = poly.fit_transform(X)\n",
    "\n",
    "### Reduce the complexity through regularization\n",
    "from sklearn.linear_model import Ridge\n",
    "from sklearn.linear_model import Lasso\n",
    "from sklearn.linear_model import ElasticNet # combination of Ridge and Lasso\n",
    "m = LinearRegression() \n",
    "m_ridge = Ridge(alpha=5.0)\n",
    "m_lasso = Lasso(alpha=5.0)\n",
    "\n",
    "m.fit(X_poly, y)       \n",
    "m_ridge.fit(X_poly, y)  \n",
    "m_lasso.fit(X_poly, y)  \n",
    "\n",
    "ypred = m.predict(X_poly)\n",
    "ypred_ridge = m_ridge.predict(X_poly)\n",
    "ypred_lasso = m_lasso.predict(X_poly)\n",
    "\n",
    "plt.figure(figsize=(12, 8))\n",
    "plt.scatter(X, y, s=8)\n",
    "plt.plot(X, ypred)\n",
    "plt.plot(X, ypred_ridge)\n",
    "plt.plot(X, ypred_lasso)\n",
    "plt.legend(['No regularization', 'Ridge Regularization', 'Lasso Regularization'])"
   ]
  },
  {
   "cell_type": "code",
   "execution_count": null,
   "metadata": {},
   "outputs": [],
   "source": [
    "m.score(X_poly, y)"
   ]
  },
  {
   "cell_type": "markdown",
   "metadata": {},
   "source": [
    " <span style=\"color: red;\">**always do a little bit of regularization!** </span> -> will improve the result of the model a little bit"
   ]
  },
  {
   "cell_type": "markdown",
   "metadata": {},
   "source": [
    "**Inspect Coefficients**"
   ]
  },
  {
   "cell_type": "code",
   "execution_count": null,
   "metadata": {},
   "outputs": [],
   "source": [
    "m.coef_"
   ]
  },
  {
   "cell_type": "code",
   "execution_count": null,
   "metadata": {},
   "outputs": [],
   "source": [
    "m_ridge.coef_"
   ]
  },
  {
   "cell_type": "markdown",
   "metadata": {},
   "source": [
    "tries to get the coefficients closer to zero"
   ]
  },
  {
   "cell_type": "code",
   "execution_count": null,
   "metadata": {},
   "outputs": [],
   "source": [
    "m_lasso.coef_"
   ]
  },
  {
   "cell_type": "code",
   "execution_count": null,
   "metadata": {},
   "outputs": [],
   "source": []
  }
 ],
 "metadata": {
  "kernelspec": {
   "display_name": "Python 3",
   "language": "python",
   "name": "python3"
  },
  "language_info": {
   "codemirror_mode": {
    "name": "ipython",
    "version": 3
   },
   "file_extension": ".py",
   "mimetype": "text/x-python",
   "name": "python",
   "nbconvert_exporter": "python",
   "pygments_lexer": "ipython3",
   "version": "3.7.6"
  }
 },
 "nbformat": 4,
 "nbformat_minor": 4
}
