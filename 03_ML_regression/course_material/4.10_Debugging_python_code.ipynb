{
 "cells": [
  {
   "cell_type": "markdown",
   "metadata": {},
   "source": [
    "## Types of Bugs\n",
    "\n",
    "### Syntax Error\n",
    "- A SyntaxError means that the Python interpreter didn't understand something while parsing the code. It stops immediately and no code gets executed.\n",
    "\n",
    "An *Indentation Error* is a special type of *Syntax Erorr*."
   ]
  },
  {
   "cell_type": "markdown",
   "metadata": {},
   "source": [
    "### Exceptions at runtime\n",
    "\n",
    "- All other exceptions happen during *runtime*. Python starts executing the code, but encounters a location where the code fails.\n",
    "- A defect can **propagate** through the program. It travels from its original location until it reaches the point where the Exception is created. Both locations can be very far from each other."
   ]
  },
  {
   "cell_type": "markdown",
   "metadata": {},
   "source": [
    "### Semantic error\n",
    "- A semantic error means that there is no error message. The program runs and Python does not notice any errors. But the output is different thant the one you would expect."
   ]
  },
  {
   "cell_type": "markdown",
   "metadata": {},
   "source": [
    "## DEBUGGING TECHNIQUES\n"
   ]
  },
  {
   "cell_type": "markdown",
   "metadata": {},
   "source": [
    "| <p style=\"font-size: 18px\">Technique</p>      | <p style=\"font-size: 18px\">Description</p> |\n",
    "| ----------- | ----------- |\n",
    "| <p style=\"font-size: 18px\">read the error message</p>      | <p style=\"font-size: 18px\">start here</p>       |\n",
    "| <p style=\"font-size: 18px\">read code</p>   | <p style=\"font-size: 18px\">start at the line given in the error message</p>        |\n",
    "| <p style=\"font-size: 18px\">add print statements</p>      | <p style=\"font-size: 18px\">inspect variables while program runs</p>       |\n",
    "| <p style=\"font-size: 18px\">introspection</p>      | <p style=\"font-size: 18px\">inspect types and namespaces</p>       |\n",
    "| <p style=\"font-size: 18px\">interactive debugger</p>      | <p style=\"font-size: 18px\">execute the program line by line</p>       |\n",
    "| <p style=\"font-size: 18px\">read documentation</p>      | <p style=\"font-size: 18px\">understand how it works</p>       |\n",
    "| <p style=\"font-size: 18px\">take a break</p>      | <p style=\"font-size: 18px\"></p>       |\n",
    "| <p style=\"font-size: 18px\">code review</p>      | <p style=\"font-size: 18px\">ask someone to read your code</p>       |\n",
    "| <p style=\"font-size: 18px\">talk to someone</p>      | <p style=\"font-size: 18px\">explain your problem to someone</p>       |\n",
    "| <p style=\"font-size: 18px\">take notes</p>      | <p style=\"font-size: 18px\">write down the problem</p>       |\n"
   ]
  },
  {
   "cell_type": "code",
   "execution_count": null,
   "metadata": {},
   "outputs": [],
   "source": []
  }
 ],
 "metadata": {
  "kernelspec": {
   "display_name": "Python 3",
   "language": "python",
   "name": "python3"
  },
  "language_info": {
   "codemirror_mode": {
    "name": "ipython",
    "version": 3
   },
   "file_extension": ".py",
   "mimetype": "text/x-python",
   "name": "python",
   "nbconvert_exporter": "python",
   "pygments_lexer": "ipython3",
   "version": "3.7.6"
  }
 },
 "nbformat": 4,
 "nbformat_minor": 4
}
