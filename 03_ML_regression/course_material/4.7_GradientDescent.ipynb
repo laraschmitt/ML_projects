{
 "cells": [
  {
   "cell_type": "markdown",
   "metadata": {},
   "source": [
    "## Gradient Descent\n",
    "Gradient Descent is the **most important algorithm in Machine Learning**!\n",
    "\n",
    "GD is usd to fit the parameters of a model. More technically, GD finds the minimum of a function in a parameter space.\n",
    "\n",
    "In Gradient Descent, the location in the parameter space is modified according to the gradient of the loss function times the learning rate.\n",
    "\n",
    "The learning rate is a number that influences how far the algorithm moves along the gradient."
   ]
  },
  {
   "cell_type": "markdown",
   "metadata": {},
   "source": [
    "<img src=\"Gradient_Descent.png\" width=\"600\" height=\"1000\" />"
   ]
  },
  {
   "cell_type": "markdown",
   "metadata": {},
   "source": [
    "| <p style=\"font-size: 17px\">Concept</p>      | <p style=\"font-size: 17px\">Description</p> |\n",
    "| ----------- | ----------- |\n",
    "| <p style=\"font-size: 17px\">Gradient Descent</p>      | <p style=\"font-size: 17px\">iterative algorithm to find optimal parameters`</p>       |\n",
    "| <p style=\"font-size: 17px\">Gradient</p>      | <p style=\"font-size: 17px\">partial differential over all features</p>       \n",
    "| <p style=\"font-size: 17px\">Loss function</p>      | <p style=\"font-size: 17px\">the function that is optimized</p>\n",
    "| <p style=\"font-size: 17px\">Learning rate</p>      | <p style=\"font-size: 17px\">factor that determines the size of steps/p>      \n",
    "| <p style=\"font-size: 17px\">Stochastic Gradient Descent</p>      | <p style=\"font-size: 17px\">variant using randomly selected points</p>      \n",
    "| <p style=\"font-size: 17px\">Mini-Batch Gradient Descent</p>      | <p style=\"font-size: 17px\">variant using random samples of points</p>      \n"
   ]
  },
  {
   "cell_type": "markdown",
   "metadata": {},
   "source": [
    "### What is a gradient?"
   ]
  },
  {
   "cell_type": "markdown",
   "metadata": {},
   "source": [
    "The Gradient is the slope of a function in multiple dimensions. Technically, the gradient of a function *f(x)* is a vector contaning all its partial derivatives at the point *x*."
   ]
  },
  {
   "cell_type": "markdown",
   "metadata": {},
   "source": [
    "### What is a loss function?"
   ]
  },
  {
   "cell_type": "markdown",
   "metadata": {},
   "source": [
    "The minimized function is called loss function. It depends on the optimization problem, typically:\n",
    "- **MSE** in linear regression\n",
    "- **log-loss** in binary classification\n",
    "- **crossentropy** in multinomial classification\n",
    "- **hinge loss** in SVMs\n",
    "\n",
    "Many applications (especially in Deep Learning) use their own, custom loss functions."
   ]
  },
  {
   "cell_type": "markdown",
   "metadata": {},
   "source": [
    "### Why is scaling features important?\n",
    "> Gradient Descent will take longer if features are not on a similar scale.\n",
    "**Andre Ng's rule of thumb** says that if the features range from -3 to 3 it is OK."
   ]
  },
  {
   "cell_type": "markdown",
   "metadata": {},
   "source": [
    "### Stochastic Gradient Descent"
   ]
  },
  {
   "cell_type": "markdown",
   "metadata": {},
   "source": [
    "When you have lots of data, the standard GD alogorithm using all data points at every step becomes slow. There are two similar solutions:\n",
    "- **Stochastic Gradient (SGD)** uses only randomly chosen data points at a time.\n",
    "- **Batch Gradient Descent** uses randomly chosen subsets. This is the default when training neural networks."
   ]
  },
  {
   "cell_type": "markdown",
   "metadata": {},
   "source": [
    "# Building A Simple Version of Gradient Descent From Scratch:\n",
    "- http://krspiced.pythonanywhere.com/chapters/project_bicycles/gradient_descent/README.html"
   ]
  },
  {
   "cell_type": "markdown",
   "metadata": {},
   "source": [
    "### Let's start with some data.\n",
    "Dummy dataset that will help illustrate what we are trying to accomplish."
   ]
  },
  {
   "cell_type": "markdown",
   "metadata": {},
   "source": [
    "$\\hat{y} = -1.5 + 2.0$"
   ]
  },
  {
   "cell_type": "code",
   "execution_count": 36,
   "metadata": {},
   "outputs": [
    {
     "data": {
      "text/plain": [
       "Text(0.5, 1.0, 'y = 2x - 1.5')"
      ]
     },
     "execution_count": 36,
     "metadata": {},
     "output_type": "execute_result"
    },
    {
     "data": {
      "image/png": "[encoded data removed]",
      "text/plain": [
       "<Figure size 864x432 with 1 Axes>"
      ]
     },
     "metadata": {},
     "output_type": "display_data"
    }
   ],
   "source": [
    "import random\n",
    "import numpy as np\n",
    "import matplotlib.pyplot as plt\n",
    "import seaborn as sns\n",
    "sns.set()\n",
    "\n",
    "x = list(np.arange(-3, 3, 0.1).round(2))\n",
    "# use np.random.normal to create randomly distributed x values.\n",
    "# then calculate ytrue using a bias/intercept of -1.5 and a slope of 2.0. \n",
    "# add some random noise with the np.random.normal\n",
    "y = [-1.5 + 2*x_val + np.random.normal(0, 1) for x_val in x]\n",
    "\n",
    "plt.figure(figsize=(12,6))\n",
    "plt.scatter(x, y, s=8.0)\n",
    "plt.title('y = 2x - 1.5')"
   ]
  },
  {
   "cell_type": "markdown",
   "metadata": {},
   "source": [
    "In a nutshell, the way the gradient descent algorithm works is that it tries to tweak/ optimize the parameters of a function (e.g. a machine learning model) in such a way that the error between the output of that function (i.e. ypred) and the actual values (i.e. ytrue) is **minimized**.\n",
    "\n",
    "In this simple example, we are going to assume a **linear function** (y = b + wx) to approximate our data set, which means we have **2 parameters** we can tweak:\n",
    "\n",
    "1. the slope/weight (w)\n",
    "2. and the y-intecept/bias (b)\n",
    "\n",
    "To start, write a python function called `make_line` that accepts 3 arguments - x data (list), slope (float), intercept (float) - and returns a list of \"predicted\" y-values based on those parameters."
   ]
  },
  {
   "cell_type": "markdown",
   "metadata": {},
   "source": [
    "### Let's give ourselves the ability to make a line, i.e. \"prediction\""
   ]
  },
  {
   "cell_type": "code",
   "execution_count": 37,
   "metadata": {},
   "outputs": [],
   "source": [
    "def make_line(x:list, slope, intercept):\n",
    "    #slope = w1\n",
    "    #intercept = w0\n",
    "    ypred = [slope*x_val + intercept for x_val in x]  # calculate the predicted values\n",
    "    return ypred"
   ]
  },
  {
   "cell_type": "markdown",
   "metadata": {},
   "source": [
    "### Let's start with an (intentionally) bad prediction"
   ]
  },
  {
   "cell_type": "code",
   "execution_count": 41,
   "metadata": {},
   "outputs": [],
   "source": [
    "bad_first_guess = make_line(x, -3, 2)"
   ]
  },
  {
   "cell_type": "code",
   "execution_count": 42,
   "metadata": {},
   "outputs": [
    {
     "data": {
      "text/plain": [
       "[<matplotlib.lines.Line2D at 0x1a1f3cf9b0>]"
      ]
     },
     "execution_count": 42,
     "metadata": {},
     "output_type": "execute_result"
    },
    {
     "data": {
      "image/png": "[encoded data removed]",
      "text/plain": [
       "<Figure size 432x288 with 1 Axes>"
      ]
     },
     "metadata": {},
     "output_type": "display_data"
    }
   ],
   "source": [
    "plt.scatter(x, y)\n",
    "plt.plot(x, bad_first_guess)"
   ]
  },
  {
   "cell_type": "markdown",
   "metadata": {},
   "source": [
    "Of course the paraemeters we gave were bad! But that's okay - we have to start from somewhere! And it shouldn't matter too much how bad our intial prediction was, because it's going to be the algorithm's job to find the best parameters.\n",
    "\n",
    "We (as humans) can intuitively/ visually tell that the paraemters w = -3.0 and b = -2.0 gave us a bad prediction/ line of best fit.\n",
    "\n",
    "But how can a computer tell that it's bad?\n",
    "\n",
    "We need a wat of quantifying the error (or loss) between the predicted and the acutal values. In Machine Learning, this is referred to as a **loss function**.\n",
    "\n",
    "There are many loss functions that we could use, but for this simple example, let's use a common one: `mean-squared-error`.\n",
    "\n",
    "$$\n",
    "MSE = \\frac{1}{n}\\sum_{i=1}^n(y_i - \\hat{y}_i)^2\n",
    "$$"
   ]
  },
  {
   "cell_type": "markdown",
   "metadata": {},
   "source": [
    "### We need a loss function to tell us how bad the line is!\n",
    "Write a python function called `mse` that encodes the equation above - accepting ytrue and ypred as arguments (both lists) - and returns a single value for the mean-squared-error. "
   ]
  },
  {
   "cell_type": "code",
   "execution_count": 8,
   "metadata": {},
   "outputs": [],
   "source": [
    "def mse(ytrue:list, ypred:list):\n",
    "    \n",
    "#     sr_list = []\n",
    "#     for yt, yp in zip(ytrue, ypred):\n",
    "#         squared_res = (yt - yp)**2\n",
    "#         sr_list.append(squared_res)\n",
    "    \n",
    "    squared_residuals = [(yt - yp)**2 for yt, yp in zip(ytrue, ypred)]\n",
    "    error = np.mean(squared_residuals)\n",
    "    return error"
   ]
  },
  {
   "cell_type": "code",
   "execution_count": 43,
   "metadata": {},
   "outputs": [],
   "source": [
    "# letters = ['a', 'b', 'c', 'd']\n",
    "# numbers = [1, 2, 3, 4]"
   ]
  },
  {
   "cell_type": "code",
   "execution_count": 46,
   "metadata": {},
   "outputs": [],
   "source": [
    "# for a, b in zip(letters, numbers):\n",
    "#     print(a, b)"
   ]
  },
  {
   "cell_type": "code",
   "execution_count": 47,
   "metadata": {},
   "outputs": [
    {
     "data": {
      "text/plain": [
       "94.09561798073106"
      ]
     },
     "execution_count": 47,
     "metadata": {},
     "output_type": "execute_result"
    }
   ],
   "source": [
    "mse(y, bad_first_guess)"
   ]
  },
  {
   "cell_type": "code",
   "execution_count": 56,
   "metadata": {},
   "outputs": [
    {
     "data": {
      "text/plain": [
       "242.31549602634067"
      ]
     },
     "execution_count": 56,
     "metadata": {},
     "output_type": "execute_result"
    }
   ],
   "source": [
    "mse(y, make_line(x, 9, 9))"
   ]
  },
  {
   "cell_type": "markdown",
   "metadata": {},
   "source": [
    "So at this point, we have the ability to tell our computer how \"good\" or \"bad\" a prediction (i.e. combination of parameters) is.\n",
    "But this is not enough; we would also like to tell it how we should improve:\n",
    "- Think of the [\"Topfschlagen\" analogy](http://8w2culturalfoodfestivalrecipes.weebly.com/uploads/4/8/3/5/48353919/6026286_orig.png):\n",
    "    - we want to \"guide\" our model in the right direction, in such a way that it gets closer and closer to the \"target\" (i.e. the minimum error) each step it takes. In other words, we don't want it to try out a whole bunch of values or guess randomly.\n",
    "    - We need to give it positive or negative feedback in the right direction each step it takes."
   ]
  },
  {
   "cell_type": "markdown",
   "metadata": {},
   "source": [
    "---"
   ]
  },
  {
   "cell_type": "markdown",
   "metadata": {},
   "source": [
    "### Introducing, the **Gradient...**\n",
    "\n",
    "The essence of gradient descent is - *after determining the error between the predicted values and the actual values* - deciding by how much to tweak each of the parameters in such a way that the new values for the parameters result in a smaller loss than before! So for each one of our parameters ($\\omega$), we need to calculate:"
   ]
  },
  {
   "cell_type": "markdown",
   "metadata": {},
   "source": [
    "$\\omega_{new} = \\omega_{old} + \\triangle\\omega$"
   ]
  },
  {
   "cell_type": "markdown",
   "metadata": {},
   "source": [
    "... that makes our error smaller (i. e. makes our function more accurate) than the iteration before!"
   ]
  },
  {
   "cell_type": "markdown",
   "metadata": {},
   "source": [
    "How do we calculate an appropriate change for each parameter ($\\omega$) that achieves this objective? Wel,, as seen in a few of the images in the material above, the delta part of the equation evaluates to:"
   ]
  },
  {
   "cell_type": "markdown",
   "metadata": {},
   "source": [
    "$\\triangle \\omega = -\\eta \\triangledown loss(\\omega)$"
   ]
  },
  {
   "cell_type": "markdown",
   "metadata": {},
   "source": [
    "The toughest part about implementing the algorithm is understanding what the $\\triangledown  loss (\\omega)$ part means. This term represents the **gradient of the loss function for each variable, $(\\omega)$**. Another way of saying this is **calculating the first-order partial derivatives of the loss function with respect to each of the parameters**. And since we ware dealing with 2 parameters in this example (slope and intercept), we need to calculate 2 partial derivatives each time we run an iteration of the algorithm."
   ]
  },
  {
   "cell_type": "markdown",
   "metadata": {},
   "source": [
    "Write a python function called `calc_gradient` that takes in 4 arguments - (1) *the x data*, (2) *ytrue*, (3) *a slope/weight value*, (4) *an intercept/bias value* - calculates the numerical part derivative for each parameter based on a small incremental change d$\\omega$, and then returns 2 partial derivates."
   ]
  },
  {
   "cell_type": "markdown",
   "metadata": {},
   "source": [
    "The collection of resulting partial derivatives (which we return as a list) is known as the gradient."
   ]
  },
  {
   "cell_type": "code",
   "execution_count": 57,
   "metadata": {},
   "outputs": [],
   "source": [
    "\n",
    "def calc_gradient(x, ytrue, slope, intercept):\n",
    "    \n",
    "    dw = 0.0001 #a very small change in our parameter, w\n",
    "    ypred = make_line(x, slope, intercept)\n",
    "\n",
    "    '''tweak first parameter'''\n",
    "    slope_change = slope + dw\n",
    "    # calculate predictions using intercept and slope_change\n",
    "    ypred_slope = make_line(x, slope_change, intercept) #we ONLY tweak the slope (first parameter here)\n",
    "    deriv_slope = (mse(ytrue, ypred_slope) - mse(ytrue, ypred)) / dw \n",
    "\n",
    "    '''tweak second parameter'''\n",
    "    intercept_change = intercept + dw\n",
    "    # calculate predictions using intercept_change and slope\n",
    "    ypred_intercept = make_line(x, slope, intercept_change) #we ONLY tweak the intecept (second parameter)\n",
    "    deriv_intercept = (mse(ytrue, ypred_intercept) - mse(ytrue, ypred)) / dw\n",
    "\n",
    "    return [ deriv_slope, deriv_intercept ] # return both derivatives / gradients as a list"
   ]
  },
  {
   "cell_type": "code",
   "execution_count": 62,
   "metadata": {},
   "outputs": [
    {
     "data": {
      "text/plain": [
       "[-31.296848035822222, 7.278050924810486]"
      ]
     },
     "execution_count": 62,
     "metadata": {},
     "output_type": "execute_result"
    }
   ],
   "source": [
    "calc_gradient(x, y, -3, 2)"
   ]
  },
  {
   "cell_type": "code",
   "execution_count": 63,
   "metadata": {},
   "outputs": [
    {
     "data": {
      "text/plain": [
       "[<matplotlib.lines.Line2D at 0x1a2031a828>]"
      ]
     },
     "execution_count": 63,
     "metadata": {},
     "output_type": "execute_result"
    },
    {
     "data": {
      "image/png": "[encoded data removed]",
      "text/plain": [
       "<Figure size 432x288 with 1 Axes>"
      ]
     },
     "metadata": {},
     "output_type": "display_data"
    }
   ],
   "source": [
    "plt.scatter(x, y)\n",
    "plt.plot(x, bad_first_guess)"
   ]
  },
  {
   "cell_type": "markdown",
   "metadata": {},
   "source": [
    "---"
   ]
  },
  {
   "cell_type": "markdown",
   "metadata": {},
   "source": [
    "### Let's run the algorithm! Start with some constants:"
   ]
  },
  {
   "cell_type": "code",
   "execution_count": 65,
   "metadata": {},
   "outputs": [],
   "source": [
    "import time"
   ]
  },
  {
   "cell_type": "code",
   "execution_count": 74,
   "metadata": {},
   "outputs": [],
   "source": [
    "SLOPE = -10000.0 # arbitrary starting value\n",
    "INTERCEPT = 500000.0 # arbitrary starting value\n",
    "LR = 0.1 # choose a small learning rate\n",
    "MAX_ITER = 500"
   ]
  },
  {
   "cell_type": "code",
   "execution_count": 75,
   "metadata": {},
   "outputs": [
    {
     "name": "stdout",
     "output_type": "stream",
     "text": [
      "1004.669189453125 399899.71923828125\n",
      "1075.890064239502 43047.739028930664\n",
      "117.90827661752701 4635.424628853798\n",
      "14.624477946199477 498.04782518185675\n",
      "3.4998000755877 52.412173600714596\n",
      "2.30156425062944 4.412887108621533\n",
      "2.1725026182883855 -0.7571020851055987\n",
      "2.1586014273888843 -1.3139601181451077\n",
      "2.157104134157928 -1.3739391349949504\n",
      "2.1569428611396546 -1.3803994574612677\n",
      "2.156925490469641 -1.3810952969159906\n",
      "2.1569236194796115 -1.3811702455821528\n",
      "2.156923417956591 -1.3811783182806625\n",
      "2.1569233962503986 -1.3811791877880175\n",
      "2.156923393912491 -1.3811792814428792\n",
      "2.1569233936609145 -1.3811792915301435\n"
     ]
    },
    {
     "ename": "KeyboardInterrupt",
     "evalue": "",
     "output_type": "error",
     "traceback": [
      "\u001b[0;31m---------------------------------------------------------------------------\u001b[0m",
      "\u001b[0;31mKeyboardInterrupt\u001b[0m                         Traceback (most recent call last)",
      "\u001b[0;32m<ipython-input-75-f067b5a53233>\u001b[0m in \u001b[0;36m<module>\u001b[0;34m\u001b[0m\n\u001b[1;32m      1\u001b[0m \u001b[0;32mfor\u001b[0m \u001b[0mi\u001b[0m \u001b[0;32min\u001b[0m \u001b[0mrange\u001b[0m\u001b[0;34m(\u001b[0m\u001b[0mMAX_ITER\u001b[0m\u001b[0;34m)\u001b[0m\u001b[0;34m:\u001b[0m\u001b[0;34m\u001b[0m\u001b[0;34m\u001b[0m\u001b[0m\n\u001b[1;32m      2\u001b[0m \u001b[0;34m\u001b[0m\u001b[0m\n\u001b[0;32m----> 3\u001b[0;31m     \u001b[0mtime\u001b[0m\u001b[0;34m.\u001b[0m\u001b[0msleep\u001b[0m\u001b[0;34m(\u001b[0m\u001b[0;36m0.1\u001b[0m\u001b[0;34m)\u001b[0m\u001b[0;34m\u001b[0m\u001b[0;34m\u001b[0m\u001b[0m\n\u001b[0m\u001b[1;32m      4\u001b[0m \u001b[0;34m\u001b[0m\u001b[0m\n\u001b[1;32m      5\u001b[0m     \u001b[0;31m#1. In each iteration of the loop, calculate the gradient of your loss function with respect to each model parameter.\u001b[0m\u001b[0;34m\u001b[0m\u001b[0;34m\u001b[0m\u001b[0;34m\u001b[0m\u001b[0m\n",
      "\u001b[0;31mKeyboardInterrupt\u001b[0m: "
     ]
    }
   ],
   "source": [
    "for i in range(MAX_ITER):\n",
    "    \n",
    "    time.sleep(0.1)\n",
    "    \n",
    "    #1. In each iteration of the loop, calculate the gradient of your loss function with respect to each model parameter.\n",
    "    \n",
    "    deriv_slope, deriv_intercept = calc_gradient(x, y, SLOPE, INTERCEPT)\n",
    "\n",
    "    #2. For each model parameter, multiply the corresponding partial derivative by the learning rate, then negate it.\n",
    "    #3. Add the resulting product to the previous value of the model parameter to get the updated parameter value.\n",
    "    \n",
    "    SLOPE_NEW = -LR*deriv_slope + SLOPE\n",
    "    INTERCEPT_NEW = -LR*deriv_intercept + INTERCEPT\n",
    "\n",
    "    #4. Overwrite the values of each parameter with its updated value.\n",
    "    \n",
    "    SLOPE = SLOPE_NEW\n",
    "    INTERCEPT = INTERCEPT_NEW\n",
    "    \n",
    "    if i % 10 == 0:\n",
    "    \n",
    "        print(SLOPE, INTERCEPT)\n"
   ]
  },
  {
   "cell_type": "code",
   "execution_count": 76,
   "metadata": {},
   "outputs": [
    {
     "data": {
      "text/plain": [
       "1.0924867317080393"
      ]
     },
     "execution_count": 76,
     "metadata": {},
     "output_type": "execute_result"
    }
   ],
   "source": [
    "mse(y, make_line(x, 2.1569233936609145, -1.3811792915301435))"
   ]
  }
 ],
 "metadata": {
  "kernelspec": {
   "display_name": "Python 3",
   "language": "python",
   "name": "python3"
  },
  "language_info": {
   "codemirror_mode": {
    "name": "ipython",
    "version": 3
   },
   "file_extension": ".py",
   "mimetype": "text/x-python",
   "name": "python",
   "nbconvert_exporter": "python",
   "pygments_lexer": "ipython3",
   "version": "3.7.6"
  }
 },
 "nbformat": 4,
 "nbformat_minor": 4
}
