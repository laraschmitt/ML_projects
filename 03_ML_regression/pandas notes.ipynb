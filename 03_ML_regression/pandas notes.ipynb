{
 "cells": [
  {
   "cell_type": "markdown",
   "metadata": {},
   "source": [
    "* logical AND does not work in pandas\n",
    "\n",
    "you have to use the ampersand (&)"
   ]
  },
  {
   "cell_type": "markdown",
   "metadata": {},
   "source": [
    "* `df.transpose()` - when it is easier to operate on the columns than on the rows"
   ]
  },
  {
   "cell_type": "markdown",
   "metadata": {},
   "source": [
    "* reordering columns:\n",
    "    * `df[['col4', 'col3', 'col2']]"
   ]
  },
  {
   "cell_type": "markdown",
   "metadata": {},
   "source": [
    "* selection logic:\n",
    "    * df[[]] > 75  results in boolean mask"
   ]
  },
  {
   "cell_type": "markdown",
   "metadata": {},
   "source": [
    "exploratory:\n",
    "* `df.head()`\n",
    "* `df.shape`\n",
    "* `df.info() for data types`\n",
    "* `df.describe() for descriptive statistics`\n",
    "    \n",
    "    if the df is > 1GB split up the df into smaller chunks"
   ]
  },
  {
   "cell_type": "markdown",
   "metadata": {},
   "source": [
    "missing values:\n",
    "* `df.dropna()` removes rows with 1+ NaN\n",
    "* `df.dropna(inplace=True)` changes df\n",
    "* `df.fillna(value)`\n",
    "    * `df.fillna(df.mean())`\n",
    "    * `df.fillna(method='bfill')` copy value from other column\n"
   ]
  },
  {
   "cell_type": "markdown",
   "metadata": {},
   "source": [
    "* `df.iloc[:, 0:4]` index loc"
   ]
  },
  {
   "cell_type": "markdown",
   "metadata": {},
   "source": [
    "df['colname'].round()"
   ]
  },
  {
   "cell_type": "code",
   "execution_count": 6,
   "metadata": {},
   "outputs": [],
   "source": [
    "import pandas as pd"
   ]
  },
  {
   "cell_type": "code",
   "execution_count": null,
   "metadata": {},
   "outputs": [],
   "source": [
    "pd.read_csv(index.col=0) puts first column as index column"
   ]
  }
 ],
 "metadata": {
  "kernelspec": {
   "display_name": "Python 3",
   "language": "python",
   "name": "python3"
  },
  "language_info": {
   "codemirror_mode": {
    "name": "ipython",
    "version": 3
   },
   "file_extension": ".py",
   "mimetype": "text/x-python",
   "name": "python",
   "nbconvert_exporter": "python",
   "pygments_lexer": "ipython3",
   "version": "3.7.6"
  }
 },
 "nbformat": 4,
 "nbformat_minor": 4
}
