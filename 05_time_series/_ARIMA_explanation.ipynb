{
 "cells": [
  {
   "cell_type": "markdown",
   "metadata": {},
   "source": [
    "### ARIMA = AutoRegressive Integrated Moving Average\n",
    "- ARIMA model = widely used statistical method for time series forecasting\n",
    "- it is a class of model theat captures a collection of different standtad temporal structures in time series data\n",
    "- it is a generalization of the simpler AutoRegressive Moving Average and adds the notion of integration\n",
    "\n",
    "key aspects of the model:\n",
    "- **AR**: *Autoregression*. A model that uses the dependent relationship between an observation and some number of lagged observations.\n",
    "- **I**: *Integrated*. The use of differencing of raw observations (e.g. subtracting an observation from an observation at the previous time step) in order to make the time series stationary.\n",
    "- **MA**: *Moving Avergage*. A model that used the dependency between an observation and a residual error from a moving average model applied to lagged observations.\n",
    "\n",
    "Each of these components are explicitly specified in the model as a parameter. (standard notation: `ARIMA(p, d, q)`, where the parameters are substituted with integer values to quickly indicate the specific ARIMA model being used.\n",
    "\n",
    "parameter definitions:\n",
    "- **p**: the number of lag observations included in the model (= lag order)\n",
    "- **d**: the number of times that the raw observations are differenced (= degree of differencing)\n",
    "- **q**: the size of the moving average window (= order of moving average)"
   ]
  },
  {
   "cell_type": "markdown",
   "metadata": {},
   "source": [
    "-> a linear regression model is constructed inclduing the specified number and type of terms, and the data is prepared by a degree of differencing in order to make it stationary, i. e. to remove trend and seasonal structures that negatively affect the regression model. "
   ]
  },
  {
   "cell_type": "markdown",
   "metadata": {},
   "source": [
    "- using an ARIMA model for a time seris assumes that the underlying process that generated the observations is an ARIMA process. This may seem obvious, but helps to motivate the need to confirm the assumptions of the model in the raw observations and in the residual erros of forecasts from the model."
   ]
  },
  {
   "cell_type": "code",
   "execution_count": null,
   "metadata": {},
   "outputs": [],
   "source": []
  }
 ],
 "metadata": {
  "kernelspec": {
   "display_name": "Python 3",
   "language": "python",
   "name": "python3"
  },
  "language_info": {
   "codemirror_mode": {
    "name": "ipython",
    "version": 3
   },
   "file_extension": ".py",
   "mimetype": "text/x-python",
   "name": "python",
   "nbconvert_exporter": "python",
   "pygments_lexer": "ipython3",
   "version": "3.7.6"
  }
 },
 "nbformat": 4,
 "nbformat_minor": 4
}
