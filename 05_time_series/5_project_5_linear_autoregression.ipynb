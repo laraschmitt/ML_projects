{
 "cells": [
  {
   "cell_type": "markdown",
   "metadata": {},
   "source": [
    "# Autoregressive processes\n",
    "* Theory\n",
    "* Practical\n",
    "    * Prepare your data for Autoregression - trend, variance, seasonality\n",
    "    * Build a lag / series of lags\n",
    "    * Make a prediction based on this lag/lags\n",
    "    * Reconstruct - Undo stationarity on the prediction\n",
    "    * Check autocorrelation"
   ]
  },
  {
   "cell_type": "markdown",
   "metadata": {},
   "source": [
    "## Theory behind AR(p)\n",
    "\n",
    "An autoregressive process is a stochastic process of the form:\n",
    "\n",
    "$$\n",
    "y_t = b + \\sum_{j=1}^{P}w_{j}Y_{t-j} + \\epsilon_t\n",
    "$$\n",
    "\n",
    "where $b$ is the bias, $w_j$ are the weights of the model and $\\epsilon$ is some iid (e.g. Gaussian) noise. For the noise it holds that $E(\\epsilon_t) = E(\\epsilon) = 0$ and $V(\\epsilon_t) = V(\\epsilon) = \\sigma^2$. E.g. expectation and variance are constant and time invariant.\n",
    "\n",
    "\n",
    "For the case of $P=1$ we can write the process as:\n",
    "\n",
    "$$\n",
    "y_t = b + w_1Y_{t-1} + \\epsilon_t\n",
    "$$\n",
    "\n",
    "This can then be used to make predictions n-steps in the future, by using the prediction at time step t+1 as input to predicting time t+2 etc. [Find out more here](https://en.wikipedia.org/wiki/Autoregressive_model#n-step-ahead_forecasting)"
   ]
  },
  {
   "cell_type": "markdown",
   "metadata": {},
   "source": [
    "*- trend, seasonality, and variance in temperature data we can correct for*\n",
    "\n",
    "*- noise (error term) we cannnot correct for (there is no pattern in the noise)*"
   ]
  },
  {
   "cell_type": "code",
   "execution_count": 2,
   "metadata": {},
   "outputs": [],
   "source": [
    "import pandas as pd\n",
    "import matplotlib.pyplot as plt\n",
    "import seaborn as sns\n",
    "from sklearn.linear_model import LinearRegression"
   ]
  },
  {
   "cell_type": "code",
   "execution_count": 3,
   "metadata": {},
   "outputs": [
    {
     "data": {
      "text/html": [
       "<div>\n",
       "<style scoped>\n",
       "    .dataframe tbody tr th:only-of-type {\n",
       "        vertical-align: middle;\n",
       "    }\n",
       "\n",
       "    .dataframe tbody tr th {\n",
       "        vertical-align: top;\n",
       "    }\n",
       "\n",
       "    .dataframe thead th {\n",
       "        text-align: right;\n",
       "    }\n",
       "</style>\n",
       "<table border=\"1\" class=\"dataframe\">\n",
       "  <thead>\n",
       "    <tr style=\"text-align: right;\">\n",
       "      <th></th>\n",
       "      <th>TG</th>\n",
       "      <th>diff</th>\n",
       "      <th>pct</th>\n",
       "      <th>month</th>\n",
       "      <th>monthly_mean</th>\n",
       "      <th>stationary_temp</th>\n",
       "      <th>detrend_div</th>\n",
       "      <th>detrend_sub</th>\n",
       "    </tr>\n",
       "    <tr>\n",
       "      <th>DATE</th>\n",
       "      <th></th>\n",
       "      <th></th>\n",
       "      <th></th>\n",
       "      <th></th>\n",
       "      <th></th>\n",
       "      <th></th>\n",
       "      <th></th>\n",
       "      <th></th>\n",
       "    </tr>\n",
       "  </thead>\n",
       "  <tbody>\n",
       "    <tr>\n",
       "      <th>1876-01-01</th>\n",
       "      <td>275.35</td>\n",
       "      <td>NaN</td>\n",
       "      <td>NaN</td>\n",
       "      <td>1</td>\n",
       "      <td>-0.005496</td>\n",
       "      <td>NaN</td>\n",
       "      <td>NaN</td>\n",
       "      <td>NaN</td>\n",
       "    </tr>\n",
       "    <tr>\n",
       "      <th>1876-01-02</th>\n",
       "      <td>275.65</td>\n",
       "      <td>0.3</td>\n",
       "      <td>0.001090</td>\n",
       "      <td>1</td>\n",
       "      <td>-0.005496</td>\n",
       "      <td>0.305496</td>\n",
       "      <td>-54.582996</td>\n",
       "      <td>0.305496</td>\n",
       "    </tr>\n",
       "    <tr>\n",
       "      <th>1876-01-03</th>\n",
       "      <td>273.45</td>\n",
       "      <td>-2.2</td>\n",
       "      <td>-0.007981</td>\n",
       "      <td>1</td>\n",
       "      <td>-0.005496</td>\n",
       "      <td>-2.194504</td>\n",
       "      <td>400.275304</td>\n",
       "      <td>-2.194504</td>\n",
       "    </tr>\n",
       "    <tr>\n",
       "      <th>1876-01-04</th>\n",
       "      <td>267.35</td>\n",
       "      <td>-6.1</td>\n",
       "      <td>-0.022308</td>\n",
       "      <td>1</td>\n",
       "      <td>-0.005496</td>\n",
       "      <td>-6.094504</td>\n",
       "      <td>1109.854251</td>\n",
       "      <td>-6.094504</td>\n",
       "    </tr>\n",
       "    <tr>\n",
       "      <th>1876-01-05</th>\n",
       "      <td>263.35</td>\n",
       "      <td>-4.0</td>\n",
       "      <td>-0.014962</td>\n",
       "      <td>1</td>\n",
       "      <td>-0.005496</td>\n",
       "      <td>-3.994504</td>\n",
       "      <td>727.773279</td>\n",
       "      <td>-3.994504</td>\n",
       "    </tr>\n",
       "    <tr>\n",
       "      <th>1876-01-06</th>\n",
       "      <td>265.45</td>\n",
       "      <td>2.1</td>\n",
       "      <td>0.007974</td>\n",
       "      <td>1</td>\n",
       "      <td>-0.005496</td>\n",
       "      <td>2.105496</td>\n",
       "      <td>-382.080972</td>\n",
       "      <td>2.105496</td>\n",
       "    </tr>\n",
       "    <tr>\n",
       "      <th>1876-01-07</th>\n",
       "      <td>266.55</td>\n",
       "      <td>1.1</td>\n",
       "      <td>0.004144</td>\n",
       "      <td>1</td>\n",
       "      <td>-0.005496</td>\n",
       "      <td>1.105496</td>\n",
       "      <td>-200.137652</td>\n",
       "      <td>1.105496</td>\n",
       "    </tr>\n",
       "    <tr>\n",
       "      <th>1876-01-08</th>\n",
       "      <td>264.25</td>\n",
       "      <td>-2.3</td>\n",
       "      <td>-0.008629</td>\n",
       "      <td>1</td>\n",
       "      <td>-0.005496</td>\n",
       "      <td>-2.294504</td>\n",
       "      <td>418.469636</td>\n",
       "      <td>-2.294504</td>\n",
       "    </tr>\n",
       "  </tbody>\n",
       "</table>\n",
       "</div>"
      ],
      "text/plain": [
       "                TG  diff       pct  month  monthly_mean  stationary_temp  \\\n",
       "DATE                                                                       \n",
       "1876-01-01  275.35   NaN       NaN      1     -0.005496              NaN   \n",
       "1876-01-02  275.65   0.3  0.001090      1     -0.005496         0.305496   \n",
       "1876-01-03  273.45  -2.2 -0.007981      1     -0.005496        -2.194504   \n",
       "1876-01-04  267.35  -6.1 -0.022308      1     -0.005496        -6.094504   \n",
       "1876-01-05  263.35  -4.0 -0.014962      1     -0.005496        -3.994504   \n",
       "1876-01-06  265.45   2.1  0.007974      1     -0.005496         2.105496   \n",
       "1876-01-07  266.55   1.1  0.004144      1     -0.005496         1.105496   \n",
       "1876-01-08  264.25  -2.3 -0.008629      1     -0.005496        -2.294504   \n",
       "\n",
       "            detrend_div  detrend_sub  \n",
       "DATE                                  \n",
       "1876-01-01          NaN          NaN  \n",
       "1876-01-02   -54.582996     0.305496  \n",
       "1876-01-03   400.275304    -2.194504  \n",
       "1876-01-04  1109.854251    -6.094504  \n",
       "1876-01-05   727.773279    -3.994504  \n",
       "1876-01-06  -382.080972     2.105496  \n",
       "1876-01-07  -200.137652     1.105496  \n",
       "1876-01-08   418.469636    -2.294504  "
      ]
     },
     "execution_count": 3,
     "metadata": {},
     "output_type": "execute_result"
    }
   ],
   "source": [
    "df = pd.read_csv('data/temp_data_decomposed_stationarized.csv', index_col=0)\n",
    "df.head(8)"
   ]
  },
  {
   "cell_type": "markdown",
   "metadata": {},
   "source": [
    "### 5. 1 Stationarise the data: Build a lag/ series of lag\n",
    "* An autoregression model is a linear regression model that uses lagged variables as input variables, so we need to identify and define p\n",
    "* The lag of p will be how far into the future we are predicting!\n",
    "* We should check out the correlation of each lag to help us decide\n",
    "\n",
    "*in timeseries: X data has to be historical data of itself that s why we have to create more data (by shifting the data through time)*\n",
    "\n",
    "*the most useful lag for weather data is the day before*"
   ]
  },
  {
   "cell_type": "code",
   "execution_count": 4,
   "metadata": {},
   "outputs": [
    {
     "data": {
      "text/plain": [
       "[1, 2, 3, 4, 5, 6, 7, 8, 9, 10, 11, 12]"
      ]
     },
     "execution_count": 4,
     "metadata": {},
     "output_type": "execute_result"
    }
   ],
   "source": [
    "YEAR = list(range(1,13))\n",
    "YEAR"
   ]
  },
  {
   "cell_type": "code",
   "execution_count": 5,
   "metadata": {},
   "outputs": [],
   "source": [
    "for month in YEAR:\n",
    "    df[f'{month}_shifted_stationary_temp'] = df.stationary_temp.shift(month)"
   ]
  },
  {
   "cell_type": "code",
   "execution_count": 6,
   "metadata": {},
   "outputs": [
    {
     "data": {
      "text/html": [
       "<div>\n",
       "<style scoped>\n",
       "    .dataframe tbody tr th:only-of-type {\n",
       "        vertical-align: middle;\n",
       "    }\n",
       "\n",
       "    .dataframe tbody tr th {\n",
       "        vertical-align: top;\n",
       "    }\n",
       "\n",
       "    .dataframe thead th {\n",
       "        text-align: right;\n",
       "    }\n",
       "</style>\n",
       "<table border=\"1\" class=\"dataframe\">\n",
       "  <thead>\n",
       "    <tr style=\"text-align: right;\">\n",
       "      <th></th>\n",
       "      <th>TG</th>\n",
       "      <th>diff</th>\n",
       "      <th>pct</th>\n",
       "      <th>month</th>\n",
       "      <th>monthly_mean</th>\n",
       "      <th>stationary_temp</th>\n",
       "      <th>detrend_div</th>\n",
       "      <th>detrend_sub</th>\n",
       "      <th>1_shifted_stationary_temp</th>\n",
       "      <th>2_shifted_stationary_temp</th>\n",
       "      <th>3_shifted_stationary_temp</th>\n",
       "      <th>4_shifted_stationary_temp</th>\n",
       "      <th>5_shifted_stationary_temp</th>\n",
       "      <th>6_shifted_stationary_temp</th>\n",
       "      <th>7_shifted_stationary_temp</th>\n",
       "      <th>8_shifted_stationary_temp</th>\n",
       "      <th>9_shifted_stationary_temp</th>\n",
       "      <th>10_shifted_stationary_temp</th>\n",
       "      <th>11_shifted_stationary_temp</th>\n",
       "      <th>12_shifted_stationary_temp</th>\n",
       "    </tr>\n",
       "    <tr>\n",
       "      <th>DATE</th>\n",
       "      <th></th>\n",
       "      <th></th>\n",
       "      <th></th>\n",
       "      <th></th>\n",
       "      <th></th>\n",
       "      <th></th>\n",
       "      <th></th>\n",
       "      <th></th>\n",
       "      <th></th>\n",
       "      <th></th>\n",
       "      <th></th>\n",
       "      <th></th>\n",
       "      <th></th>\n",
       "      <th></th>\n",
       "      <th></th>\n",
       "      <th></th>\n",
       "      <th></th>\n",
       "      <th></th>\n",
       "      <th></th>\n",
       "      <th></th>\n",
       "    </tr>\n",
       "  </thead>\n",
       "  <tbody>\n",
       "    <tr>\n",
       "      <th>1876-01-01</th>\n",
       "      <td>275.35</td>\n",
       "      <td>NaN</td>\n",
       "      <td>NaN</td>\n",
       "      <td>1</td>\n",
       "      <td>-0.005496</td>\n",
       "      <td>NaN</td>\n",
       "      <td>NaN</td>\n",
       "      <td>NaN</td>\n",
       "      <td>NaN</td>\n",
       "      <td>NaN</td>\n",
       "      <td>NaN</td>\n",
       "      <td>NaN</td>\n",
       "      <td>NaN</td>\n",
       "      <td>NaN</td>\n",
       "      <td>NaN</td>\n",
       "      <td>NaN</td>\n",
       "      <td>NaN</td>\n",
       "      <td>NaN</td>\n",
       "      <td>NaN</td>\n",
       "      <td>NaN</td>\n",
       "    </tr>\n",
       "    <tr>\n",
       "      <th>1876-01-02</th>\n",
       "      <td>275.65</td>\n",
       "      <td>0.3</td>\n",
       "      <td>0.001090</td>\n",
       "      <td>1</td>\n",
       "      <td>-0.005496</td>\n",
       "      <td>0.305496</td>\n",
       "      <td>-54.582996</td>\n",
       "      <td>0.305496</td>\n",
       "      <td>NaN</td>\n",
       "      <td>NaN</td>\n",
       "      <td>NaN</td>\n",
       "      <td>NaN</td>\n",
       "      <td>NaN</td>\n",
       "      <td>NaN</td>\n",
       "      <td>NaN</td>\n",
       "      <td>NaN</td>\n",
       "      <td>NaN</td>\n",
       "      <td>NaN</td>\n",
       "      <td>NaN</td>\n",
       "      <td>NaN</td>\n",
       "    </tr>\n",
       "    <tr>\n",
       "      <th>1876-01-03</th>\n",
       "      <td>273.45</td>\n",
       "      <td>-2.2</td>\n",
       "      <td>-0.007981</td>\n",
       "      <td>1</td>\n",
       "      <td>-0.005496</td>\n",
       "      <td>-2.194504</td>\n",
       "      <td>400.275304</td>\n",
       "      <td>-2.194504</td>\n",
       "      <td>0.305496</td>\n",
       "      <td>NaN</td>\n",
       "      <td>NaN</td>\n",
       "      <td>NaN</td>\n",
       "      <td>NaN</td>\n",
       "      <td>NaN</td>\n",
       "      <td>NaN</td>\n",
       "      <td>NaN</td>\n",
       "      <td>NaN</td>\n",
       "      <td>NaN</td>\n",
       "      <td>NaN</td>\n",
       "      <td>NaN</td>\n",
       "    </tr>\n",
       "    <tr>\n",
       "      <th>1876-01-04</th>\n",
       "      <td>267.35</td>\n",
       "      <td>-6.1</td>\n",
       "      <td>-0.022308</td>\n",
       "      <td>1</td>\n",
       "      <td>-0.005496</td>\n",
       "      <td>-6.094504</td>\n",
       "      <td>1109.854251</td>\n",
       "      <td>-6.094504</td>\n",
       "      <td>-2.194504</td>\n",
       "      <td>0.305496</td>\n",
       "      <td>NaN</td>\n",
       "      <td>NaN</td>\n",
       "      <td>NaN</td>\n",
       "      <td>NaN</td>\n",
       "      <td>NaN</td>\n",
       "      <td>NaN</td>\n",
       "      <td>NaN</td>\n",
       "      <td>NaN</td>\n",
       "      <td>NaN</td>\n",
       "      <td>NaN</td>\n",
       "    </tr>\n",
       "    <tr>\n",
       "      <th>1876-01-05</th>\n",
       "      <td>263.35</td>\n",
       "      <td>-4.0</td>\n",
       "      <td>-0.014962</td>\n",
       "      <td>1</td>\n",
       "      <td>-0.005496</td>\n",
       "      <td>-3.994504</td>\n",
       "      <td>727.773279</td>\n",
       "      <td>-3.994504</td>\n",
       "      <td>-6.094504</td>\n",
       "      <td>-2.194504</td>\n",
       "      <td>0.305496</td>\n",
       "      <td>NaN</td>\n",
       "      <td>NaN</td>\n",
       "      <td>NaN</td>\n",
       "      <td>NaN</td>\n",
       "      <td>NaN</td>\n",
       "      <td>NaN</td>\n",
       "      <td>NaN</td>\n",
       "      <td>NaN</td>\n",
       "      <td>NaN</td>\n",
       "    </tr>\n",
       "  </tbody>\n",
       "</table>\n",
       "</div>"
      ],
      "text/plain": [
       "                TG  diff       pct  month  monthly_mean  stationary_temp  \\\n",
       "DATE                                                                       \n",
       "1876-01-01  275.35   NaN       NaN      1     -0.005496              NaN   \n",
       "1876-01-02  275.65   0.3  0.001090      1     -0.005496         0.305496   \n",
       "1876-01-03  273.45  -2.2 -0.007981      1     -0.005496        -2.194504   \n",
       "1876-01-04  267.35  -6.1 -0.022308      1     -0.005496        -6.094504   \n",
       "1876-01-05  263.35  -4.0 -0.014962      1     -0.005496        -3.994504   \n",
       "\n",
       "            detrend_div  detrend_sub  1_shifted_stationary_temp  \\\n",
       "DATE                                                              \n",
       "1876-01-01          NaN          NaN                        NaN   \n",
       "1876-01-02   -54.582996     0.305496                        NaN   \n",
       "1876-01-03   400.275304    -2.194504                   0.305496   \n",
       "1876-01-04  1109.854251    -6.094504                  -2.194504   \n",
       "1876-01-05   727.773279    -3.994504                  -6.094504   \n",
       "\n",
       "            2_shifted_stationary_temp  3_shifted_stationary_temp  \\\n",
       "DATE                                                               \n",
       "1876-01-01                        NaN                        NaN   \n",
       "1876-01-02                        NaN                        NaN   \n",
       "1876-01-03                        NaN                        NaN   \n",
       "1876-01-04                   0.305496                        NaN   \n",
       "1876-01-05                  -2.194504                   0.305496   \n",
       "\n",
       "            4_shifted_stationary_temp  5_shifted_stationary_temp  \\\n",
       "DATE                                                               \n",
       "1876-01-01                        NaN                        NaN   \n",
       "1876-01-02                        NaN                        NaN   \n",
       "1876-01-03                        NaN                        NaN   \n",
       "1876-01-04                        NaN                        NaN   \n",
       "1876-01-05                        NaN                        NaN   \n",
       "\n",
       "            6_shifted_stationary_temp  7_shifted_stationary_temp  \\\n",
       "DATE                                                               \n",
       "1876-01-01                        NaN                        NaN   \n",
       "1876-01-02                        NaN                        NaN   \n",
       "1876-01-03                        NaN                        NaN   \n",
       "1876-01-04                        NaN                        NaN   \n",
       "1876-01-05                        NaN                        NaN   \n",
       "\n",
       "            8_shifted_stationary_temp  9_shifted_stationary_temp  \\\n",
       "DATE                                                               \n",
       "1876-01-01                        NaN                        NaN   \n",
       "1876-01-02                        NaN                        NaN   \n",
       "1876-01-03                        NaN                        NaN   \n",
       "1876-01-04                        NaN                        NaN   \n",
       "1876-01-05                        NaN                        NaN   \n",
       "\n",
       "            10_shifted_stationary_temp  11_shifted_stationary_temp  \\\n",
       "DATE                                                                 \n",
       "1876-01-01                         NaN                         NaN   \n",
       "1876-01-02                         NaN                         NaN   \n",
       "1876-01-03                         NaN                         NaN   \n",
       "1876-01-04                         NaN                         NaN   \n",
       "1876-01-05                         NaN                         NaN   \n",
       "\n",
       "            12_shifted_stationary_temp  \n",
       "DATE                                    \n",
       "1876-01-01                         NaN  \n",
       "1876-01-02                         NaN  \n",
       "1876-01-03                         NaN  \n",
       "1876-01-04                         NaN  \n",
       "1876-01-05                         NaN  "
      ]
     },
     "execution_count": 6,
     "metadata": {},
     "output_type": "execute_result"
    }
   ],
   "source": [
    "df.head()"
   ]
  },
  {
   "cell_type": "code",
   "execution_count": 7,
   "metadata": {},
   "outputs": [],
   "source": [
    "# fill NAs \n",
    "#df.isna().sum()\n",
    "df.fillna(method='bfill', inplace=True) # fill missing values\n",
    "#df.isna().sum()"
   ]
  },
  {
   "cell_type": "code",
   "execution_count": 8,
   "metadata": {},
   "outputs": [
    {
     "data": {
      "text/plain": [
       "<matplotlib.axes._subplots.AxesSubplot at 0x1a23282f90>"
      ]
     },
     "execution_count": 8,
     "metadata": {},
     "output_type": "execute_result"
    },
    {
     "data": {
      "image/png": "[encoded data removed]",
      "text/plain": [
       "<Figure size 432x288 with 2 Axes>"
      ]
     },
     "metadata": {
      "needs_background": "light"
     },
     "output_type": "display_data"
    }
   ],
   "source": [
    "sns.heatmap(df[[x for x in df.columns if ('stationary') in x]].corr().abs()) # absolute values, we do not care about negative corr relationships"
   ]
  },
  {
   "cell_type": "markdown",
   "metadata": {},
   "source": [
    "### 5.2 Train-Test Split"
   ]
  },
  {
   "cell_type": "code",
   "execution_count": 9,
   "metadata": {},
   "outputs": [
    {
     "data": {
      "text/plain": [
       "Index(['TG', 'diff', 'pct', 'month', 'monthly_mean', 'stationary_temp',\n",
       "       'detrend_div', 'detrend_sub', '1_shifted_stationary_temp',\n",
       "       '2_shifted_stationary_temp', '3_shifted_stationary_temp',\n",
       "       '4_shifted_stationary_temp', '5_shifted_stationary_temp',\n",
       "       '6_shifted_stationary_temp', '7_shifted_stationary_temp',\n",
       "       '8_shifted_stationary_temp', '9_shifted_stationary_temp',\n",
       "       '10_shifted_stationary_temp', '11_shifted_stationary_temp',\n",
       "       '12_shifted_stationary_temp'],\n",
       "      dtype='object')"
      ]
     },
     "execution_count": 9,
     "metadata": {},
     "output_type": "execute_result"
    }
   ],
   "source": [
    "df.columns"
   ]
  },
  {
   "cell_type": "code",
   "execution_count": 10,
   "metadata": {},
   "outputs": [
    {
     "data": {
      "text/plain": [
       "Index(['1_shifted_stationary_temp', '2_shifted_stationary_temp',\n",
       "       '3_shifted_stationary_temp', '4_shifted_stationary_temp',\n",
       "       '5_shifted_stationary_temp', '6_shifted_stationary_temp',\n",
       "       '7_shifted_stationary_temp', '8_shifted_stationary_temp',\n",
       "       '9_shifted_stationary_temp', '10_shifted_stationary_temp',\n",
       "       '11_shifted_stationary_temp', '12_shifted_stationary_temp'],\n",
       "      dtype='object')"
      ]
     },
     "execution_count": 10,
     "metadata": {},
     "output_type": "execute_result"
    }
   ],
   "source": [
    "features = df.columns[8:]\n",
    "features"
   ]
  },
  {
   "cell_type": "code",
   "execution_count": 11,
   "metadata": {},
   "outputs": [],
   "source": [
    "# no train_test_split(X, y) because it is random\n",
    "# and in time series data the sequence is very important!\n",
    "X_train = df.loc[:'2017-12-31'][features]\n",
    "y_train = df.loc[:'2017-12-31']['stationary_temp']\n",
    "\n",
    "\n",
    "# test data from 2017-2019\n",
    "X_test = df.loc['2017-01-01':'2019-12-31'][features]\n",
    "y_test = df.loc['2017-01-01':'2019-12-31']['stationary_temp']"
   ]
  },
  {
   "cell_type": "code",
   "execution_count": 12,
   "metadata": {},
   "outputs": [
    {
     "data": {
      "text/plain": [
       "0.0835183879515421"
      ]
     },
     "execution_count": 12,
     "metadata": {},
     "output_type": "execute_result"
    }
   ],
   "source": [
    "m = LinearRegression()\n",
    "m.fit(X_train, y_train)\n",
    "m.score(X_train, y_train)"
   ]
  },
  {
   "cell_type": "markdown",
   "metadata": {},
   "source": [
    "### 5.3 Make a prediction based on this lag/lags"
   ]
  },
  {
   "cell_type": "code",
   "execution_count": 13,
   "metadata": {},
   "outputs": [],
   "source": [
    "y_pred_stat_temp = m.predict(X_test)"
   ]
  },
  {
   "cell_type": "code",
   "execution_count": 17,
   "metadata": {},
   "outputs": [
    {
     "data": {
      "text/plain": [
       "[<matplotlib.lines.Line2D at 0x1a23733390>]"
      ]
     },
     "execution_count": 17,
     "metadata": {},
     "output_type": "execute_result"
    },
    {
     "data": {
      "image/png": "[encoded data removed]",
      "text/plain": [
       "<Figure size 432x288 with 1 Axes>"
      ]
     },
     "metadata": {
      "needs_background": "light"
     },
     "output_type": "display_data"
    }
   ],
   "source": [
    "plt.plot(y_test.index, y_test)\n",
    "plt.plot(y_test.index, (m.predict(X_test)))"
   ]
  },
  {
   "cell_type": "markdown",
   "metadata": {},
   "source": [
    "### 5. Decomposition\n",
    "  1. Decompose the time series (done in the script before)\n",
    "  2. Train a model on the decomposed data (done)\n",
    "  3. Create a prediction from the model (done)\n",
    "  4. Recompose the predictions"
   ]
  },
  {
   "cell_type": "code",
   "execution_count": null,
   "metadata": {},
   "outputs": [],
   "source": [
    "# write decompose (in the other scrpt) and reconstruct functions!!!\n",
    "# then\n",
    "# then predictions on original scale\n",
    "\n",
    "# put everything into a pipleline\n",
    "# Pipeline (decompose - predict - recompose prediction)\n",
    "# crossvalidation "
   ]
  },
  {
   "cell_type": "markdown",
   "metadata": {},
   "source": [
    "### 6. Recomposition/ Reconstruction - undo stationarity on the prediction\n",
    "* We aren't predicting stationary data, but actual data, so we have to undo what we just did\n",
    "\n",
    "\n",
    "## Checklist!! Apply this to your climate data:\n",
    "* Stationarise the data\n",
    "* Build a lag / series of lags\n",
    "* Make a prediction based on this lag/lags\n",
    "* Reconstruct - Undo stationarity on the prediction\n",
    "* Check autocorrelation\n",
    "\n",
    "\n",
    "you need to unstationarize ypred!\n",
    "take ypred and pass it to the inverse transform for all of the steps\n",
    "\n",
    "1 ....\n",
    "2. take a baseline .... instead of diff\n",
    "3. exponent function instead of log "
   ]
  },
  {
   "cell_type": "code",
   "execution_count": null,
   "metadata": {},
   "outputs": [],
   "source": []
  }
 ],
 "metadata": {
  "kernelspec": {
   "display_name": "Python 3",
   "language": "python",
   "name": "python3"
  },
  "language_info": {
   "codemirror_mode": {
    "name": "ipython",
    "version": 3
   },
   "file_extension": ".py",
   "mimetype": "text/x-python",
   "name": "python",
   "nbconvert_exporter": "python",
   "pygments_lexer": "ipython3",
   "version": "3.7.6"
  }
 },
 "nbformat": 4,
 "nbformat_minor": 4
}
