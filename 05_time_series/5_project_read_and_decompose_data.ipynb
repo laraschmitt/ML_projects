{
 "cells": [
  {
   "cell_type": "markdown",
   "metadata": {},
   "source": [
    "# Time Series Analysis\n",
    "**Short-term temperature forecoast**\n",
    "\n",
    "- understand the purpose of Time Series Analysis\n",
    "- understand the concept of **time dependence** in time series data\n",
    "- understand how to use AR and ARIMA models in order to predict the future\n",
    "\n",
    "Checklist\n",
    "- read a temperature curve\n",
    "- decompose the time series\n",
    "- train a linear model\n",
    "- try other forecasting methods\n",
    "- calculate quality metrics\n",
    "- download more data\n",
    "- plot climate data on a map"
   ]
  },
  {
   "cell_type": "markdown",
   "metadata": {},
   "source": [
    "## 1. Download and read the data\n",
    "\n",
    "- Go to www.ecad.eu\n",
    "- Go to “Daily data”\n",
    "- Click on “Custom query (ASCII)”\n",
    "- Pick:\n",
    "    - Type of series: blend\n",
    "    - Country: Germany\n",
    "    - Location: Berlin-Tempelhof\n",
    "    - Element: Mean temperature\n"
   ]
  },
  {
   "cell_type": "markdown",
   "metadata": {},
   "source": [
    "- read the data into a dataframe"
   ]
  },
  {
   "cell_type": "code",
   "execution_count": 1,
   "metadata": {},
   "outputs": [],
   "source": [
    "import pandas as pd\n",
    "import matplotlib.pyplot as plt\n",
    "import seaborn as sns"
   ]
  },
  {
   "cell_type": "code",
   "execution_count": 2,
   "metadata": {},
   "outputs": [
    {
     "data": {
      "text/html": [
       "<div>\n",
       "<style scoped>\n",
       "    .dataframe tbody tr th:only-of-type {\n",
       "        vertical-align: middle;\n",
       "    }\n",
       "\n",
       "    .dataframe tbody tr th {\n",
       "        vertical-align: top;\n",
       "    }\n",
       "\n",
       "    .dataframe thead th {\n",
       "        text-align: right;\n",
       "    }\n",
       "</style>\n",
       "<table border=\"1\" class=\"dataframe\">\n",
       "  <thead>\n",
       "    <tr style=\"text-align: right;\">\n",
       "      <th></th>\n",
       "      <th>SOUID</th>\n",
       "      <th>DATE</th>\n",
       "      <th>TG</th>\n",
       "      <th>Q_TG</th>\n",
       "    </tr>\n",
       "  </thead>\n",
       "  <tbody>\n",
       "    <tr>\n",
       "      <th>0</th>\n",
       "      <td>127488</td>\n",
       "      <td>18760101</td>\n",
       "      <td>22</td>\n",
       "      <td>0</td>\n",
       "    </tr>\n",
       "    <tr>\n",
       "      <th>1</th>\n",
       "      <td>127488</td>\n",
       "      <td>18760102</td>\n",
       "      <td>25</td>\n",
       "      <td>0</td>\n",
       "    </tr>\n",
       "    <tr>\n",
       "      <th>2</th>\n",
       "      <td>127488</td>\n",
       "      <td>18760103</td>\n",
       "      <td>3</td>\n",
       "      <td>0</td>\n",
       "    </tr>\n",
       "    <tr>\n",
       "      <th>3</th>\n",
       "      <td>127488</td>\n",
       "      <td>18760104</td>\n",
       "      <td>-58</td>\n",
       "      <td>0</td>\n",
       "    </tr>\n",
       "    <tr>\n",
       "      <th>4</th>\n",
       "      <td>127488</td>\n",
       "      <td>18760105</td>\n",
       "      <td>-98</td>\n",
       "      <td>0</td>\n",
       "    </tr>\n",
       "  </tbody>\n",
       "</table>\n",
       "</div>"
      ],
      "text/plain": [
       "    SOUID      DATE     TG   Q_TG\n",
       "0  127488  18760101     22      0\n",
       "1  127488  18760102     25      0\n",
       "2  127488  18760103      3      0\n",
       "3  127488  18760104    -58      0\n",
       "4  127488  18760105    -98      0"
      ]
     },
     "execution_count": 2,
     "metadata": {},
     "output_type": "execute_result"
    }
   ],
   "source": [
    "df = pd.read_csv('data/ECA_blended_custom/TG_STAID002759_descr_removed.txt') # , header=0, sep=',', quotechar='\"'\n",
    "df.head()"
   ]
  },
  {
   "cell_type": "code",
   "execution_count": 3,
   "metadata": {
    "scrolled": true
   },
   "outputs": [
    {
     "name": "stdout",
     "output_type": "stream",
     "text": [
      "<class 'pandas.core.frame.DataFrame'>\n",
      "RangeIndex: 52808 entries, 0 to 52807\n",
      "Data columns (total 4 columns):\n",
      " #   Column    Non-Null Count  Dtype\n",
      "---  ------    --------------  -----\n",
      " 0    SOUID    52808 non-null  int64\n",
      " 1       DATE  52808 non-null  int64\n",
      " 2      TG     52808 non-null  int64\n",
      " 3    Q_TG     52808 non-null  int64\n",
      "dtypes: int64(4)\n",
      "memory usage: 1.6 MB\n"
     ]
    }
   ],
   "source": [
    "df.info() # whitespaces in column names"
   ]
  },
  {
   "cell_type": "code",
   "execution_count": 4,
   "metadata": {},
   "outputs": [
    {
     "data": {
      "text/plain": [
       " SOUID        127488\n",
       "    DATE    18760101\n",
       "   TG             22\n",
       " Q_TG              0\n",
       "Name: 0, dtype: int64"
      ]
     },
     "execution_count": 4,
     "metadata": {},
     "output_type": "execute_result"
    }
   ],
   "source": [
    "df.loc[0]"
   ]
  },
  {
   "cell_type": "code",
   "execution_count": 5,
   "metadata": {},
   "outputs": [],
   "source": [
    "# remove whitespaces in df\n",
    "df = df.rename(columns=lambda x: x.strip())"
   ]
  },
  {
   "cell_type": "code",
   "execution_count": 6,
   "metadata": {},
   "outputs": [
    {
     "data": {
      "text/plain": [
       "SOUID      127488\n",
       "DATE     18760101\n",
       "TG             22\n",
       "Q_TG            0\n",
       "Name: 0, dtype: int64"
      ]
     },
     "execution_count": 6,
     "metadata": {},
     "output_type": "execute_result"
    }
   ],
   "source": [
    "df.loc[0]"
   ]
  },
  {
   "cell_type": "markdown",
   "metadata": {},
   "source": [
    "#### temperature (TG) is in unit of the temperature is 0.1 °C (multiplied by 10)\n",
    "so that all values are integers (was important back than to save expensive data storage cost)"
   ]
  },
  {
   "cell_type": "code",
   "execution_count": 7,
   "metadata": {},
   "outputs": [
    {
     "data": {
      "text/html": [
       "<div>\n",
       "<style scoped>\n",
       "    .dataframe tbody tr th:only-of-type {\n",
       "        vertical-align: middle;\n",
       "    }\n",
       "\n",
       "    .dataframe tbody tr th {\n",
       "        vertical-align: top;\n",
       "    }\n",
       "\n",
       "    .dataframe thead th {\n",
       "        text-align: right;\n",
       "    }\n",
       "</style>\n",
       "<table border=\"1\" class=\"dataframe\">\n",
       "  <thead>\n",
       "    <tr style=\"text-align: right;\">\n",
       "      <th></th>\n",
       "      <th>SOUID</th>\n",
       "      <th>DATE</th>\n",
       "      <th>TG</th>\n",
       "      <th>Q_TG</th>\n",
       "    </tr>\n",
       "  </thead>\n",
       "  <tbody>\n",
       "    <tr>\n",
       "      <th>0</th>\n",
       "      <td>127488</td>\n",
       "      <td>18760101</td>\n",
       "      <td>2.2</td>\n",
       "      <td>0</td>\n",
       "    </tr>\n",
       "    <tr>\n",
       "      <th>1</th>\n",
       "      <td>127488</td>\n",
       "      <td>18760102</td>\n",
       "      <td>2.5</td>\n",
       "      <td>0</td>\n",
       "    </tr>\n",
       "    <tr>\n",
       "      <th>2</th>\n",
       "      <td>127488</td>\n",
       "      <td>18760103</td>\n",
       "      <td>0.3</td>\n",
       "      <td>0</td>\n",
       "    </tr>\n",
       "    <tr>\n",
       "      <th>3</th>\n",
       "      <td>127488</td>\n",
       "      <td>18760104</td>\n",
       "      <td>-5.8</td>\n",
       "      <td>0</td>\n",
       "    </tr>\n",
       "    <tr>\n",
       "      <th>4</th>\n",
       "      <td>127488</td>\n",
       "      <td>18760105</td>\n",
       "      <td>-9.8</td>\n",
       "      <td>0</td>\n",
       "    </tr>\n",
       "  </tbody>\n",
       "</table>\n",
       "</div>"
      ],
      "text/plain": [
       "    SOUID      DATE   TG  Q_TG\n",
       "0  127488  18760101  2.2     0\n",
       "1  127488  18760102  2.5     0\n",
       "2  127488  18760103  0.3     0\n",
       "3  127488  18760104 -5.8     0\n",
       "4  127488  18760105 -9.8     0"
      ]
     },
     "execution_count": 7,
     "metadata": {},
     "output_type": "execute_result"
    }
   ],
   "source": [
    "# convert the temperature into unit of 1°C \n",
    "df['TG'] = df['TG']/10\n",
    "df.head()"
   ]
  },
  {
   "cell_type": "markdown",
   "metadata": {},
   "source": [
    "**The temperature T in Kelvin (K) is equal to the temperature T in degrees Celsius (°C) plus 273.15:**\n",
    "\n",
    "$T(K) = T(°C) + 273.15$"
   ]
  },
  {
   "cell_type": "code",
   "execution_count": 8,
   "metadata": {},
   "outputs": [
    {
     "data": {
      "text/html": [
       "<div>\n",
       "<style scoped>\n",
       "    .dataframe tbody tr th:only-of-type {\n",
       "        vertical-align: middle;\n",
       "    }\n",
       "\n",
       "    .dataframe tbody tr th {\n",
       "        vertical-align: top;\n",
       "    }\n",
       "\n",
       "    .dataframe thead th {\n",
       "        text-align: right;\n",
       "    }\n",
       "</style>\n",
       "<table border=\"1\" class=\"dataframe\">\n",
       "  <thead>\n",
       "    <tr style=\"text-align: right;\">\n",
       "      <th></th>\n",
       "      <th>SOUID</th>\n",
       "      <th>DATE</th>\n",
       "      <th>TG</th>\n",
       "      <th>Q_TG</th>\n",
       "    </tr>\n",
       "  </thead>\n",
       "  <tbody>\n",
       "    <tr>\n",
       "      <th>0</th>\n",
       "      <td>127488</td>\n",
       "      <td>18760101</td>\n",
       "      <td>275.35</td>\n",
       "      <td>0</td>\n",
       "    </tr>\n",
       "    <tr>\n",
       "      <th>1</th>\n",
       "      <td>127488</td>\n",
       "      <td>18760102</td>\n",
       "      <td>275.65</td>\n",
       "      <td>0</td>\n",
       "    </tr>\n",
       "    <tr>\n",
       "      <th>2</th>\n",
       "      <td>127488</td>\n",
       "      <td>18760103</td>\n",
       "      <td>273.45</td>\n",
       "      <td>0</td>\n",
       "    </tr>\n",
       "    <tr>\n",
       "      <th>3</th>\n",
       "      <td>127488</td>\n",
       "      <td>18760104</td>\n",
       "      <td>267.35</td>\n",
       "      <td>0</td>\n",
       "    </tr>\n",
       "    <tr>\n",
       "      <th>4</th>\n",
       "      <td>127488</td>\n",
       "      <td>18760105</td>\n",
       "      <td>263.35</td>\n",
       "      <td>0</td>\n",
       "    </tr>\n",
       "  </tbody>\n",
       "</table>\n",
       "</div>"
      ],
      "text/plain": [
       "    SOUID      DATE      TG  Q_TG\n",
       "0  127488  18760101  275.35     0\n",
       "1  127488  18760102  275.65     0\n",
       "2  127488  18760103  273.45     0\n",
       "3  127488  18760104  267.35     0\n",
       "4  127488  18760105  263.35     0"
      ]
     },
     "execution_count": 8,
     "metadata": {},
     "output_type": "execute_result"
    }
   ],
   "source": [
    "# convert the temperature into Kelvin \n",
    "# (because otherwise it will through an error calculating the percentage change (must be positive))\n",
    "df['TG'] = df['TG'] + 273.15\n",
    "df.head()"
   ]
  },
  {
   "cell_type": "markdown",
   "metadata": {},
   "source": [
    "### Format the date column to datetime \n",
    "How to calculate with timestamps?\n",
    "- 1st Jan 1970 is the zero timestamp (when the first Linux System was launched?)\n",
    "- pandas is using integers for the timestamps internally"
   ]
  },
  {
   "cell_type": "code",
   "execution_count": 9,
   "metadata": {},
   "outputs": [
    {
     "data": {
      "text/html": [
       "<div>\n",
       "<style scoped>\n",
       "    .dataframe tbody tr th:only-of-type {\n",
       "        vertical-align: middle;\n",
       "    }\n",
       "\n",
       "    .dataframe tbody tr th {\n",
       "        vertical-align: top;\n",
       "    }\n",
       "\n",
       "    .dataframe thead th {\n",
       "        text-align: right;\n",
       "    }\n",
       "</style>\n",
       "<table border=\"1\" class=\"dataframe\">\n",
       "  <thead>\n",
       "    <tr style=\"text-align: right;\">\n",
       "      <th></th>\n",
       "      <th>SOUID</th>\n",
       "      <th>DATE</th>\n",
       "      <th>TG</th>\n",
       "      <th>Q_TG</th>\n",
       "    </tr>\n",
       "    <tr>\n",
       "      <th>DATE</th>\n",
       "      <th></th>\n",
       "      <th></th>\n",
       "      <th></th>\n",
       "      <th></th>\n",
       "    </tr>\n",
       "  </thead>\n",
       "  <tbody>\n",
       "    <tr>\n",
       "      <th>1876-01-01</th>\n",
       "      <td>127488</td>\n",
       "      <td>18760101</td>\n",
       "      <td>275.35</td>\n",
       "      <td>0</td>\n",
       "    </tr>\n",
       "    <tr>\n",
       "      <th>1876-01-02</th>\n",
       "      <td>127488</td>\n",
       "      <td>18760102</td>\n",
       "      <td>275.65</td>\n",
       "      <td>0</td>\n",
       "    </tr>\n",
       "    <tr>\n",
       "      <th>1876-01-03</th>\n",
       "      <td>127488</td>\n",
       "      <td>18760103</td>\n",
       "      <td>273.45</td>\n",
       "      <td>0</td>\n",
       "    </tr>\n",
       "    <tr>\n",
       "      <th>1876-01-04</th>\n",
       "      <td>127488</td>\n",
       "      <td>18760104</td>\n",
       "      <td>267.35</td>\n",
       "      <td>0</td>\n",
       "    </tr>\n",
       "    <tr>\n",
       "      <th>1876-01-05</th>\n",
       "      <td>127488</td>\n",
       "      <td>18760105</td>\n",
       "      <td>263.35</td>\n",
       "      <td>0</td>\n",
       "    </tr>\n",
       "  </tbody>\n",
       "</table>\n",
       "</div>"
      ],
      "text/plain": [
       "             SOUID      DATE      TG  Q_TG\n",
       "DATE                                      \n",
       "1876-01-01  127488  18760101  275.35     0\n",
       "1876-01-02  127488  18760102  275.65     0\n",
       "1876-01-03  127488  18760103  273.45     0\n",
       "1876-01-04  127488  18760104  267.35     0\n",
       "1876-01-05  127488  18760105  263.35     0"
      ]
     },
     "execution_count": 9,
     "metadata": {},
     "output_type": "execute_result"
    }
   ],
   "source": [
    "# format \"DATE\" column to datetime and set it as index \n",
    "df.set_index(pd.to_datetime(df['DATE'], format='%Y%m%d'), inplace=True)\n",
    "df.head()"
   ]
  },
  {
   "cell_type": "code",
   "execution_count": 10,
   "metadata": {},
   "outputs": [
    {
     "data": {
      "text/plain": [
       "<matplotlib.axes._subplots.AxesSubplot at 0x1a1f4b7b50>"
      ]
     },
     "execution_count": 10,
     "metadata": {},
     "output_type": "execute_result"
    },
    {
     "data": {
      "image/png": "[encoded data removed]",
      "text/plain": [
       "<Figure size 432x288 with 1 Axes>"
      ]
     },
     "metadata": {
      "needs_background": "light"
     },
     "output_type": "display_data"
    }
   ],
   "source": [
    "# plot the raw temperature data\n",
    "df['TG'].plot()"
   ]
  },
  {
   "cell_type": "code",
   "execution_count": 11,
   "metadata": {},
   "outputs": [
    {
     "data": {
      "text/plain": [
       "<matplotlib.axes._subplots.AxesSubplot at 0x1a1f86eb90>"
      ]
     },
     "execution_count": 11,
     "metadata": {},
     "output_type": "execute_result"
    },
    {
     "data": {
      "image/png": "[encoded data removed]",
      "text/plain": [
       "<Figure size 432x288 with 1 Axes>"
      ]
     },
     "metadata": {
      "needs_background": "light"
     },
     "output_type": "display_data"
    }
   ],
   "source": [
    "# zoom in the outlier area:\n",
    "df.loc['1945-01-01':'1945-12-31', 'TG'].plot() # may to november 1945 the same value"
   ]
  },
  {
   "cell_type": "markdown",
   "metadata": {},
   "source": [
    "### Day-dependent interpolation\n",
    "- to fill the missing values (-9999 (-999.9 in C, -726.75 in K) was used as NaN values)"
   ]
  },
  {
   "cell_type": "code",
   "execution_count": 12,
   "metadata": {},
   "outputs": [
    {
     "name": "stdout",
     "output_type": "stream",
     "text": [
      "             SOUID      DATE      TG  Q_TG\n",
      "DATE                                      \n",
      "1945-04-25  127488  19450425  284.65     9\n",
      "1945-04-26  127488  19450426  286.55     9\n",
      "1945-04-27  127488  19450427  285.45     9\n",
      "1945-04-28  127488  19450428  284.30     9\n",
      "1945-04-29  127488  19450429  283.25     9\n",
      "1945-04-30  127488  19450430  284.45     9\n",
      "1945-05-01  127488  19450501  286.75     9\n",
      "1945-05-02  127488  19450502  287.20     9\n",
      "1945-05-03  127488  19450503  283.65     9\n",
      "1945-05-04  127488  19450504  283.45     9\n",
      "1945-05-05  127488  19450505  283.50     9\n",
      "1945-05-06  127488  19450506  284.15     9\n",
      "1945-05-07  127488  19450507  284.05     9\n",
      "1945-05-08  127488  19450508  282.60     9\n",
      "1945-05-09  127488  19450509  283.60     9\n",
      "1945-05-10  127488  19450510  286.00     9\n",
      "1945-05-11  127488  19450511  286.65     9\n",
      "1945-05-12  127488  19450512  288.65     9\n",
      "1945-05-13  127488  19450513  291.00     9\n",
      "1945-05-14  127488  19450514  289.20     9\n",
      "1945-05-15  127488  19450515  281.15     9\n"
     ]
    }
   ],
   "source": [
    "df_year_1945 = df.loc['1945-01-01':'1945-12-31']\n",
    "df_year_1944 = df.loc['1944-01-01':'1944-12-31']\n",
    "df_year_1946 = df.loc['1946-01-01':'1946-12-31']\n",
    "\n",
    "for row in df_year_1945.itertuples():\n",
    "    temp = row[3]\n",
    "    if temp == -726.75:\n",
    "        temp_44 = df_year_1944.at[(row.Index - pd.DateOffset(years=1), 'TG')]\n",
    "        temp_46 = df_year_1946.at[(row.Index + pd.DateOffset(years=1), 'TG')]\n",
    "        mean = (temp_44 + temp_46) / 2\n",
    "        df.at[row.Index, 'TG'] = mean\n",
    "\n",
    "print(df.loc['1945-04-25':'1945-05-15'])"
   ]
  },
  {
   "cell_type": "code",
   "execution_count": 13,
   "metadata": {},
   "outputs": [],
   "source": [
    "# other solution specific to the subset of missing values:\n",
    "# df2 = df[df[\"TG\"] == -9999]\n",
    "# df2[\"TG\"] = (df[\"1944-04-25\" : \"1944-11-05\"][\"TG\"].array + df[\"1946-04-25\" : \"1946-11-05\"][\"TG\"].array)/2\n",
    "# df[df[\"TG\"] == -9999] = df2"
   ]
  },
  {
   "cell_type": "code",
   "execution_count": 14,
   "metadata": {},
   "outputs": [
    {
     "data": {
      "text/plain": [
       "<matplotlib.axes._subplots.AxesSubplot at 0x1a1e6b1750>"
      ]
     },
     "execution_count": 14,
     "metadata": {},
     "output_type": "execute_result"
    },
    {
     "data": {
      "image/png": "[encoded data removed]",
      "text/plain": [
       "<Figure size 432x288 with 1 Axes>"
      ]
     },
     "metadata": {
      "needs_background": "light"
     },
     "output_type": "display_data"
    }
   ],
   "source": [
    "df['TG'].plot()"
   ]
  },
  {
   "cell_type": "markdown",
   "metadata": {},
   "source": [
    "### Decomposition:\n",
    "y = trend + variance change + seasonality + X + noise \n"
   ]
  },
  {
   "cell_type": "markdown",
   "metadata": {},
   "source": [
    "### Differential: Trend"
   ]
  },
  {
   "cell_type": "code",
   "execution_count": 15,
   "metadata": {},
   "outputs": [],
   "source": [
    "df['diff'] = df['TG'].diff() # differential\n",
    "# just the difference between the previous and the current count"
   ]
  },
  {
   "cell_type": "code",
   "execution_count": 16,
   "metadata": {},
   "outputs": [
    {
     "data": {
      "text/plain": [
       "0.00034275758895601006"
      ]
     },
     "execution_count": 16,
     "metadata": {},
     "output_type": "execute_result"
    }
   ],
   "source": [
    "df['diff'].mean()"
   ]
  },
  {
   "cell_type": "code",
   "execution_count": 17,
   "metadata": {},
   "outputs": [
    {
     "data": {
      "text/plain": [
       "<matplotlib.axes._subplots.AxesSubplot at 0x1a204c6190>"
      ]
     },
     "execution_count": 17,
     "metadata": {},
     "output_type": "execute_result"
    },
    {
     "data": {
      "image/png": "[encoded data removed]",
      "text/plain": [
       "<Figure size 432x288 with 1 Axes>"
      ]
     },
     "metadata": {
      "needs_background": "light"
     },
     "output_type": "display_data"
    }
   ],
   "source": [
    "df['diff'].plot()"
   ]
  },
  {
   "cell_type": "markdown",
   "metadata": {},
   "source": [
    "### Percentage change\n",
    "removes trend and variance change"
   ]
  },
  {
   "cell_type": "code",
   "execution_count": 18,
   "metadata": {
    "scrolled": true
   },
   "outputs": [
    {
     "data": {
      "text/html": [
       "<div>\n",
       "<style scoped>\n",
       "    .dataframe tbody tr th:only-of-type {\n",
       "        vertical-align: middle;\n",
       "    }\n",
       "\n",
       "    .dataframe tbody tr th {\n",
       "        vertical-align: top;\n",
       "    }\n",
       "\n",
       "    .dataframe thead th {\n",
       "        text-align: right;\n",
       "    }\n",
       "</style>\n",
       "<table border=\"1\" class=\"dataframe\">\n",
       "  <thead>\n",
       "    <tr style=\"text-align: right;\">\n",
       "      <th></th>\n",
       "      <th>SOUID</th>\n",
       "      <th>DATE</th>\n",
       "      <th>TG</th>\n",
       "      <th>Q_TG</th>\n",
       "      <th>diff</th>\n",
       "      <th>pct</th>\n",
       "    </tr>\n",
       "    <tr>\n",
       "      <th>DATE</th>\n",
       "      <th></th>\n",
       "      <th></th>\n",
       "      <th></th>\n",
       "      <th></th>\n",
       "      <th></th>\n",
       "      <th></th>\n",
       "    </tr>\n",
       "  </thead>\n",
       "  <tbody>\n",
       "    <tr>\n",
       "      <th>1876-01-01</th>\n",
       "      <td>127488</td>\n",
       "      <td>18760101</td>\n",
       "      <td>275.35</td>\n",
       "      <td>0</td>\n",
       "      <td>NaN</td>\n",
       "      <td>NaN</td>\n",
       "    </tr>\n",
       "    <tr>\n",
       "      <th>1876-01-02</th>\n",
       "      <td>127488</td>\n",
       "      <td>18760102</td>\n",
       "      <td>275.65</td>\n",
       "      <td>0</td>\n",
       "      <td>0.3</td>\n",
       "      <td>0.001090</td>\n",
       "    </tr>\n",
       "    <tr>\n",
       "      <th>1876-01-03</th>\n",
       "      <td>127488</td>\n",
       "      <td>18760103</td>\n",
       "      <td>273.45</td>\n",
       "      <td>0</td>\n",
       "      <td>-2.2</td>\n",
       "      <td>-0.007981</td>\n",
       "    </tr>\n",
       "    <tr>\n",
       "      <th>1876-01-04</th>\n",
       "      <td>127488</td>\n",
       "      <td>18760104</td>\n",
       "      <td>267.35</td>\n",
       "      <td>0</td>\n",
       "      <td>-6.1</td>\n",
       "      <td>-0.022308</td>\n",
       "    </tr>\n",
       "    <tr>\n",
       "      <th>1876-01-05</th>\n",
       "      <td>127488</td>\n",
       "      <td>18760105</td>\n",
       "      <td>263.35</td>\n",
       "      <td>0</td>\n",
       "      <td>-4.0</td>\n",
       "      <td>-0.014962</td>\n",
       "    </tr>\n",
       "  </tbody>\n",
       "</table>\n",
       "</div>"
      ],
      "text/plain": [
       "             SOUID      DATE      TG  Q_TG  diff       pct\n",
       "DATE                                                      \n",
       "1876-01-01  127488  18760101  275.35     0   NaN       NaN\n",
       "1876-01-02  127488  18760102  275.65     0   0.3  0.001090\n",
       "1876-01-03  127488  18760103  273.45     0  -2.2 -0.007981\n",
       "1876-01-04  127488  18760104  267.35     0  -6.1 -0.022308\n",
       "1876-01-05  127488  18760105  263.35     0  -4.0 -0.014962"
      ]
     },
     "execution_count": 18,
     "metadata": {},
     "output_type": "execute_result"
    }
   ],
   "source": [
    "df['pct'] = df['TG'].pct_change()\n",
    "df.head()"
   ]
  },
  {
   "cell_type": "code",
   "execution_count": 19,
   "metadata": {},
   "outputs": [
    {
     "data": {
      "text/plain": [
       "3.684896937016169e-05"
      ]
     },
     "execution_count": 19,
     "metadata": {},
     "output_type": "execute_result"
    }
   ],
   "source": [
    "df['pct'].mean()"
   ]
  },
  {
   "cell_type": "code",
   "execution_count": 20,
   "metadata": {},
   "outputs": [
    {
     "data": {
      "text/plain": [
       "<matplotlib.axes._subplots.AxesSubplot at 0x1a1de9c250>"
      ]
     },
     "execution_count": 20,
     "metadata": {},
     "output_type": "execute_result"
    },
    {
     "data": {
      "image/png": "[encoded data removed]",
      "text/plain": [
       "<Figure size 432x288 with 1 Axes>"
      ]
     },
     "metadata": {
      "needs_background": "light"
     },
     "output_type": "display_data"
    }
   ],
   "source": [
    "df['pct'].plot()"
   ]
  },
  {
   "cell_type": "markdown",
   "metadata": {},
   "source": [
    "### Seasonality"
   ]
  },
  {
   "cell_type": "code",
   "execution_count": 21,
   "metadata": {},
   "outputs": [
    {
     "data": {
      "text/plain": [
       "(             SOUID      DATE      TG  Q_TG  diff       pct  month\n",
       " DATE                                                             \n",
       " 1876-01-01  127488  18760101  275.35     0   NaN       NaN      1\n",
       " 1876-01-02  127488  18760102  275.65     0   0.3  0.001090      1\n",
       " 1876-01-03  127488  18760103  273.45     0  -2.2 -0.007981      1\n",
       " 1876-01-04  127488  18760104  267.35     0  -6.1 -0.022308      1\n",
       " 1876-01-05  127488  18760105  263.35     0  -4.0 -0.014962      1,\n",
       "              SOUID      DATE      TG  Q_TG  diff       pct  month\n",
       " DATE                                                             \n",
       " 2020-07-27  111448  20200727  293.85     0   2.0  0.006853      7\n",
       " 2020-07-28  111448  20200728  296.15     0   2.3  0.007827      7\n",
       " 2020-07-29  111448  20200729  292.35     0  -3.8 -0.012831      7\n",
       " 2020-07-30  111448  20200730  291.35     0  -1.0 -0.003421      7\n",
       " 2020-07-31  111448  20200731  293.45     0   2.1  0.007208      7)"
      ]
     },
     "execution_count": 21,
     "metadata": {},
     "output_type": "execute_result"
    }
   ],
   "source": [
    "# create month column from DATETIME index \n",
    "df['month'] = df.index.month\n",
    "df.head(), df.tail()"
   ]
  },
  {
   "cell_type": "code",
   "execution_count": 22,
   "metadata": {},
   "outputs": [
    {
     "data": {
      "text/plain": [
       "<matplotlib.axes._subplots.AxesSubplot at 0x1a2274f750>"
      ]
     },
     "execution_count": 22,
     "metadata": {},
     "output_type": "execute_result"
    },
    {
     "data": {
      "image/png": "[encoded data removed]",
      "text/plain": [
       "<Figure size 432x288 with 1 Axes>"
      ]
     },
     "metadata": {
      "needs_background": "light"
     },
     "output_type": "display_data"
    }
   ],
   "source": [
    "# monthly means\n",
    "mm = df.groupby('month')['pct'].mean()\n",
    "mm.plot.bar()"
   ]
  },
  {
   "cell_type": "code",
   "execution_count": 23,
   "metadata": {},
   "outputs": [
    {
     "data": {
      "text/plain": [
       "(52808, 7)"
      ]
     },
     "execution_count": 23,
     "metadata": {},
     "output_type": "execute_result"
    }
   ],
   "source": [
    "# we need a Series that is as long as our df\n",
    "df.shape"
   ]
  },
  {
   "cell_type": "code",
   "execution_count": 24,
   "metadata": {},
   "outputs": [
    {
     "data": {
      "text/plain": [
       "(12,)"
      ]
     },
     "execution_count": 24,
     "metadata": {},
     "output_type": "execute_result"
    }
   ],
   "source": [
    "mm.shape"
   ]
  },
  {
   "cell_type": "code",
   "execution_count": 25,
   "metadata": {
    "scrolled": false
   },
   "outputs": [
    {
     "ename": "IndentationError",
     "evalue": "unexpected indent (<ipython-input-25-27a84fcfd4c6>, line 6)",
     "output_type": "error",
     "traceback": [
      "\u001b[0;36m  File \u001b[0;32m\"<ipython-input-25-27a84fcfd4c6>\"\u001b[0;36m, line \u001b[0;32m6\u001b[0m\n\u001b[0;31m    for col[i] == i # get the value of the row\u001b[0m\n\u001b[0m    ^\u001b[0m\n\u001b[0;31mIndentationError\u001b[0m\u001b[0;31m:\u001b[0m unexpected indent\n"
     ]
    }
   ],
   "source": [
    "# cut off the last rows of the dataframe (after XX-12-31)\n",
    "# to be able to create month_means column\n",
    "\n",
    "# insert monthly mean value to the according month in the DF\n",
    "# for i len(data frame col):\n",
    "    for col[i] == i # get the value of the row\n",
    "    access first (0) element in the list of mm\n",
    "    insert this value in new column monthly means\n",
    "    increase the value by 1 \n",
    "\n",
    "#df_year_1945 = df.loc['1945-01-01':'1945-12-31']\n",
    "df_cut_2019 = df.loc[:'2019-12-31']\n",
    "df_cut_2019.head(20)"
   ]
  },
  {
   "cell_type": "code",
   "execution_count": null,
   "metadata": {},
   "outputs": [],
   "source": [
    "df_cut_2019.shape"
   ]
  },
  {
   "cell_type": "code",
   "execution_count": null,
   "metadata": {},
   "outputs": [],
   "source": [
    "df['month_means'] = list(mm) * 12"
   ]
  },
  {
   "cell_type": "code",
   "execution_count": null,
   "metadata": {},
   "outputs": [],
   "source": [
    "df['detrend_div'] = df['pct'] / df['month_means']\n",
    "df['detrend_div'].plot() # identifies outliers\n",
    "df['detrend_div'].mean()\n",
    "df['detrend_div'].hist(bins=20)#"
   ]
  },
  {
   "cell_type": "code",
   "execution_count": null,
   "metadata": {},
   "outputs": [],
   "source": [
    "df['detrend_sub'] = df['pct'] - df['month_means']\n",
    "df['detrend_sub'].hist(bins=20) # subtraction is more robust"
   ]
  },
  {
   "cell_type": "code",
   "execution_count": null,
   "metadata": {},
   "outputs": [],
   "source": [
    "\n",
    "from statsmodels.tsa.seasonal import seasonal_decompose"
   ]
  },
  {
   "cell_type": "code",
   "execution_count": null,
   "metadata": {},
   "outputs": [],
   "source": [
    "# additive == diff\n",
    "x = seasonal_decompose(df['TG'])\n",
    "plot = x.plot() "
   ]
  },
  {
   "cell_type": "code",
   "execution_count": null,
   "metadata": {},
   "outputs": [],
   "source": [
    "# # multiplicative == diff\n",
    "# x2 = seasonal_decompose(df['TG'], model='multiplicative')\n",
    "# plot2 = x2.plot()\n",
    "# # Multiplicative seasonality is not appropriate for zero and negative values"
   ]
  },
  {
   "cell_type": "markdown",
   "metadata": {},
   "source": [
    "- the model consists of seasonality and percentage growth per month\n",
    "- the decompased data is a timerseries too!\n",
    "- we derived the monthly means from our model - we have at least 12 parameters!\n",
    "\n"
   ]
  },
  {
   "cell_type": "markdown",
   "metadata": {},
   "source": [
    "### Decomposing and Recompositing !\n",
    "*most of the time, you will have to decompose something and then recompse it at the end*"
   ]
  },
  {
   "cell_type": "markdown",
   "metadata": {},
   "source": [
    "train model and raw data and decomposed data -> the mean squared error will tell you what to choose"
   ]
  },
  {
   "cell_type": "markdown",
   "metadata": {},
   "source": [
    "### How to deal with the 29th of feb? 366 vs 365 days"
   ]
  },
  {
   "cell_type": "code",
   "execution_count": null,
   "metadata": {},
   "outputs": [],
   "source": []
  }
 ],
 "metadata": {
  "kernelspec": {
   "display_name": "Python 3",
   "language": "python",
   "name": "python3"
  },
  "language_info": {
   "codemirror_mode": {
    "name": "ipython",
    "version": 3
   },
   "file_extension": ".py",
   "mimetype": "text/x-python",
   "name": "python",
   "nbconvert_exporter": "python",
   "pygments_lexer": "ipython3",
   "version": "3.7.6"
  }
 },
 "nbformat": 4,
 "nbformat_minor": 4
}
