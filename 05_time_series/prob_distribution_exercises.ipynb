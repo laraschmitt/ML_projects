{
 "cells": [
  {
   "cell_type": "markdown",
   "metadata": {},
   "source": [
    "★ **Challenge: Conversion Rate**\n",
    "\n",
    "In a web shop, once a visitor starts placing items in the basket, there is a *conversion rate* of 0.3 (i.e. the probability that they will actually buy something).\n",
    "- Given 10 visitors with a basket, what is the probability that at least one will make a purchase? (cumlative probability of the all the events) \n",
    "- What is the probability that exactly one will make a purchase? (easier to solve)"
   ]
  },
  {
   "cell_type": "markdown",
   "metadata": {},
   "source": [
    "- find the distribution that fits the data  (for the models you usually only have to know the distribution for your data and then e.g. you plug it into a function )\n",
    "- calculate the probability"
   ]
  },
  {
   "cell_type": "code",
   "execution_count": 4,
   "metadata": {},
   "outputs": [],
   "source": [
    "import numpy as np\n",
    "from scipy import stats\n",
    "import matplotlib.pyplot as plt"
   ]
  },
  {
   "cell_type": "code",
   "execution_count": 5,
   "metadata": {},
   "outputs": [
    {
     "data": {
      "image/png": "[encoded data removed]",
      "text/plain": [
       "<Figure size 432x288 with 1 Axes>"
      ]
     },
     "metadata": {
      "needs_background": "light"
     },
     "output_type": "display_data"
    }
   ],
   "source": [
    "# distribution = binomial distribution (= flipping a coin (two outcomes) but multiple times)\n",
    "# Defined by: The probability of observing a positive outcome (p) and the number of draws (n).\n",
    "# Usage: Predicting the chances of occurence of bernoulli distributed random variables in multiple draws\n",
    "\n",
    "# if you have 0 and 1, the 1 is the success\n",
    "p = 0.3 # conversion rate of 0.3\n",
    "n = 10 # 10 visitors in the web ship\n",
    "k = list(range(n+1))\n",
    "y = stats.binom.pmf(k, p=p, n=n)\n",
    "\n",
    "plt.bar(k, y)\n",
    "plt.title(f'PMF of a Binomial distribution with p={p} and n={n}', fontsize=15)\n",
    "plt.xlabel('Nr. of Successes (Tails)', fontsize=15)\n",
    "plt.ylabel('Probability', fontsize=15)\n",
    "plt.xticks(k + [10])\n",
    "plt.xlim(-1, 11)\n",
    "plt.ylim(0, 1);"
   ]
  },
  {
   "cell_type": "code",
   "execution_count": 41,
   "metadata": {},
   "outputs": [
    {
     "data": {
      "text/plain": [
       "0.028247524900000005"
      ]
     },
     "execution_count": 41,
     "metadata": {},
     "output_type": "execute_result"
    }
   ],
   "source": [
    "# prob, that no one buys anything:\n",
    "y = stats.binom.pmf(0, p=0.3, n=10)\n",
    "y # 2.8%"
   ]
  },
  {
   "cell_type": "code",
   "execution_count": 39,
   "metadata": {},
   "outputs": [
    {
     "data": {
      "text/plain": [
       "0.12106082100000018"
      ]
     },
     "execution_count": 39,
     "metadata": {},
     "output_type": "execute_result"
    }
   ],
   "source": [
    "# probability that exactly one will make a purchase\n",
    "y = stats.binom.pmf(1, p=0.3, n=10)\n",
    "y "
   ]
  },
  {
   "cell_type": "code",
   "execution_count": 54,
   "metadata": {},
   "outputs": [
    {
     "data": {
      "text/plain": [
       "0.1493083459"
      ]
     },
     "execution_count": 54,
     "metadata": {},
     "output_type": "execute_result"
    }
   ],
   "source": [
    "# at laest one\n",
    "# cdf instead pmf: then you can put in: up to 1\n",
    "y = stats.binom.cdf(1, p=0.3, n=10)\n",
    "y"
   ]
  },
  {
   "cell_type": "code",
   "execution_count": 48,
   "metadata": {},
   "outputs": [
    {
     "name": "stdout",
     "output_type": "stream",
     "text": [
      "0.12106082100000018\n",
      "0.2334744405\n",
      "0.26682793200000016\n",
      "0.20012094900000013\n",
      "0.10291934520000007\n",
      "0.03675690899999999\n",
      "0.009001692000000002\n",
      "0.0014467004999999982\n",
      "0.00013778100000000015\n",
      "5.904899999999995e-06\n"
     ]
    },
    {
     "data": {
      "text/plain": [
       "0.9717524751000004"
      ]
     },
     "execution_count": 48,
     "metadata": {},
     "output_type": "execute_result"
    }
   ],
   "source": [
    "# for at least one: loop through it and sum up probabilities:\n",
    "\n",
    "list_sums = []\n",
    "for i in range(1,11):\n",
    "    y = stats.binom.pmf(i, p=0.3, n=10)\n",
    "    print(y)\n",
    "    list_sums.append(y)\n",
    "\n",
    "np.sum(list_sums)"
   ]
  },
  {
   "cell_type": "markdown",
   "metadata": {},
   "source": [
    "★ **Challenge: Customer Service**\n",
    "\n",
    "The customer service of a retail company receives **on average 12.1** support requests per hour.\n",
    "- What is the probability that they will receive exactly 8 requests per hour?\n",
    "- What is the probability that there will be 15 or more requests per hour?"
   ]
  },
  {
   "cell_type": "code",
   "execution_count": null,
   "metadata": {},
   "outputs": [],
   "source": [
    "# need to use Poisson Distribution\n",
    "# scipy.stats documentation\n",
    "# mu is lambda\n",
    "# in this task 12.1 is lambda in the poisson function\n",
    "k = if k is one value and not a list then it will return the probability for exactly that valeub\n",
    "mu = \n",
    "log = default\n",
    "\n",
    "# probability of a support request per hour: 0.121\n",
    "stats.poission.cmf()"
   ]
  },
  {
   "cell_type": "markdown",
   "metadata": {},
   "source": [
    "# solution>\n",
    "..exactly eight requests per hour: 6.34%\n",
    "\n",
    "...15 or more requests:  23,71%"
   ]
  },
  {
   "cell_type": "code",
   "execution_count": null,
   "metadata": {},
   "outputs": [],
   "source": []
  }
 ],
 "metadata": {
  "kernelspec": {
   "display_name": "Python 3",
   "language": "python",
   "name": "python3"
  },
  "language_info": {
   "codemirror_mode": {
    "name": "ipython",
    "version": 3
   },
   "file_extension": ".py",
   "mimetype": "text/x-python",
   "name": "python",
   "nbconvert_exporter": "python",
   "pygments_lexer": "ipython3",
   "version": "3.7.6"
  }
 },
 "nbformat": 4,
 "nbformat_minor": 4
}
