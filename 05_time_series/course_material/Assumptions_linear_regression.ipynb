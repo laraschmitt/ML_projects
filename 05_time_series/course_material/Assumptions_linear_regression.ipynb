{
 "cells": [
  {
   "cell_type": "markdown",
   "metadata": {},
   "source": [
    "### 1) Linear: y = mx +c\n",
    "- linear?\n",
    "- additive?\n",
    "- if not, transform features!\n",
    "\n",
    "y = m1mx1 + m2mx2 +c"
   ]
  },
  {
   "cell_type": "code",
   "execution_count": 1,
   "metadata": {},
   "outputs": [
    {
     "ename": "SyntaxError",
     "evalue": "invalid syntax (<ipython-input-1-889a1a74bbae>, line 1)",
     "output_type": "error",
     "traceback": [
      "\u001b[0;36m  File \u001b[0;32m\"<ipython-input-1-889a1a74bbae>\"\u001b[0;36m, line \u001b[0;32m1\u001b[0m\n\u001b[0;31m    <img src=\"../img/plotly_logo.png\" align=\"left\" alt=\"bokeh_logo\" width=\"200/\"/>\u001b[0m\n\u001b[0m    ^\u001b[0m\n\u001b[0;31mSyntaxError\u001b[0m\u001b[0;31m:\u001b[0m invalid syntax\n"
     ]
    }
   ],
   "source": [
    "<img src=\"../img/plotly_logo.png\" align=\"left\" alt=\"bokeh_logo\" width=\"200/\"/>"
   ]
  },
  {
   "cell_type": "markdown",
   "metadata": {},
   "source": [
    "### 2) Homoskedasticity\n",
    "\n",
    "Heteroskedasticity:\n",
    "- variance of x increases with x\n",
    "- residuals get increasingly large, model increasingly wrong\n",
    "- transform with Heteroskediastic-correct to get homoskedastic data"
   ]
  },
  {
   "cell_type": "markdown",
   "metadata": {},
   "source": [
    "### 3) Normal distribution of errors"
   ]
  },
  {
   "cell_type": "markdown",
   "metadata": {},
   "source": [
    "- normal distribution of residuals\n",
    "- less important as data size  increases because of the Central Limit Theorem (CLT)\n",
    "- Q-Q plot *(out of a histogram of the data)*\n",
    "   - check the distribution of the actual data\n",
    "   - against distribution of an ideal (Gaussian) population\n",
    "   \n",
    "if s-curve shape: bad (violating the assumption)"
   ]
  },
  {
   "cell_type": "markdown",
   "metadata": {},
   "source": [
    "### 4) Multikollinea...\n",
    "- features should be independent\n",
    "- check with correlation matrix and remove the redundant features (check which one works better in the model first)"
   ]
  },
  {
   "cell_type": "markdown",
   "metadata": {},
   "source": [
    "### Dependence and stationarity\n",
    "Weak dependence\n",
    "- the correlation between two features, x_t and x_t+h approaches zero as h (the lag) increases, e.g. the temp. today is dependent on the temp. from yesterday)\n",
    "- this is called asymptotic uncorrelation\n",
    "\n",
    "Weak stationarity\n",
    "- probability distribution is stable over time\n",
    "- expectation and variance at time t-z->t == t-z+h -> t+h, where h is randomly chosen\n",
    "- weak because these factors don't have to be **identical**"
   ]
  },
  {
   "cell_type": "code",
   "execution_count": null,
   "metadata": {},
   "outputs": [],
   "source": []
  }
 ],
 "metadata": {
  "kernelspec": {
   "display_name": "Python 3",
   "language": "python",
   "name": "python3"
  },
  "language_info": {
   "codemirror_mode": {
    "name": "ipython",
    "version": 3
   },
   "file_extension": ".py",
   "mimetype": "text/x-python",
   "name": "python",
   "nbconvert_exporter": "python",
   "pygments_lexer": "ipython3",
   "version": "3.7.6"
  }
 },
 "nbformat": 4,
 "nbformat_minor": 4
}
