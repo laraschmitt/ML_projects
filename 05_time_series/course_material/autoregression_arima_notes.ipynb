{
 "cells": [
  {
   "cell_type": "code",
   "execution_count": 1,
   "metadata": {},
   "outputs": [],
   "source": [
    "# remove the monthly mean from each day based on whhich month it is in \n",
    "\n"
   ]
  },
  {
   "cell_type": "code",
   "execution_count": 2,
   "metadata": {},
   "outputs": [],
   "source": [
    "# you can include more than one shift in your prediction as input for the autogression model"
   ]
  },
  {
   "cell_type": "code",
   "execution_count": 3,
   "metadata": {},
   "outputs": [],
   "source": [
    "# how do we actually make predictions?\n",
    "# if i look at daily data, and wanna make a prediction for a whole year\n",
    "\n",
    "# if we wanna predict \n",
    "# we have to seed our model with our own fake data\n",
    "# slightly weird circular intuition about it \n"
   ]
  },
  {
   "cell_type": "code",
   "execution_count": 4,
   "metadata": {},
   "outputs": [],
   "source": [
    "#partial autocorrelation: you don t worry about the  steps in between\n",
    "# does not hold up for weather, that s why you make predictions by incremently adding up\n",
    "\n",
    "# if you want to make predictions for the future if you don t wanna worry about the intervening steps, basic\n",
    "# autocorrelation wo nt do it"
   ]
  },
  {
   "cell_type": "markdown",
   "metadata": {},
   "source": [
    "\n",
    "What is meant by stationarize the series in time series analysis ?\n",
    "\n",
    "You need to make statistical properties such as mean, variance, autocorrelation constant.\n",
    "Time series can be rendered approximately stationary (i.e., \"stationarized\") through the use of mathematical transformations."
   ]
  },
  {
   "cell_type": "markdown",
   "metadata": {},
   "source": [
    "### ARIMA brings 3 ideas together:\n",
    "   1. tweaks how many steps you look back\n",
    "   2. how many times you call `.diff()` (depending on whether the train is linear or polynomial)\n",
    "   3. how large is your moving average window"
   ]
  },
  {
   "cell_type": "markdown",
   "metadata": {},
   "source": [
    "- ARMIMA does the autoregression (the lagging) for us in the model -> we do not have to make a difference between X and y [in the linear autoregression model X were the features]\n"
   ]
  },
  {
   "cell_type": "markdown",
   "metadata": {},
   "source": [
    "in statsmodel, you pass in the training data when you instantiate the model\n",
    "\n",
    "`m = ARMIMA(train, order(= 1, 1, 1))`"
   ]
  },
  {
   "cell_type": "markdown",
   "metadata": {},
   "source": [
    "values in the order argument:\n",
    "    1. number of lags you want to have\n",
    "    2. order of integration (for our climate data = 0 because the warming trend is not strong enough)\n",
    "    3. moving average\n",
    "    \n",
    "    low values in the order argument avoid overfitting!"
   ]
  },
  {
   "cell_type": "markdown",
   "metadata": {},
   "source": [
    "ARIMA output:\n",
    "\n",
    "is a tuple\n",
    "\n",
    "[0] prediction\n",
    "\n",
    "[1] standard error\n",
    "\n",
    "[2] 95% confidence intervall (tells us how reliable the model resut is (values inside the CI can be trusted))"
   ]
  },
  {
   "cell_type": "markdown",
   "metadata": {},
   "source": [
    "ARIMA is done on the residuals (= difference between ypred and ytrue) of each data point"
   ]
  },
  {
   "cell_type": "code",
   "execution_count": 9,
   "metadata": {},
   "outputs": [],
   "source": [
    "# if we wanna predict for one year, then steps in .... = 365"
   ]
  },
  {
   "cell_type": "markdown",
   "metadata": {},
   "source": [
    "### Moving/ Rolling window mean\n",
    "it aggregates short-time flucations!\n",
    "- moves from 1-10\n",
    "- then to 2-11\n",
    "- then to 3-12"
   ]
  },
  {
   "cell_type": "markdown",
   "metadata": {},
   "source": [
    "we are looking at the rate of change -> .diff() creates an **integration** of the original dataset"
   ]
  },
  {
   "cell_type": "markdown",
   "metadata": {},
   "source": [
    "### Trend\n",
    "a polynomial or linear trend violates the stationarity\n",
    "-> the trend has to be FLAT (the mean should not change over time)\n",
    "\n",
    "\n",
    "if the trend is linear/stable, you do NOT need to integrate, e.g. you only call `.diff()` once \n",
    "\n",
    "if the trend is polynomial, you call `.diff().diff()` (second order of integration)"
   ]
  },
  {
   "cell_type": "markdown",
   "metadata": {},
   "source": [
    "### How is .diff() working?\n",
    "it creates a new series of values that subtracts the previous value from the current value"
   ]
  },
  {
   "cell_type": "markdown",
   "metadata": {},
   "source": [
    "RETREND with `cumsum` is the opposite of diff.() "
   ]
  },
  {
   "cell_type": "code",
   "execution_count": 10,
   "metadata": {},
   "outputs": [],
   "source": [
    "# in the climate data: there is no increase in variance => we do not have to treat for heteroskedacity!"
   ]
  },
  {
   "cell_type": "markdown",
   "metadata": {},
   "source": [
    "decomposing: extract trend, seasonality\n",
    "stationorise: means a lot more, after you are done with the decomposing, there s no trend and no seasononalirt left (also not e.g. a second trend, a second seasonality)\n",
    "    \n",
    "some pattern and noise left in the data when its statoniarised "
   ]
  },
  {
   "cell_type": "markdown",
   "metadata": {},
   "source": [
    "Autocorrelation plot\n",
    "- you want to find out if the behaviour is totally random (if there is no information from the past about the future)\n",
    "- if you have a linear trend, the autocorrelation plot looks like this\n",
    "\n",
    "that s why you have to decompose and deseason your data\n",
    "and then do another autocorrelation plot to see if there s short time information available (after some time it becomes random because the noise is accumulating after some time steps)\n",
    "\n",
    "if it has a peak in somewhere - it means that you have seasonality (pattern that repeats every now and then)\n",
    "\n"
   ]
  }
 ],
 "metadata": {
  "kernelspec": {
   "display_name": "Python 3",
   "language": "python",
   "name": "python3"
  },
  "language_info": {
   "codemirror_mode": {
    "name": "ipython",
    "version": 3
   },
   "file_extension": ".py",
   "mimetype": "text/x-python",
   "name": "python",
   "nbconvert_exporter": "python",
   "pygments_lexer": "ipython3",
   "version": "3.7.6"
  }
 },
 "nbformat": 4,
 "nbformat_minor": 4
}
