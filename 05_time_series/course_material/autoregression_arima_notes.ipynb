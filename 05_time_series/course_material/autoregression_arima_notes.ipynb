{
 "cells": [
  {
   "cell_type": "code",
   "execution_count": 1,
   "metadata": {},
   "outputs": [],
   "source": [
    "# remove the monthly mean from each day based on whhich month it is in \n",
    "\n"
   ]
  },
  {
   "cell_type": "code",
   "execution_count": 2,
   "metadata": {},
   "outputs": [],
   "source": [
    "# you can include more than one shift in your prediction as input for the autogression model"
   ]
  },
  {
   "cell_type": "code",
   "execution_count": 3,
   "metadata": {},
   "outputs": [],
   "source": [
    "# how do we actually make predictions?\n",
    "# if i look at daily data, and wanna make a prediction for a whole year\n",
    "\n",
    "# if we wanna predict \n",
    "# we have to seed our model with our own fake data\n",
    "# slightly weird circular intuition about it \n"
   ]
  },
  {
   "cell_type": "code",
   "execution_count": 4,
   "metadata": {},
   "outputs": [],
   "source": [
    "#partial autocorrelation: you don t worry about the  steps in between\n",
    "# does not hold up for weather, that s why you make predictions by incremently adding up\n",
    "\n",
    "# if you want to make predictions for the future if you don t wanna worry about the intervening steps, basic\n",
    "# autocorrelation wo nt do it"
   ]
  },
  {
   "cell_type": "code",
   "execution_count": null,
   "metadata": {},
   "outputs": [],
   "source": []
  },
  {
   "cell_type": "markdown",
   "metadata": {},
   "source": [
    "### ARIMA brings 3 ideas together:\n",
    "   1. tweaks how many steps you look back\n",
    "   2. how many times you call `.diff()` (depending on whether the train is linear or polynomial)\n",
    "   3. how large is your moving average window"
   ]
  },
  {
   "cell_type": "markdown",
   "metadata": {},
   "source": [
    "ARIMA is done on the residuals (= difference between ypred and ytrue) of each data point"
   ]
  },
  {
   "cell_type": "markdown",
   "metadata": {},
   "source": [
    "### Moving/ Rolling window mean\n",
    "it aggregates short-time flucations!\n",
    "- moves from 1-10\n",
    "- then to 2-11\n",
    "- then to 3-12"
   ]
  },
  {
   "cell_type": "markdown",
   "metadata": {},
   "source": [
    "we are looking at the rate of change -> .diff() creates an **integration** of the original dataset"
   ]
  },
  {
   "cell_type": "markdown",
   "metadata": {},
   "source": [
    "### Trend\n",
    "a polynomial or linear trend violates the stationarity\n",
    "-> the trend has to be FLAT (the mean should not change over time)\n",
    "\n",
    "\n",
    "if the trend is linear/stable, you do NOT need to integrate, e.g. you only call `.diff()` once \n",
    "\n",
    "if the trend is polynomial, you call `.diff().diff()` (second order of integration)"
   ]
  },
  {
   "cell_type": "markdown",
   "metadata": {},
   "source": [
    "### How is .diff() working?\n",
    "it creates a new series of values that subtracts the previous value from the current value"
   ]
  },
  {
   "cell_type": "code",
   "execution_count": null,
   "metadata": {},
   "outputs": [],
   "source": []
  }
 ],
 "metadata": {
  "kernelspec": {
   "display_name": "Python 3",
   "language": "python",
   "name": "python3"
  },
  "language_info": {
   "codemirror_mode": {
    "name": "ipython",
    "version": 3
   },
   "file_extension": ".py",
   "mimetype": "text/x-python",
   "name": "python",
   "nbconvert_exporter": "python",
   "pygments_lexer": "ipython3",
   "version": "3.7.6"
  }
 },
 "nbformat": 4,
 "nbformat_minor": 4
}
