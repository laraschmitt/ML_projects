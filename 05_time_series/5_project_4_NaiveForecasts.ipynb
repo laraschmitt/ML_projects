{
 "cells": [
  {
   "cell_type": "code",
   "execution_count": 2,
   "metadata": {},
   "outputs": [],
   "source": [
    "import pandas as pd\n",
    "import matplotlib.pyplot as plt\n",
    "from sklearn.linear_model import LinearRegression"
   ]
  },
  {
   "cell_type": "code",
   "execution_count": 3,
   "metadata": {},
   "outputs": [
    {
     "data": {
      "text/html": [
       "<div>\n",
       "<style scoped>\n",
       "    .dataframe tbody tr th:only-of-type {\n",
       "        vertical-align: middle;\n",
       "    }\n",
       "\n",
       "    .dataframe tbody tr th {\n",
       "        vertical-align: top;\n",
       "    }\n",
       "\n",
       "    .dataframe thead th {\n",
       "        text-align: right;\n",
       "    }\n",
       "</style>\n",
       "<table border=\"1\" class=\"dataframe\">\n",
       "  <thead>\n",
       "    <tr style=\"text-align: right;\">\n",
       "      <th></th>\n",
       "      <th>TG</th>\n",
       "      <th>diff</th>\n",
       "      <th>pct</th>\n",
       "      <th>month</th>\n",
       "      <th>monthly_mean</th>\n",
       "      <th>stationary_temp</th>\n",
       "      <th>detrend_div</th>\n",
       "      <th>detrend_sub</th>\n",
       "    </tr>\n",
       "    <tr>\n",
       "      <th>DATE</th>\n",
       "      <th></th>\n",
       "      <th></th>\n",
       "      <th></th>\n",
       "      <th></th>\n",
       "      <th></th>\n",
       "      <th></th>\n",
       "      <th></th>\n",
       "      <th></th>\n",
       "    </tr>\n",
       "  </thead>\n",
       "  <tbody>\n",
       "    <tr>\n",
       "      <th>1876-01-01</th>\n",
       "      <td>275.35</td>\n",
       "      <td>NaN</td>\n",
       "      <td>NaN</td>\n",
       "      <td>1</td>\n",
       "      <td>-0.005496</td>\n",
       "      <td>NaN</td>\n",
       "      <td>NaN</td>\n",
       "      <td>NaN</td>\n",
       "    </tr>\n",
       "    <tr>\n",
       "      <th>1876-01-02</th>\n",
       "      <td>275.65</td>\n",
       "      <td>0.3</td>\n",
       "      <td>0.001090</td>\n",
       "      <td>1</td>\n",
       "      <td>-0.005496</td>\n",
       "      <td>0.305496</td>\n",
       "      <td>-54.582996</td>\n",
       "      <td>0.305496</td>\n",
       "    </tr>\n",
       "    <tr>\n",
       "      <th>1876-01-03</th>\n",
       "      <td>273.45</td>\n",
       "      <td>-2.2</td>\n",
       "      <td>-0.007981</td>\n",
       "      <td>1</td>\n",
       "      <td>-0.005496</td>\n",
       "      <td>-2.194504</td>\n",
       "      <td>400.275304</td>\n",
       "      <td>-2.194504</td>\n",
       "    </tr>\n",
       "    <tr>\n",
       "      <th>1876-01-04</th>\n",
       "      <td>267.35</td>\n",
       "      <td>-6.1</td>\n",
       "      <td>-0.022308</td>\n",
       "      <td>1</td>\n",
       "      <td>-0.005496</td>\n",
       "      <td>-6.094504</td>\n",
       "      <td>1109.854251</td>\n",
       "      <td>-6.094504</td>\n",
       "    </tr>\n",
       "    <tr>\n",
       "      <th>1876-01-05</th>\n",
       "      <td>263.35</td>\n",
       "      <td>-4.0</td>\n",
       "      <td>-0.014962</td>\n",
       "      <td>1</td>\n",
       "      <td>-0.005496</td>\n",
       "      <td>-3.994504</td>\n",
       "      <td>727.773279</td>\n",
       "      <td>-3.994504</td>\n",
       "    </tr>\n",
       "    <tr>\n",
       "      <th>1876-01-06</th>\n",
       "      <td>265.45</td>\n",
       "      <td>2.1</td>\n",
       "      <td>0.007974</td>\n",
       "      <td>1</td>\n",
       "      <td>-0.005496</td>\n",
       "      <td>2.105496</td>\n",
       "      <td>-382.080972</td>\n",
       "      <td>2.105496</td>\n",
       "    </tr>\n",
       "    <tr>\n",
       "      <th>1876-01-07</th>\n",
       "      <td>266.55</td>\n",
       "      <td>1.1</td>\n",
       "      <td>0.004144</td>\n",
       "      <td>1</td>\n",
       "      <td>-0.005496</td>\n",
       "      <td>1.105496</td>\n",
       "      <td>-200.137652</td>\n",
       "      <td>1.105496</td>\n",
       "    </tr>\n",
       "    <tr>\n",
       "      <th>1876-01-08</th>\n",
       "      <td>264.25</td>\n",
       "      <td>-2.3</td>\n",
       "      <td>-0.008629</td>\n",
       "      <td>1</td>\n",
       "      <td>-0.005496</td>\n",
       "      <td>-2.294504</td>\n",
       "      <td>418.469636</td>\n",
       "      <td>-2.294504</td>\n",
       "    </tr>\n",
       "    <tr>\n",
       "      <th>1876-01-09</th>\n",
       "      <td>260.45</td>\n",
       "      <td>-3.8</td>\n",
       "      <td>-0.014380</td>\n",
       "      <td>1</td>\n",
       "      <td>-0.005496</td>\n",
       "      <td>-3.794504</td>\n",
       "      <td>691.384615</td>\n",
       "      <td>-3.794504</td>\n",
       "    </tr>\n",
       "    <tr>\n",
       "      <th>1876-01-10</th>\n",
       "      <td>264.25</td>\n",
       "      <td>3.8</td>\n",
       "      <td>0.014590</td>\n",
       "      <td>1</td>\n",
       "      <td>-0.005496</td>\n",
       "      <td>3.805496</td>\n",
       "      <td>-691.384615</td>\n",
       "      <td>3.805496</td>\n",
       "    </tr>\n",
       "  </tbody>\n",
       "</table>\n",
       "</div>"
      ],
      "text/plain": [
       "                TG  diff       pct  month  monthly_mean  stationary_temp  \\\n",
       "DATE                                                                       \n",
       "1876-01-01  275.35   NaN       NaN      1     -0.005496              NaN   \n",
       "1876-01-02  275.65   0.3  0.001090      1     -0.005496         0.305496   \n",
       "1876-01-03  273.45  -2.2 -0.007981      1     -0.005496        -2.194504   \n",
       "1876-01-04  267.35  -6.1 -0.022308      1     -0.005496        -6.094504   \n",
       "1876-01-05  263.35  -4.0 -0.014962      1     -0.005496        -3.994504   \n",
       "1876-01-06  265.45   2.1  0.007974      1     -0.005496         2.105496   \n",
       "1876-01-07  266.55   1.1  0.004144      1     -0.005496         1.105496   \n",
       "1876-01-08  264.25  -2.3 -0.008629      1     -0.005496        -2.294504   \n",
       "1876-01-09  260.45  -3.8 -0.014380      1     -0.005496        -3.794504   \n",
       "1876-01-10  264.25   3.8  0.014590      1     -0.005496         3.805496   \n",
       "\n",
       "            detrend_div  detrend_sub  \n",
       "DATE                                  \n",
       "1876-01-01          NaN          NaN  \n",
       "1876-01-02   -54.582996     0.305496  \n",
       "1876-01-03   400.275304    -2.194504  \n",
       "1876-01-04  1109.854251    -6.094504  \n",
       "1876-01-05   727.773279    -3.994504  \n",
       "1876-01-06  -382.080972     2.105496  \n",
       "1876-01-07  -200.137652     1.105496  \n",
       "1876-01-08   418.469636    -2.294504  \n",
       "1876-01-09   691.384615    -3.794504  \n",
       "1876-01-10  -691.384615     3.805496  "
      ]
     },
     "execution_count": 3,
     "metadata": {},
     "output_type": "execute_result"
    }
   ],
   "source": [
    "df = pd.read_csv('data/temp_data_decomposed_stationarized.csv', index_col=0)\n",
    "df.head(10)"
   ]
  },
  {
   "cell_type": "code",
   "execution_count": 4,
   "metadata": {},
   "outputs": [
    {
     "data": {
      "text/plain": [
       "pandas.core.indexes.datetimes.DatetimeIndex"
      ]
     },
     "execution_count": 4,
     "metadata": {},
     "output_type": "execute_result"
    }
   ],
   "source": [
    "#type(df.index) # pandas.core.indexes.base.Index\n",
    "df.index = pd.to_datetime(df.index)\n",
    "type(df.index) # pandas.core.indexes.datetimes.DatetimeIndex"
   ]
  },
  {
   "cell_type": "markdown",
   "metadata": {},
   "source": [
    "### 3.1 Train-Test Split"
   ]
  },
  {
   "cell_type": "markdown",
   "metadata": {},
   "source": [
    "**for forecasting models, no sklearn train test split!\n",
    "instead, cut off e.g. the last 5-10 years (depending on the data)**"
   ]
  },
  {
   "cell_type": "markdown",
   "metadata": {},
   "source": [
    "**NOTE**: dataset should start at jan 1 and end at dec 31 "
   ]
  },
  {
   "cell_type": "code",
   "execution_count": 5,
   "metadata": {},
   "outputs": [
    {
     "name": "stdout",
     "output_type": "stream",
     "text": [
      "                TG  diff  pct  month  monthly_mean  stationary_temp  \\\n",
      "DATE                                                                  \n",
      "1876-01-01  275.35   NaN  NaN      1     -0.005496              NaN   \n",
      "\n",
      "            detrend_div  detrend_sub  \n",
      "DATE                                  \n",
      "1876-01-01          NaN          NaN                   TG  diff       pct  month  monthly_mean  stationary_temp  \\\n",
      "DATE                                                                       \n",
      "2019-12-31  279.15   1.5  0.005402     12     -0.079279         1.579279   \n",
      "\n",
      "            detrend_div  detrend_sub  \n",
      "DATE                                  \n",
      "2019-12-31   -18.920599     1.579279  \n"
     ]
    }
   ],
   "source": [
    "# cut off the last rows of the DF, so that it ends at 31 dec 2019\n",
    "df = df.loc[: '2019-12-31']\n",
    "print(df.head(1), df.tail(1))"
   ]
  },
  {
   "cell_type": "code",
   "execution_count": 6,
   "metadata": {},
   "outputs": [
    {
     "data": {
      "text/plain": [
       "1095"
      ]
     },
     "execution_count": 6,
     "metadata": {},
     "output_type": "execute_result"
    }
   ],
   "source": [
    "X_train = df['stationary_temp'].loc[:'2017-12-31'].copy() # copy prevents warnings\n",
    "\n",
    "# test data from 2017-2019\n",
    "X_test = df['stationary_temp'].loc['2017-01-01':].copy()\n",
    "len(X_test)"
   ]
  },
  {
   "cell_type": "markdown",
   "metadata": {},
   "source": [
    "### 3.2 Naive Forecasts"
   ]
  },
  {
   "cell_type": "code",
   "execution_count": 7,
   "metadata": {
    "scrolled": true
   },
   "outputs": [
    {
     "data": {
      "text/plain": [
       "1095"
      ]
     },
     "execution_count": 7,
     "metadata": {},
     "output_type": "execute_result"
    }
   ],
   "source": [
    "# 3a) predict the mean\n",
    "ymean = X_test.mean()\n",
    "ypred_mean = [ymean] * 1095\n",
    "len(ypred_mean)"
   ]
  },
  {
   "cell_type": "code",
   "execution_count": 8,
   "metadata": {},
   "outputs": [
    {
     "data": {
      "text/plain": [
       "1095"
      ]
     },
     "execution_count": 8,
     "metadata": {},
     "output_type": "execute_result"
    }
   ],
   "source": [
    "# turn it into a series to be able to plot it on the same plot with X_test\n",
    "plot_df= df.loc['2017-01-01':].copy()\n",
    "plot_df['ypred_mean'] = ypred_mean\n",
    "\n",
    "ypred_mean_series = plot_df['ypred_mean']\n",
    "len(ypred_mean_series)\n"
   ]
  },
  {
   "cell_type": "code",
   "execution_count": 9,
   "metadata": {},
   "outputs": [
    {
     "data": {
      "text/plain": [
       "1095"
      ]
     },
     "execution_count": 9,
     "metadata": {},
     "output_type": "execute_result"
    }
   ],
   "source": [
    "# #b) predict the last value seen\n",
    "ylast = X_test[-1]\n",
    "ypred_last = [ylast] * 1095\n",
    "\n",
    "plot_df2= df.loc['2017-01-01':].copy()\n",
    "plot_df2['ypred_last'] = ypred_last\n",
    "\n",
    "ypred_last_series = plot_df2['ypred_last']\n",
    "len(ypred_last_series)"
   ]
  },
  {
   "cell_type": "code",
   "execution_count": 10,
   "metadata": {},
   "outputs": [
    {
     "data": {
      "text/plain": [
       "[<matplotlib.lines.Line2D at 0x1a1a4178d0>]"
      ]
     },
     "execution_count": 10,
     "metadata": {},
     "output_type": "execute_result"
    },
    {
     "data": {
      "image/png": "[encoded data removed]",
      "text/plain": [
       "<Figure size 432x288 with 1 Axes>"
      ]
     },
     "metadata": {
      "needs_background": "light"
     },
     "output_type": "display_data"
    }
   ],
   "source": [
    "plt.plot(X_test)\n",
    "#plt.plot(ypred_mean_series) \n",
    "plt.plot(ypred_last_series) \n"
   ]
  },
  {
   "cell_type": "code",
   "execution_count": 11,
   "metadata": {},
   "outputs": [
    {
     "name": "stdout",
     "output_type": "stream",
     "text": [
      "2.2172726583318636\n"
     ]
    }
   ],
   "source": [
    "from sklearn import metrics\n",
    "\n",
    "print(metrics.mean_absolute_error(X_test, ypred_last_series))"
   ]
  },
  {
   "cell_type": "code",
   "execution_count": null,
   "metadata": {},
   "outputs": [],
   "source": []
  }
 ],
 "metadata": {
  "kernelspec": {
   "display_name": "Python 3",
   "language": "python",
   "name": "python3"
  },
  "language_info": {
   "codemirror_mode": {
    "name": "ipython",
    "version": 3
   },
   "file_extension": ".py",
   "mimetype": "text/x-python",
   "name": "python",
   "nbconvert_exporter": "python",
   "pygments_lexer": "ipython3",
   "version": "3.7.6"
  }
 },
 "nbformat": 4,
 "nbformat_minor": 4
}
