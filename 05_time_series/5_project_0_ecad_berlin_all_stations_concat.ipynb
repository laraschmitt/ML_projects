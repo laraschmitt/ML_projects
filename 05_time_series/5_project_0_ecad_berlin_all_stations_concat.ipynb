{
 "cells": [
  {
   "cell_type": "code",
   "execution_count": 1,
   "metadata": {},
   "outputs": [],
   "source": [
    "from bs4 import BeautifulSoup\n",
    "import requests\n",
    "import os\n",
    "import pandas as pd\n",
    "import glob\n",
    "import re"
   ]
  },
  {
   "cell_type": "code",
   "execution_count": 2,
   "metadata": {},
   "outputs": [],
   "source": [
    "ecad_custom = requests.get('https://www.ecad.eu/dailydata/customquery.php?optionSelected=element&processtext1=Your+query+is+being+processed.+Please+wait...&blendingselect=yes&countryselect=GERMANY%7Cde&stationselect=All+stations%7C**&elementselect=Mean+temperature%7Ctg&processtext2=Your+query+is+being+processed.+Please+wait...')"
   ]
  },
  {
   "cell_type": "code",
   "execution_count": 3,
   "metadata": {},
   "outputs": [],
   "source": [
    "# requests.text will return the html file of the website as a string"
   ]
  },
  {
   "cell_type": "code",
   "execution_count": 4,
   "metadata": {},
   "outputs": [],
   "source": [
    "# print(ecad_custom.text) # hmtl string"
   ]
  },
  {
   "cell_type": "code",
   "execution_count": 5,
   "metadata": {},
   "outputs": [],
   "source": [
    "soup = BeautifulSoup(ecad_custom.text, 'lxml')\n",
    "# print(soup)"
   ]
  },
  {
   "cell_type": "code",
   "execution_count": 6,
   "metadata": {},
   "outputs": [
    {
     "name": "stdout",
     "output_type": "stream",
     "text": [
      "['BERLIN-ADLERSHOF[de]|11736', 'BERLIN-BUCH[de]|4529', 'BERLIN-DAHLEM (LFAG)[de]|4533', 'BERLIN-DAHLEM[de]|41', 'BERLIN-FRIEDRICHSHAGEN[de]|11737', 'BERLIN-FROHNAU[de]|11738', 'BERLIN-INVALIDENSTRASSE[de]|11739', 'BERLIN-KANISWALL[de]|4546', 'BERLIN-LICHTENRADE[de]|4556', 'BERLIN-LICHTERFELDE (SUD)[de]|4559', 'BERLIN-MARZAHN[de]|4561', 'BERLIN-MITTE[de]|4563', 'BERLIN-OSTKREUZ[de]|11740', 'BERLIN-RUDOW[de]|4566', 'BERLIN-SCHONEFELD[de]|4570', 'BERLIN-SPANDAU[de]|4575', 'BERLIN-TEGELER FLIESSTAL[de]|4581', 'BERLIN-TEGEL[de]|4005', 'BERLIN-TEMPELHOF[de]|2759', 'BERLIN-TREPTOW[de]|4586', 'BERLIN-ZEHLENDORF[de]|4588']\n"
     ]
    }
   ],
   "source": [
    "# get all berlin station names\n",
    "s = soup.find('select', attrs={\"name\":\"stationselect\"})\n",
    "berlin_stations = []\n",
    "for option in s.find_all('option'):\n",
    "    station_name = option.get('value')\n",
    "    if 'BERLIN-' in station_name:\n",
    "        berlin_stations.append(station_name)\n",
    "\n",
    "print(berlin_stations)\n",
    "    "
   ]
  },
  {
   "cell_type": "code",
   "execution_count": 7,
   "metadata": {},
   "outputs": [],
   "source": [
    "# remove the first few lines from the txt files"
   ]
  },
  {
   "cell_type": "code",
   "execution_count": 8,
   "metadata": {},
   "outputs": [],
   "source": [
    "for file in os.listdir('data/ECA_blended_custom/'):\n",
    "    #print(file)\n",
    "    if file.startswith('TG_STAID'):\n",
    "        current_file = file\n",
    "        #print(current_file)\n",
    "        \n",
    "        with open('data/ECA_blended_custom/' + current_file, \"r\") as f:\n",
    "            content = f.readlines()\n",
    "            content = content[18:]\n",
    "            #print(content)\n",
    "            #print(type(content)) # is a list\n",
    "            string ='\\n'.join(content)\n",
    "            new_f = open(f\"data/berlin_temp_clean/cleaned_{current_file}\", \"w\") \n",
    "            new_f.write(string)"
   ]
  },
  {
   "cell_type": "code",
   "execution_count": 9,
   "metadata": {},
   "outputs": [],
   "source": [
    "# import all temperature files and concatenate to one big dataframe\n",
    "path = 'data/berlin_temp_clean/' \n",
    "all_files = glob.glob(path + \"clean*.txt\")\n",
    "\n",
    "temp_file_list = []\n",
    "\n",
    "for filename in all_files:\n",
    "    \n",
    "    # find station number in filename\n",
    "    station = re.findall('(0+)(\\d*)', filename)[0][1]\n",
    "    station_name = \"\"\n",
    "    \n",
    "    # match station number with station name from \"BeautifulSoup\" list \n",
    "    for berlin_station in berlin_stations:\n",
    "        berlin_station_name = re.match('\\w{6}\\-\\w{2,}[^\\[]', berlin_station)\n",
    "        if station in berlin_station:\n",
    "            station_name = berlin_station_name.group(0)\n",
    "\n",
    "    single_df = pd.read_csv(filename, index_col=None, header=0).assign(Station=station, Station_name=station_name)\n",
    "    \n",
    "    temp_file_list.append(single_df)\n",
    "\n",
    "df = pd.concat(temp_file_list, axis=0, ignore_index=True)"
   ]
  },
  {
   "cell_type": "code",
   "execution_count": 10,
   "metadata": {},
   "outputs": [
    {
     "data": {
      "text/html": [
       "<div>\n",
       "<style scoped>\n",
       "    .dataframe tbody tr th:only-of-type {\n",
       "        vertical-align: middle;\n",
       "    }\n",
       "\n",
       "    .dataframe tbody tr th {\n",
       "        vertical-align: top;\n",
       "    }\n",
       "\n",
       "    .dataframe thead th {\n",
       "        text-align: right;\n",
       "    }\n",
       "</style>\n",
       "<table border=\"1\" class=\"dataframe\">\n",
       "  <thead>\n",
       "    <tr style=\"text-align: right;\">\n",
       "      <th></th>\n",
       "      <th>SOUID</th>\n",
       "      <th>DATE</th>\n",
       "      <th>TG</th>\n",
       "      <th>Q_TG</th>\n",
       "      <th>Station</th>\n",
       "      <th>Station_name</th>\n",
       "    </tr>\n",
       "  </thead>\n",
       "  <tbody>\n",
       "    <tr>\n",
       "      <th>0</th>\n",
       "      <td>127488</td>\n",
       "      <td>18760101</td>\n",
       "      <td>22</td>\n",
       "      <td>0</td>\n",
       "      <td>4005</td>\n",
       "      <td>BERLIN-TEGEL</td>\n",
       "    </tr>\n",
       "    <tr>\n",
       "      <th>1</th>\n",
       "      <td>127488</td>\n",
       "      <td>18760102</td>\n",
       "      <td>25</td>\n",
       "      <td>0</td>\n",
       "      <td>4005</td>\n",
       "      <td>BERLIN-TEGEL</td>\n",
       "    </tr>\n",
       "    <tr>\n",
       "      <th>2</th>\n",
       "      <td>127488</td>\n",
       "      <td>18760103</td>\n",
       "      <td>3</td>\n",
       "      <td>0</td>\n",
       "      <td>4005</td>\n",
       "      <td>BERLIN-TEGEL</td>\n",
       "    </tr>\n",
       "    <tr>\n",
       "      <th>3</th>\n",
       "      <td>127488</td>\n",
       "      <td>18760104</td>\n",
       "      <td>-58</td>\n",
       "      <td>0</td>\n",
       "      <td>4005</td>\n",
       "      <td>BERLIN-TEGEL</td>\n",
       "    </tr>\n",
       "    <tr>\n",
       "      <th>4</th>\n",
       "      <td>127488</td>\n",
       "      <td>18760105</td>\n",
       "      <td>-98</td>\n",
       "      <td>0</td>\n",
       "      <td>4005</td>\n",
       "      <td>BERLIN-TEGEL</td>\n",
       "    </tr>\n",
       "  </tbody>\n",
       "</table>\n",
       "</div>"
      ],
      "text/plain": [
       "    SOUID      DATE     TG   Q_TG Station  Station_name\n",
       "0  127488  18760101     22      0    4005  BERLIN-TEGEL\n",
       "1  127488  18760102     25      0    4005  BERLIN-TEGEL\n",
       "2  127488  18760103      3      0    4005  BERLIN-TEGEL\n",
       "3  127488  18760104    -58      0    4005  BERLIN-TEGEL\n",
       "4  127488  18760105    -98      0    4005  BERLIN-TEGEL"
      ]
     },
     "execution_count": 10,
     "metadata": {},
     "output_type": "execute_result"
    }
   ],
   "source": [
    "df.head()"
   ]
  },
  {
   "cell_type": "code",
   "execution_count": 11,
   "metadata": {},
   "outputs": [
    {
     "data": {
      "text/plain": [
       "<bound method IndexOpsMixin.value_counts of 0         4005\n",
       "1         4005\n",
       "2         4005\n",
       "3         4005\n",
       "4         4005\n",
       "          ... \n",
       "712679    4586\n",
       "712680    4586\n",
       "712681    4586\n",
       "712682    4586\n",
       "712683    4586\n",
       "Name: Station, Length: 712684, dtype: object>"
      ]
     },
     "execution_count": 11,
     "metadata": {},
     "output_type": "execute_result"
    }
   ],
   "source": [
    "df['Station'].value_counts"
   ]
  },
  {
   "cell_type": "code",
   "execution_count": 12,
   "metadata": {},
   "outputs": [
    {
     "data": {
      "text/plain": [
       "(712684, 6)"
      ]
     },
     "execution_count": 12,
     "metadata": {},
     "output_type": "execute_result"
    }
   ],
   "source": [
    "df.shape"
   ]
  },
  {
   "cell_type": "code",
   "execution_count": 13,
   "metadata": {},
   "outputs": [],
   "source": [
    "df.to_csv('data/berlin_temp_clean/berlin_all_districts_temp.csv', index=True)"
   ]
  },
  {
   "cell_type": "code",
   "execution_count": null,
   "metadata": {},
   "outputs": [],
   "source": []
  }
 ],
 "metadata": {
  "kernelspec": {
   "display_name": "Python 3",
   "language": "python",
   "name": "python3"
  },
  "language_info": {
   "codemirror_mode": {
    "name": "ipython",
    "version": 3
   },
   "file_extension": ".py",
   "mimetype": "text/x-python",
   "name": "python",
   "nbconvert_exporter": "python",
   "pygments_lexer": "ipython3",
   "version": "3.7.6"
  }
 },
 "nbformat": 4,
 "nbformat_minor": 4
}
