{
 "cells": [
  {
   "cell_type": "code",
   "execution_count": 23,
   "metadata": {},
   "outputs": [],
   "source": [
    "from bs4 import BeautifulSoup\n",
    "import requests\n",
    "import os\n",
    "import pandas as pd\n",
    "import glob"
   ]
  },
  {
   "cell_type": "code",
   "execution_count": 24,
   "metadata": {},
   "outputs": [],
   "source": [
    "ecad_custom = requests.get('https://www.ecad.eu/dailydata/customquery.php?optionSelected=element&processtext1=Your+query+is+being+processed.+Please+wait...&blendingselect=yes&countryselect=GERMANY%7Cde&stationselect=All+stations%7C**&elementselect=Mean+temperature%7Ctg&processtext2=Your+query+is+being+processed.+Please+wait...')"
   ]
  },
  {
   "cell_type": "code",
   "execution_count": 25,
   "metadata": {},
   "outputs": [],
   "source": [
    "# requests.text will return the html file of the website as a string"
   ]
  },
  {
   "cell_type": "code",
   "execution_count": 26,
   "metadata": {},
   "outputs": [],
   "source": [
    "# print(ecad_custom.text) # hmtl string"
   ]
  },
  {
   "cell_type": "code",
   "execution_count": 27,
   "metadata": {},
   "outputs": [],
   "source": [
    "soup = BeautifulSoup(ecad_custom.text, 'lxml')\n",
    "# print(soup)"
   ]
  },
  {
   "cell_type": "code",
   "execution_count": 28,
   "metadata": {},
   "outputs": [
    {
     "name": "stdout",
     "output_type": "stream",
     "text": [
      "['BERLIN-ADLERSHOF[de]|11736', 'BERLIN-BUCH[de]|4529', 'BERLIN-DAHLEM (LFAG)[de]|4533', 'BERLIN-DAHLEM[de]|41', 'BERLIN-FRIEDRICHSHAGEN[de]|11737', 'BERLIN-FROHNAU[de]|11738', 'BERLIN-INVALIDENSTRASSE[de]|11739', 'BERLIN-KANISWALL[de]|4546', 'BERLIN-LICHTENRADE[de]|4556', 'BERLIN-LICHTERFELDE (SUD)[de]|4559', 'BERLIN-MARZAHN[de]|4561', 'BERLIN-MITTE[de]|4563', 'BERLIN-OSTKREUZ[de]|11740', 'BERLIN-RUDOW[de]|4566', 'BERLIN-SCHONEFELD[de]|4570', 'BERLIN-SPANDAU[de]|4575', 'BERLIN-TEGELER FLIESSTAL[de]|4581', 'BERLIN-TEGEL[de]|4005', 'BERLIN-TEMPELHOF[de]|2759', 'BERLIN-TREPTOW[de]|4586', 'BERLIN-ZEHLENDORF[de]|4588']\n"
     ]
    }
   ],
   "source": [
    "# get all berlin station names\n",
    "s = soup.find('select', attrs={\"name\":\"stationselect\"})\n",
    "berlin_stations = []\n",
    "for option in s.find_all('option'):\n",
    "    station_name = option.get('value')\n",
    "    if 'BERLIN-' in station_name:\n",
    "        berlin_stations.append(station_name)\n",
    "\n",
    "print(berlin_stations)\n",
    "    "
   ]
  },
  {
   "cell_type": "code",
   "execution_count": 29,
   "metadata": {},
   "outputs": [],
   "source": [
    "# remove the first few lines from the txt files"
   ]
  },
  {
   "cell_type": "code",
   "execution_count": 30,
   "metadata": {},
   "outputs": [
    {
     "name": "stdout",
     "output_type": "stream",
     "text": [
      "TG_STAID002759.txt\n",
      "TG_STAID011737.txt\n",
      "TG_STAID011736.txt\n",
      "TG_STAID004533.txt\n",
      "TG_STAID000041.txt\n"
     ]
    }
   ],
   "source": [
    "for file in os.listdir('data/ECA_blended_custom/'):\n",
    "    #print(file)\n",
    "    if file.startswith('TG_STAID'):\n",
    "        current_file = file\n",
    "        print(current_file)\n",
    "        \n",
    "        with open('data/ECA_blended_custom/' + current_file, \"r\") as f:\n",
    "            content = f.readlines()\n",
    "            content = content[18:]\n",
    "            #print(content)\n",
    "            #print(type(content)) # is a list\n",
    "            string ='\\n'.join(content)\n",
    "            new_f = open(f\"data/berlin_temp_clean/cleaned_{current_file}\", \"w\") \n",
    "            new_f.write(string)"
   ]
  },
  {
   "cell_type": "code",
   "execution_count": 31,
   "metadata": {},
   "outputs": [],
   "source": [
    "import re"
   ]
  },
  {
   "cell_type": "code",
   "execution_count": 32,
   "metadata": {},
   "outputs": [
    {
     "name": "stdout",
     "output_type": "stream",
     "text": [
      "data/berlin_temp_clean/cleaned_TG_STAID011736.txt\n",
      "[]\n"
     ]
    }
   ],
   "source": [
    "# impott all temperature files and concatenate to one big dataframe\n",
    "path = 'data/berlin_temp_clean/' # use your path\n",
    "all_files = glob.glob(path + \"clean*.txt\")\n",
    "\n",
    "\n",
    "\n",
    "print(all_files[0])\n",
    "pattern = 'STAID\\w+'\n",
    "station = re.findall('STAID\\w+', path)\n",
    "print(station)\n"
   ]
  },
  {
   "cell_type": "code",
   "execution_count": null,
   "metadata": {},
   "outputs": [],
   "source": []
  },
  {
   "cell_type": "code",
   "execution_count": 89,
   "metadata": {},
   "outputs": [],
   "source": [
    "# impott all temperature files and concatenate to one big dataframe\n",
    "path = 'data/berlin_temp_clean/' \n",
    "all_files = glob.glob(path + \"clean*.txt\")\n",
    "\n",
    "temp_file_list = []\n",
    "\n",
    "for filename in all_files:\n",
    "    station = re.findall('(0+)(\\d*)', filename)[0][1]\n",
    "    station_name = \"\"\n",
    "    for berlin_station in berlin_stations:\n",
    "        berlin_station_name = re.match('\\w{6}\\-\\w{2,}[^\\[]', berlin_station)\n",
    "        if station in berlin_station:\n",
    "            station_name = berlin_station_name.group(0)\n",
    "\n",
    "    single_df = pd.read_csv(filename, index_col=None, header=0).assign(Station=station, Station_name=station_name)\n",
    "    \n",
    "    temp_file_list.append(single_df)\n",
    "\n",
    "df = pd.concat(temp_file_list, axis=0, ignore_index=True)"
   ]
  },
  {
   "cell_type": "code",
   "execution_count": 90,
   "metadata": {},
   "outputs": [
    {
     "data": {
      "text/html": [
       "<div>\n",
       "<style scoped>\n",
       "    .dataframe tbody tr th:only-of-type {\n",
       "        vertical-align: middle;\n",
       "    }\n",
       "\n",
       "    .dataframe tbody tr th {\n",
       "        vertical-align: top;\n",
       "    }\n",
       "\n",
       "    .dataframe thead th {\n",
       "        text-align: right;\n",
       "    }\n",
       "</style>\n",
       "<table border=\"1\" class=\"dataframe\">\n",
       "  <thead>\n",
       "    <tr style=\"text-align: right;\">\n",
       "      <th></th>\n",
       "      <th>SOUID</th>\n",
       "      <th>DATE</th>\n",
       "      <th>TG</th>\n",
       "      <th>Q_TG</th>\n",
       "      <th>Station</th>\n",
       "      <th>Station_name</th>\n",
       "    </tr>\n",
       "  </thead>\n",
       "  <tbody>\n",
       "    <tr>\n",
       "      <th>0</th>\n",
       "      <td>180888</td>\n",
       "      <td>19480701</td>\n",
       "      <td>126</td>\n",
       "      <td>0</td>\n",
       "      <td>11736</td>\n",
       "      <td>BERLIN-ADLERSHOF</td>\n",
       "    </tr>\n",
       "    <tr>\n",
       "      <th>1</th>\n",
       "      <td>180888</td>\n",
       "      <td>19480702</td>\n",
       "      <td>160</td>\n",
       "      <td>0</td>\n",
       "      <td>11736</td>\n",
       "      <td>BERLIN-ADLERSHOF</td>\n",
       "    </tr>\n",
       "    <tr>\n",
       "      <th>2</th>\n",
       "      <td>180888</td>\n",
       "      <td>19480703</td>\n",
       "      <td>126</td>\n",
       "      <td>0</td>\n",
       "      <td>11736</td>\n",
       "      <td>BERLIN-ADLERSHOF</td>\n",
       "    </tr>\n",
       "    <tr>\n",
       "      <th>3</th>\n",
       "      <td>180888</td>\n",
       "      <td>19480704</td>\n",
       "      <td>160</td>\n",
       "      <td>0</td>\n",
       "      <td>11736</td>\n",
       "      <td>BERLIN-ADLERSHOF</td>\n",
       "    </tr>\n",
       "    <tr>\n",
       "      <th>4</th>\n",
       "      <td>180888</td>\n",
       "      <td>19480705</td>\n",
       "      <td>174</td>\n",
       "      <td>0</td>\n",
       "      <td>11736</td>\n",
       "      <td>BERLIN-ADLERSHOF</td>\n",
       "    </tr>\n",
       "  </tbody>\n",
       "</table>\n",
       "</div>"
      ],
      "text/plain": [
       "    SOUID      DATE     TG   Q_TG Station      Station_name\n",
       "0  180888  19480701    126      0   11736  BERLIN-ADLERSHOF\n",
       "1  180888  19480702    160      0   11736  BERLIN-ADLERSHOF\n",
       "2  180888  19480703    126      0   11736  BERLIN-ADLERSHOF\n",
       "3  180888  19480704    160      0   11736  BERLIN-ADLERSHOF\n",
       "4  180888  19480705    174      0   11736  BERLIN-ADLERSHOF"
      ]
     },
     "execution_count": 90,
     "metadata": {},
     "output_type": "execute_result"
    }
   ],
   "source": [
    "df.head()"
   ]
  },
  {
   "cell_type": "code",
   "execution_count": 35,
   "metadata": {},
   "outputs": [
    {
     "data": {
      "text/plain": [
       "<bound method IndexOpsMixin.value_counts of 0         'STAID011736'\n",
       "1         'STAID011736'\n",
       "2         'STAID011736'\n",
       "3         'STAID011736'\n",
       "4         'STAID011736'\n",
       "              ...      \n",
       "211077    'STAID000041'\n",
       "211078    'STAID000041'\n",
       "211079    'STAID000041'\n",
       "211080    'STAID000041'\n",
       "211081    'STAID000041'\n",
       "Name: Station, Length: 211082, dtype: object>"
      ]
     },
     "execution_count": 35,
     "metadata": {},
     "output_type": "execute_result"
    }
   ],
   "source": [
    "df['Station'].value_counts"
   ]
  },
  {
   "cell_type": "code",
   "execution_count": 82,
   "metadata": {},
   "outputs": [
    {
     "data": {
      "text/html": [
       "<div>\n",
       "<style scoped>\n",
       "    .dataframe tbody tr th:only-of-type {\n",
       "        vertical-align: middle;\n",
       "    }\n",
       "\n",
       "    .dataframe tbody tr th {\n",
       "        vertical-align: top;\n",
       "    }\n",
       "\n",
       "    .dataframe thead th {\n",
       "        text-align: right;\n",
       "    }\n",
       "</style>\n",
       "<table border=\"1\" class=\"dataframe\">\n",
       "  <thead>\n",
       "    <tr style=\"text-align: right;\">\n",
       "      <th></th>\n",
       "      <th>SOUID</th>\n",
       "      <th>DATE</th>\n",
       "      <th>TG</th>\n",
       "      <th>Q_TG</th>\n",
       "      <th>Station</th>\n",
       "      <th>Station_name</th>\n",
       "    </tr>\n",
       "  </thead>\n",
       "  <tbody>\n",
       "    <tr>\n",
       "      <th>0</th>\n",
       "      <td>180888</td>\n",
       "      <td>19480701</td>\n",
       "      <td>126</td>\n",
       "      <td>0</td>\n",
       "      <td>11736</td>\n",
       "      <td></td>\n",
       "    </tr>\n",
       "    <tr>\n",
       "      <th>1</th>\n",
       "      <td>180888</td>\n",
       "      <td>19480702</td>\n",
       "      <td>160</td>\n",
       "      <td>0</td>\n",
       "      <td>11736</td>\n",
       "      <td></td>\n",
       "    </tr>\n",
       "    <tr>\n",
       "      <th>2</th>\n",
       "      <td>180888</td>\n",
       "      <td>19480703</td>\n",
       "      <td>126</td>\n",
       "      <td>0</td>\n",
       "      <td>11736</td>\n",
       "      <td></td>\n",
       "    </tr>\n",
       "    <tr>\n",
       "      <th>3</th>\n",
       "      <td>180888</td>\n",
       "      <td>19480704</td>\n",
       "      <td>160</td>\n",
       "      <td>0</td>\n",
       "      <td>11736</td>\n",
       "      <td></td>\n",
       "    </tr>\n",
       "    <tr>\n",
       "      <th>4</th>\n",
       "      <td>180888</td>\n",
       "      <td>19480705</td>\n",
       "      <td>174</td>\n",
       "      <td>0</td>\n",
       "      <td>11736</td>\n",
       "      <td></td>\n",
       "    </tr>\n",
       "  </tbody>\n",
       "</table>\n",
       "</div>"
      ],
      "text/plain": [
       "    SOUID      DATE     TG   Q_TG Station Station_name\n",
       "0  180888  19480701    126      0   11736             \n",
       "1  180888  19480702    160      0   11736             \n",
       "2  180888  19480703    126      0   11736             \n",
       "3  180888  19480704    160      0   11736             \n",
       "4  180888  19480705    174      0   11736             "
      ]
     },
     "execution_count": 82,
     "metadata": {},
     "output_type": "execute_result"
    }
   ],
   "source": [
    "df['Station_name'] = \"\"\n",
    "df.head()"
   ]
  },
  {
   "cell_type": "code",
   "execution_count": 36,
   "metadata": {},
   "outputs": [
    {
     "data": {
      "text/plain": [
       "(211082, 5)"
      ]
     },
     "execution_count": 36,
     "metadata": {},
     "output_type": "execute_result"
    }
   ],
   "source": [
    "df.shape"
   ]
  },
  {
   "cell_type": "code",
   "execution_count": 77,
   "metadata": {},
   "outputs": [
    {
     "data": {
      "text/plain": [
       "['BERLIN-ADLERSHOF[de]|11736',\n",
       " 'BERLIN-BUCH[de]|4529',\n",
       " 'BERLIN-DAHLEM (LFAG)[de]|4533',\n",
       " 'BERLIN-DAHLEM[de]|41',\n",
       " 'BERLIN-FRIEDRICHSHAGEN[de]|11737',\n",
       " 'BERLIN-FROHNAU[de]|11738',\n",
       " 'BERLIN-INVALIDENSTRASSE[de]|11739',\n",
       " 'BERLIN-KANISWALL[de]|4546',\n",
       " 'BERLIN-LICHTENRADE[de]|4556',\n",
       " 'BERLIN-LICHTERFELDE (SUD)[de]|4559',\n",
       " 'BERLIN-MARZAHN[de]|4561',\n",
       " 'BERLIN-MITTE[de]|4563',\n",
       " 'BERLIN-OSTKREUZ[de]|11740',\n",
       " 'BERLIN-RUDOW[de]|4566',\n",
       " 'BERLIN-SCHONEFELD[de]|4570',\n",
       " 'BERLIN-SPANDAU[de]|4575',\n",
       " 'BERLIN-TEGELER FLIESSTAL[de]|4581',\n",
       " 'BERLIN-TEGEL[de]|4005',\n",
       " 'BERLIN-TEMPELHOF[de]|2759',\n",
       " 'BERLIN-TREPTOW[de]|4586',\n",
       " 'BERLIN-ZEHLENDORF[de]|4588']"
      ]
     },
     "execution_count": 77,
     "metadata": {},
     "output_type": "execute_result"
    }
   ],
   "source": [
    "berlin_stations"
   ]
  },
  {
   "cell_type": "code",
   "execution_count": 83,
   "metadata": {},
   "outputs": [],
   "source": []
  },
  {
   "cell_type": "code",
   "execution_count": 84,
   "metadata": {},
   "outputs": [
    {
     "data": {
      "text/html": [
       "<div>\n",
       "<style scoped>\n",
       "    .dataframe tbody tr th:only-of-type {\n",
       "        vertical-align: middle;\n",
       "    }\n",
       "\n",
       "    .dataframe tbody tr th {\n",
       "        vertical-align: top;\n",
       "    }\n",
       "\n",
       "    .dataframe thead th {\n",
       "        text-align: right;\n",
       "    }\n",
       "</style>\n",
       "<table border=\"1\" class=\"dataframe\">\n",
       "  <thead>\n",
       "    <tr style=\"text-align: right;\">\n",
       "      <th></th>\n",
       "      <th>SOUID</th>\n",
       "      <th>DATE</th>\n",
       "      <th>TG</th>\n",
       "      <th>Q_TG</th>\n",
       "      <th>Station</th>\n",
       "      <th>Station_name</th>\n",
       "    </tr>\n",
       "  </thead>\n",
       "  <tbody>\n",
       "    <tr>\n",
       "      <th>0</th>\n",
       "      <td>180888</td>\n",
       "      <td>19480701</td>\n",
       "      <td>126</td>\n",
       "      <td>0</td>\n",
       "      <td>11736</td>\n",
       "      <td>BERLIN-ADLERSHOF</td>\n",
       "    </tr>\n",
       "    <tr>\n",
       "      <th>1</th>\n",
       "      <td>180888</td>\n",
       "      <td>19480702</td>\n",
       "      <td>160</td>\n",
       "      <td>0</td>\n",
       "      <td>11736</td>\n",
       "      <td>BERLIN-ADLERSHOF</td>\n",
       "    </tr>\n",
       "    <tr>\n",
       "      <th>2</th>\n",
       "      <td>180888</td>\n",
       "      <td>19480703</td>\n",
       "      <td>126</td>\n",
       "      <td>0</td>\n",
       "      <td>11736</td>\n",
       "      <td>BERLIN-ADLERSHOF</td>\n",
       "    </tr>\n",
       "    <tr>\n",
       "      <th>3</th>\n",
       "      <td>180888</td>\n",
       "      <td>19480704</td>\n",
       "      <td>160</td>\n",
       "      <td>0</td>\n",
       "      <td>11736</td>\n",
       "      <td>BERLIN-ADLERSHOF</td>\n",
       "    </tr>\n",
       "    <tr>\n",
       "      <th>4</th>\n",
       "      <td>180888</td>\n",
       "      <td>19480705</td>\n",
       "      <td>174</td>\n",
       "      <td>0</td>\n",
       "      <td>11736</td>\n",
       "      <td>BERLIN-ADLERSHOF</td>\n",
       "    </tr>\n",
       "  </tbody>\n",
       "</table>\n",
       "</div>"
      ],
      "text/plain": [
       "    SOUID      DATE     TG   Q_TG Station      Station_name\n",
       "0  180888  19480701    126      0   11736  BERLIN-ADLERSHOF\n",
       "1  180888  19480702    160      0   11736  BERLIN-ADLERSHOF\n",
       "2  180888  19480703    126      0   11736  BERLIN-ADLERSHOF\n",
       "3  180888  19480704    160      0   11736  BERLIN-ADLERSHOF\n",
       "4  180888  19480705    174      0   11736  BERLIN-ADLERSHOF"
      ]
     },
     "execution_count": 84,
     "metadata": {},
     "output_type": "execute_result"
    }
   ],
   "source": []
  },
  {
   "cell_type": "code",
   "execution_count": null,
   "metadata": {},
   "outputs": [],
   "source": []
  }
 ],
 "metadata": {
  "kernelspec": {
   "display_name": "Python 3",
   "language": "python",
   "name": "python3"
  },
  "language_info": {
   "codemirror_mode": {
    "name": "ipython",
    "version": 3
   },
   "file_extension": ".py",
   "mimetype": "text/x-python",
   "name": "python",
   "nbconvert_exporter": "python",
   "pygments_lexer": "ipython3",
   "version": "3.7.6"
  }
 },
 "nbformat": 4,
 "nbformat_minor": 4
}
